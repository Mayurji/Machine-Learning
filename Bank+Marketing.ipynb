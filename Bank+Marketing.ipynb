{
 "cells": [
  {
   "cell_type": "code",
   "execution_count": 164,
   "metadata": {},
   "outputs": [
    {
     "name": "stdout",
     "output_type": "stream",
     "text": [
      "secondary    23202\n",
      "tertiary     13301\n",
      "primary       6851\n",
      "unknown       1857\n",
      "Name: education, dtype: int64\n"
     ]
    }
   ],
   "source": [
    "import pandas as pd\n",
    "import numpy as np\n",
    "#from decimal import Decimal\n",
    "from sklearn.cross_validation import train_test_split\n",
    "from sklearn.metrics import accuracy_score\n",
    "from sklearn.naive_bayes import GaussianNB\n",
    "from sklearn.naive_bayes import BernoulliNB\n",
    "import matplotlib.pyplot as pp\n",
    "from sklearn import svm\n",
    "from sklearn.ensemble import RandomForestClassifier\n",
    "import math\n",
    "data = pd.read_csv('/Users/mayurjain/Documents/Fragma ML TEST/marketing-data.csv',sep=',',header='infer')\n",
    "#print(data.education.unique())\n",
    "#print(data.education.value_counts())\n",
    "# sec = (data.education.value_counts()[0]/ len(data.education) * 100).tolist()\n",
    "# pri = (data.education.value_counts()[1]/ len(data.education) * 100).tolist()\n",
    "# teri = (data.education.value_counts()[2]/ len(data.education) * 100).tolist()\n",
    "# tot = sec + pri + teri\n",
    "# sec_unk = math.ceil((sec/tot) * 100)\n",
    "# pri_unk = math.ceil((pri/tot) * 100)\n",
    "# teri_unk = math.ceil((teri/tot) * 100) -1\n",
    "# unk_sec = math.ceil((data.education.value_counts()[3] * sec_unk) / 100 )\n",
    "# unk_pri = math.ceil((data.education.value_counts()[3] * pri_unk) / 100 )\n",
    "# unk_teri = math.ceil((data.education.value_counts()[3] * teri_unk) / 100 ) -1 \n",
    "\n",
    "# for i in range(data.education.value_counts()[3]):\n",
    "#     for j in range(len(data['education'])):\n",
    "#         if i != unk_sec:\n",
    "#             if data['education'][j] == 'unknown':\n",
    "#                 data['education'][j] = 'secondary'\n",
    "#         elif i != unk_sec+unk_pri:\n",
    "#             if data['education'][j] == 'unknown':\n",
    "#                 data['education'][j] = 'primary'\n",
    "#         elif i != unk_sec+unk_pri+unk_teri:\n",
    "#             if data['education'][j] == 'unknown':\n",
    "#                 data['education'][j] = 'tertiary'\n",
    "#         else:\n",
    "#             break\n",
    "            \n",
    "def binaryType_(data):\n",
    "    \n",
    "    data.is_success.replace(('yes', 'no'), (1, 0), inplace=True)\n",
    "    data.default.replace(('yes','no'),(1,0),inplace=True)\n",
    "    data.housing.replace(('yes','no'),(1,0),inplace=True)\n",
    "    data.loan.replace(('yes','no'),(1,0),inplace=True)\n",
    "    return data\n",
    "\n",
    "data = binaryType_(data)\n",
    "#data.loc(data['education'][i].replace(('unknown'), ('secondary'), inplace=True) for i in range(unk_sec) if data['education'] == 'unknown') \n",
    "#print(data.columns)\n",
    "#print(data.marital.unique())\n",
    "#print(data[['marital', 'is_success']].groupby(['marital'], as_index=False).mean())\n",
    "for i in range(len(data.marital.unique())):\n",
    "    data[\"marital_\"+str(data.marital.unique()[i])] = (data.marital == data.marital.unique()[i]).astype(int)\n",
    "\n",
    "for j in range(len(data.job.unique())):\n",
    "    data[\"job_\"+str(data.job.unique()[j])] = (data.job == data.job.unique()[j]).astype(int)\n",
    "\n",
    "for k in range(len(data.contact.unique())):\n",
    "    data[\"contact_\"+str(data.contact.unique()[k])] = (data.contact == data.contact.unique()[k]).astype(int)\n",
    "\n",
    "for l in range(len(data.education.unique())):\n",
    "    data['education_'+str(data.education.unique()[l])] = (data.education == data.education.unique()[l]).astype(int)\n",
    "    \n",
    "#for m in range(len(data.poutcome.unique())):\n",
    "#    data['poutcome_'+str(data.poutcome.unique()[m])] = (data.poutcome == data.poutcome.unique()[m]).astype(int)\n",
    "\n",
    "data = data.drop(['education'],axis=1)\n",
    "data = data.drop(['marital'],axis=1)\n",
    "data = data.drop(['job'],axis=1)\n",
    "data = data.drop(['contact'],axis=1)\n",
    "\n",
    "\n",
    "\n",
    "#print(data.columns)\n",
    "#print(data.age.value_counts())\n",
    "#print(data.campaign.value_counts())"
   ]
  },
  {
   "cell_type": "code",
   "execution_count": 176,
   "metadata": {},
   "outputs": [
    {
     "name": "stderr",
     "output_type": "stream",
     "text": [
      "/Users/mayurjain/anaconda/lib/python3.6/site-packages/sklearn/utils/validation.py:526: DataConversionWarning: A column-vector y was passed when a 1d array was expected. Please change the shape of y to (n_samples, ), for example using ravel().\n",
      "  y = column_or_1d(y, warn=True)\n",
      "/Users/mayurjain/anaconda/lib/python3.6/site-packages/ipykernel_launcher.py:89: DataConversionWarning: A column-vector y was passed when a 1d array was expected. Please change the shape of y to (n_samples, ), for example using ravel().\n"
     ]
    },
    {
     "name": "stdout",
     "output_type": "stream",
     "text": [
      "0.83290943271\n",
      "0.850934424417\n",
      "0.879907110472\n"
     ]
    },
    {
     "name": "stderr",
     "output_type": "stream",
     "text": [
      "/Users/mayurjain/anaconda/lib/python3.6/site-packages/ipykernel_launcher.py:94: DataConversionWarning: A column-vector y was passed when a 1d array was expected. Please change the shape of y to (n_samples,), for example using ravel().\n"
     ]
    },
    {
     "name": "stdout",
     "output_type": "stream",
     "text": [
      "0.890191308194\n"
     ]
    }
   ],
   "source": [
    "from sklearn.ensemble import VotingClassifier\n",
    "#data = data.drop(['poutcome'],axis=1)\n",
    "from sklearn.neighbors import KNeighborsClassifier\n",
    "\n",
    "#eclf1 = VotingClassifier(estimators=[('knn', knn)], voting='soft', weights=[2])\n",
    "\n",
    "def age_(data):\n",
    "    \n",
    "    data.loc[data['age'] < 31, 'age'] = 1\n",
    "    data.loc[(data['age'] < 58) & (data['age'] > 30), 'age'] = 2\n",
    "    data.loc[(data['age'] < 83) & (data['age'] > 57), 'age'] = 3\n",
    "    data.loc[data['age'] > 82, 'age'] = 4\n",
    "    data['age'] = data['age'].astype(int)\n",
    "    \n",
    "    return data\n",
    "\n",
    "def pdays_(data):\n",
    "\n",
    "    data.loc[data['pdays'] < 50, 'pdays'] = 1\n",
    "    data.loc[(data['pdays'] < 150) & (data['pdays'] > 49), 'pdays'] = 2\n",
    "    data.loc[(data['pdays'] < 300) & (data['pdays'] > 149), 'pdays'] = 3\n",
    "    data.loc[(data['pdays'] < 500) & (data['pdays'] > 299), 'pdays'] = 4\n",
    "    data.loc[data['pdays'] > 499, 'pdays'] = 5\n",
    "    data['pdays'] = data['pdays'].astype(int)\n",
    "    return data\n",
    "\n",
    "def campaign_(data):\n",
    "    \n",
    "    data.loc[(data['campaign'] < 10) & (data['campaign'] > 0), 'campaign'] = 1\n",
    "    data.loc[(data['campaign'] < 20) & (data['campaign'] > 9) , 'campaign'] = 2\n",
    "    data.loc[(data['campaign'] < 40) & (data['campaign'] > 19) , 'campaign'] = 3\n",
    "    data.loc[data['campaign'] > 39, 'campaign'] = 4\n",
    "    data['campaign'] = data['campaign'].astype(int)\n",
    "    return data\n",
    "\n",
    "def balance_(data):\n",
    "    \n",
    "    data.loc[(data['balance'] < 30000) & (data['balance'] >= 0 ), 'balance'] = 4\n",
    "    data.loc[data['balance'] > 29999,'balance'] = 5\n",
    "    data.loc[data['balance'] < -8000, 'balance'] = 1\n",
    "    data.loc[(data['balance'] < -250) & (data['balance'] > -8000), 'balance'] = 2\n",
    "    data.loc[(data['balance'] < 0) & (data['balance'] > -251), 'balance'] = 3\n",
    "    data['balance'] = data['balance'].astype(int)\n",
    "    return data\n",
    "    \n",
    "\n",
    "    \n",
    "#data = pdays_(data)\n",
    "#data = campaign_(data)\n",
    "#data = balance_(data)\n",
    "#data = age_(data)\n",
    "\n",
    "\n",
    "#print(data[['education', 'is_success']].groupby(['education'], as_index=False).mean())\n",
    "#print(data.education.unique())\n",
    "#print(data.columns)\n",
    "#print(data[['housing', 'is_success']].groupby(['housing'], as_index=False).mean())\n",
    "#print(data[['loan', 'is_success']].groupby(['loan'], as_index=False).mean())\n",
    "#print(data[['job', 'is_success']].groupby(['job'], as_index=False).mean())\n",
    "# print(data[['pdays', 'is_success']].groupby(['pdays'], as_index=False).mean())\n",
    "# print(data[['previous', 'is_success']].groupby(['previous'], as_index=False).mean())\n",
    "# print(data[['poutcome', 'is_success']].groupby(['poutcome'], as_index=False).mean())\n",
    "# print(data[['campaign', 'is_success']].groupby(['campaign'], as_index=False).mean())\n",
    "# from sklearn import preprocessing\n",
    "# LEncoder = preprocessing.LabelEncoder()\n",
    "# LEncoder.fit(['admin.','blue-collar','entrepreneur','housemaid','management','retired','self-employed','services','student','technician','unemployed','unknown'])\n",
    "# data['job'] = LEncoder.transform(data['job'])\n",
    "#print(data['job'])\n",
    "\n",
    "\n",
    "\n",
    "data_X = data.drop(['is_success','day','month'],axis=1)\n",
    "data_y = pd.DataFrame(data['is_success'])\n",
    "X_train,X_test,y_train,y_test = train_test_split(data_X,data_y,test_size=0.2,random_state=89)\n",
    "\n",
    "modelGNB = GaussianNB()\n",
    "modelGNB.fit(X_train, y_train)\n",
    "y_pred = modelGNB.predict(X_test)\n",
    "\n",
    "print(accuracy_score(y_test,y_pred))\n",
    "\n",
    "modelMNB = BernoulliNB()\n",
    "modelMNB.fit(X_train, y_train)\n",
    "y_pred = modelMNB.predict(X_test)\n",
    "\n",
    "print(accuracy_score(y_test,y_pred))\n",
    "\n",
    "knn = KNeighborsClassifier(n_neighbors=2)\n",
    "knn.fit(X_train,y_train)\n",
    "y_predict = knn.predict(X_test)\n",
    "print(accuracy_score(y_test,y_predict))\n",
    "\n",
    "rforest = RandomForestClassifier()\n",
    "rforest = rforest.fit(X_train,y_train)\n",
    "yprediction = rforest.predict(X_test)\n",
    "\n",
    "print(accuracy_score(yprediction,y_test))\n",
    "\n",
    "# clf = svm.SVC(kernel='rbf', C=1,gamma=1)\n",
    "# clf.fit(X_train,y_train)\n",
    "# y_pred = clf.predict(X_test)\n",
    "\n",
    "# print(accuracy_score(y_test,y_pred))\n"
   ]
  },
  {
   "cell_type": "code",
   "execution_count": 135,
   "metadata": {
    "collapsed": true
   },
   "outputs": [
    {
     "name": "stderr",
     "output_type": "stream",
     "text": [
      "/Users/mayurjain/anaconda/lib/python3.6/site-packages/sklearn/utils/validation.py:526: DataConversionWarning: A column-vector y was passed when a 1d array was expected. Please change the shape of y to (n_samples, ), for example using ravel().\n",
      "  y = column_or_1d(y, warn=True)\n"
     ]
    },
    {
     "name": "stdout",
     "output_type": "stream",
     "text": [
      "0.911190541655\n",
      "0.911778456123\n",
      "_____________________________\n",
      "0.914215012373\n",
      "0.907763385859\n",
      "_____________________________\n",
      "0.911190541655\n",
      "0.910733437835\n",
      "_____________________________\n",
      "0.904041792686\n",
      "0.906223358909\n",
      "_____________________________\n",
      "0.909240924092\n",
      "0.907518424816\n",
      "_____________________________\n",
      "0.898239823982\n",
      "0.905923440766\n",
      "_____________________________\n",
      "0.913641364136\n",
      "0.911945880541\n",
      "_____________________________\n",
      "0.895764576458\n",
      "0.90380596194\n",
      "_____________________________\n",
      "0.905665566557\n",
      "0.907545924541\n",
      "_____________________________\n",
      "0.913916391639\n",
      "0.908975910241\n",
      "_____________________________\n",
      "0.913641364136\n",
      "0.911175888241\n",
      "_____________________________\n"
     ]
    }
   ],
   "source": [
    "from sklearn.model_selection import KFold\n",
    "kf = KFold(n_splits=11,shuffle=True,random_state=42)\n",
    "trainX = data_X.iloc[:40000,:]\n",
    "trainy = data_y.iloc[:40000,:]\n",
    "global xtrain,ytrain,xvalid, yvalid\n",
    "for train,valid in kf.split(trainX):\n",
    "    xtrain, ytrain = trainX.iloc[train], trainy.iloc[train]\n",
    "    xvalid, yvalid = trainX.iloc[valid], trainy.iloc[valid]\n",
    "    GNB = GaussianNB()\n",
    "    BNB = BernoulliNB()\n",
    "    GNB = GNB.fit(xtrain, ytrain)\n",
    "    pred = GNB.predict(xtrain)\n",
    "    y_pred = GNB.predict(xvalid)\n",
    "    print(accuracy_score(yvalid,y_pred))\n",
    "    print(accuracy_score(ytrain,pred))\n",
    "    print(\"_____________________________\")"
   ]
  },
  {
   "cell_type": "code",
   "execution_count": 136,
   "metadata": {
    "collapsed": true
   },
   "outputs": [
    {
     "name": "stdout",
     "output_type": "stream",
     "text": [
      "0.554212243331\n"
     ]
    }
   ],
   "source": [
    "testX = data_X.iloc[40000:,:]\n",
    "testy = data_y.iloc[40000:,:]\n",
    "predict_Y = GNB.predict(testX)\n",
    "print(accuracy_score(predict_Y,testy))"
   ]
  },
  {
   "cell_type": "code",
   "execution_count": 137,
   "metadata": {},
   "outputs": [
    {
     "name": "stdout",
     "output_type": "stream",
     "text": [
      "0.540395317597\n"
     ]
    },
    {
     "name": "stderr",
     "output_type": "stream",
     "text": [
      "/Users/mayurjain/anaconda/lib/python3.6/site-packages/sklearn/utils/validation.py:526: DataConversionWarning: A column-vector y was passed when a 1d array was expected. Please change the shape of y to (n_samples, ), for example using ravel().\n",
      "  y = column_or_1d(y, warn=True)\n"
     ]
    }
   ],
   "source": [
    "BNB = BNB.fit(xtrain,ytrain)\n",
    "predict_Y = BNB.predict(testX)\n",
    "print(accuracy_score(predict_Y,testy))"
   ]
  },
  {
   "cell_type": "code",
   "execution_count": 116,
   "metadata": {
    "collapsed": true
   },
   "outputs": [
    {
     "name": "stderr",
     "output_type": "stream",
     "text": [
      "/Users/mayurjain/anaconda/lib/python3.6/site-packages/sklearn/utils/validation.py:526: DataConversionWarning: A column-vector y was passed when a 1d array was expected. Please change the shape of y to (n_samples, ), for example using ravel().\n",
      "  y = column_or_1d(y, warn=True)\n"
     ]
    },
    {
     "name": "stdout",
     "output_type": "stream",
     "text": [
      "0.54077912109\n"
     ]
    }
   ],
   "source": [
    "svmcc = svm.SVC(kernel='sigmoid',C=1,gamma=1)\n",
    "svmcc = svmcc.fit(xtrain,ytrain)\n",
    "predY = svmcc.predict(testX)\n",
    "print(accuracy_score(predY,testy))"
   ]
  },
  {
   "cell_type": "code",
   "execution_count": 138,
   "metadata": {},
   "outputs": [
    {
     "name": "stderr",
     "output_type": "stream",
     "text": [
      "/Users/mayurjain/anaconda/lib/python3.6/site-packages/ipykernel_launcher.py:2: DataConversionWarning: A column-vector y was passed when a 1d array was expected. Please change the shape of y to (n_samples,), for example using ravel().\n",
      "  \n"
     ]
    },
    {
     "name": "stdout",
     "output_type": "stream",
     "text": [
      "0.551525618883\n"
     ]
    }
   ],
   "source": [
    "rforest = RandomForestClassifier()\n",
    "rforest = rforest.fit(xtrain,ytrain)\n",
    "yprediction = rforest.predict(testX)\n",
    "print(accuracy_score(yprediction,testy))"
   ]
  },
  {
   "cell_type": "code",
   "execution_count": 70,
   "metadata": {
    "collapsed": true
   },
   "outputs": [
    {
     "data": {
      "image/png": "[encoded data removed]",
      "text/plain": [
       "<matplotlib.figure.Figure at 0x128128e48>"
      ]
     },
     "metadata": {},
     "output_type": "display_data"
    }
   ],
   "source": [
    "draw_data = pd.crosstab(data.age, data.is_success)\n",
    "draw_data.div(draw_data.sum(1).astype(float), axis=0).plot(kind='bar', stacked=True, color=['orchid','cornflowerblue'],grid=False, figsize=(15, 5))\n",
    "pp.show()"
   ]
  },
  {
   "cell_type": "code",
   "execution_count": 119,
   "metadata": {
    "collapsed": true
   },
   "outputs": [
    {
     "data": {
      "image/png": "[encoded data removed]",
      "text/plain": [
       "<matplotlib.figure.Figure at 0x11fc2c6d8>"
      ]
     },
     "metadata": {},
     "output_type": "display_data"
    }
   ],
   "source": [
    "draw_data = pd.crosstab(data.pdays, data.is_success)\n",
    "draw_data.div(draw_data.sum(1).astype(float), axis=0).plot(kind='bar', stacked=True, color=['orchid','cornflowerblue'],grid=False, figsize=(15, 5))\n",
    "pp.show()"
   ]
  },
  {
   "cell_type": "code",
   "execution_count": 120,
   "metadata": {
    "collapsed": true
   },
   "outputs": [
    {
     "ename": "AttributeError",
     "evalue": "'DataFrame' object has no attribute 'poutcome'",
     "output_type": "error",
     "traceback": [
      "\u001b[0;31m---------------------------------------------------------------------------\u001b[0m",
      "\u001b[0;31mAttributeError\u001b[0m                            Traceback (most recent call last)",
      "\u001b[0;32m<ipython-input-120-30c239dea8ac>\u001b[0m in \u001b[0;36m<module>\u001b[0;34m()\u001b[0m\n\u001b[0;32m----> 1\u001b[0;31m \u001b[0mdraw_data\u001b[0m \u001b[0;34m=\u001b[0m \u001b[0mpd\u001b[0m\u001b[0;34m.\u001b[0m\u001b[0mcrosstab\u001b[0m\u001b[0;34m(\u001b[0m\u001b[0mdata\u001b[0m\u001b[0;34m.\u001b[0m\u001b[0mpoutcome\u001b[0m\u001b[0;34m,\u001b[0m \u001b[0mdata\u001b[0m\u001b[0;34m.\u001b[0m\u001b[0mis_success\u001b[0m\u001b[0;34m)\u001b[0m\u001b[0;34m\u001b[0m\u001b[0m\n\u001b[0m\u001b[1;32m      2\u001b[0m \u001b[0mdraw_data\u001b[0m\u001b[0;34m.\u001b[0m\u001b[0mdiv\u001b[0m\u001b[0;34m(\u001b[0m\u001b[0mdraw_data\u001b[0m\u001b[0;34m.\u001b[0m\u001b[0msum\u001b[0m\u001b[0;34m(\u001b[0m\u001b[0;36m1\u001b[0m\u001b[0;34m)\u001b[0m\u001b[0;34m.\u001b[0m\u001b[0mastype\u001b[0m\u001b[0;34m(\u001b[0m\u001b[0mfloat\u001b[0m\u001b[0;34m)\u001b[0m\u001b[0;34m,\u001b[0m \u001b[0maxis\u001b[0m\u001b[0;34m=\u001b[0m\u001b[0;36m0\u001b[0m\u001b[0;34m)\u001b[0m\u001b[0;34m.\u001b[0m\u001b[0mplot\u001b[0m\u001b[0;34m(\u001b[0m\u001b[0mkind\u001b[0m\u001b[0;34m=\u001b[0m\u001b[0;34m'bar'\u001b[0m\u001b[0;34m,\u001b[0m \u001b[0mstacked\u001b[0m\u001b[0;34m=\u001b[0m\u001b[0;32mTrue\u001b[0m\u001b[0;34m,\u001b[0m \u001b[0mcolor\u001b[0m\u001b[0;34m=\u001b[0m\u001b[0;34m[\u001b[0m\u001b[0;34m'orchid'\u001b[0m\u001b[0;34m,\u001b[0m\u001b[0;34m'cornflowerblue'\u001b[0m\u001b[0;34m]\u001b[0m\u001b[0;34m,\u001b[0m\u001b[0mgrid\u001b[0m\u001b[0;34m=\u001b[0m\u001b[0;32mFalse\u001b[0m\u001b[0;34m,\u001b[0m \u001b[0mfigsize\u001b[0m\u001b[0;34m=\u001b[0m\u001b[0;34m(\u001b[0m\u001b[0;36m15\u001b[0m\u001b[0;34m,\u001b[0m \u001b[0;36m5\u001b[0m\u001b[0;34m)\u001b[0m\u001b[0;34m)\u001b[0m\u001b[0;34m\u001b[0m\u001b[0m\n\u001b[1;32m      3\u001b[0m \u001b[0mpp\u001b[0m\u001b[0;34m.\u001b[0m\u001b[0mshow\u001b[0m\u001b[0;34m(\u001b[0m\u001b[0;34m)\u001b[0m\u001b[0;34m\u001b[0m\u001b[0m\n",
      "\u001b[0;32m/Users/mayurjain/anaconda/lib/python3.6/site-packages/pandas/core/generic.py\u001b[0m in \u001b[0;36m__getattr__\u001b[0;34m(self, name)\u001b[0m\n\u001b[1;32m   2968\u001b[0m             \u001b[0;32mif\u001b[0m \u001b[0mname\u001b[0m \u001b[0;32min\u001b[0m \u001b[0mself\u001b[0m\u001b[0;34m.\u001b[0m\u001b[0m_info_axis\u001b[0m\u001b[0;34m:\u001b[0m\u001b[0;34m\u001b[0m\u001b[0m\n\u001b[1;32m   2969\u001b[0m                 \u001b[0;32mreturn\u001b[0m \u001b[0mself\u001b[0m\u001b[0;34m[\u001b[0m\u001b[0mname\u001b[0m\u001b[0;34m]\u001b[0m\u001b[0;34m\u001b[0m\u001b[0m\n\u001b[0;32m-> 2970\u001b[0;31m             \u001b[0;32mreturn\u001b[0m \u001b[0mobject\u001b[0m\u001b[0;34m.\u001b[0m\u001b[0m__getattribute__\u001b[0m\u001b[0;34m(\u001b[0m\u001b[0mself\u001b[0m\u001b[0;34m,\u001b[0m \u001b[0mname\u001b[0m\u001b[0;34m)\u001b[0m\u001b[0;34m\u001b[0m\u001b[0m\n\u001b[0m\u001b[1;32m   2971\u001b[0m \u001b[0;34m\u001b[0m\u001b[0m\n\u001b[1;32m   2972\u001b[0m     \u001b[0;32mdef\u001b[0m \u001b[0m__setattr__\u001b[0m\u001b[0;34m(\u001b[0m\u001b[0mself\u001b[0m\u001b[0;34m,\u001b[0m \u001b[0mname\u001b[0m\u001b[0;34m,\u001b[0m \u001b[0mvalue\u001b[0m\u001b[0;34m)\u001b[0m\u001b[0;34m:\u001b[0m\u001b[0;34m\u001b[0m\u001b[0m\n",
      "\u001b[0;31mAttributeError\u001b[0m: 'DataFrame' object has no attribute 'poutcome'"
     ]
    }
   ],
   "source": [
    "draw_data = pd.crosstab(data.poutcome, data.is_success)\n",
    "draw_data.div(draw_data.sum(1).astype(float), axis=0).plot(kind='bar', stacked=True, color=['orchid','cornflowerblue'],grid=False, figsize=(15, 5))\n",
    "pp.show()"
   ]
  },
  {
   "cell_type": "code",
   "execution_count": null,
   "metadata": {
    "collapsed": true
   },
   "outputs": [],
   "source": [
    "draw_data = pd.crosstab(data.balance, data.is_success)\n",
    "draw_data.div(draw_data.sum(1).astype(float), axis=0).plot(kind='bar', stacked=True, color=['orchid','cornflowerblue'],grid=False, figsize=(15, 5))\n",
    "pp.show()"
   ]
  },
  {
   "cell_type": "code",
   "execution_count": 17,
   "metadata": {
    "collapsed": true
   },
   "outputs": [
    {
     "name": "stdout",
     "output_type": "stream",
     "text": [
      "0        False\n",
      "1        False\n",
      "2        False\n",
      "3        False\n",
      "4        False\n",
      "5        False\n",
      "6        False\n",
      "7        False\n",
      "8        False\n",
      "9        False\n",
      "10       False\n",
      "11       False\n",
      "12       False\n",
      "13       False\n",
      "14       False\n",
      "15       False\n",
      "16       False\n",
      "17       False\n",
      "18       False\n",
      "19       False\n",
      "20       False\n",
      "21       False\n",
      "22       False\n",
      "23       False\n",
      "24       False\n",
      "25       False\n",
      "26       False\n",
      "27       False\n",
      "28       False\n",
      "29       False\n",
      "         ...  \n",
      "45181    False\n",
      "45182    False\n",
      "45183    False\n",
      "45184    False\n",
      "45185    False\n",
      "45186    False\n",
      "45187    False\n",
      "45188    False\n",
      "45189    False\n",
      "45190    False\n",
      "45191    False\n",
      "45192    False\n",
      "45193    False\n",
      "45194    False\n",
      "45195    False\n",
      "45196    False\n",
      "45197    False\n",
      "45198    False\n",
      "45199    False\n",
      "45200    False\n",
      "45201    False\n",
      "45202    False\n",
      "45203    False\n",
      "45204    False\n",
      "45205    False\n",
      "45206    False\n",
      "45207    False\n",
      "45208    False\n",
      "45209    False\n",
      "45210    False\n",
      "Name: neg, Length: 45211, dtype: bool\n",
      "0        NaN\n",
      "1        NaN\n",
      "2        NaN\n",
      "3        NaN\n",
      "4        NaN\n",
      "5        NaN\n",
      "6        NaN\n",
      "7        NaN\n",
      "8        NaN\n",
      "9        NaN\n",
      "10       NaN\n",
      "11       NaN\n",
      "12       NaN\n",
      "13       NaN\n",
      "14       NaN\n",
      "15       NaN\n",
      "16       NaN\n",
      "17       NaN\n",
      "18       NaN\n",
      "19       NaN\n",
      "20       NaN\n",
      "21       NaN\n",
      "22       NaN\n",
      "23       NaN\n",
      "24       NaN\n",
      "25       NaN\n",
      "26       NaN\n",
      "27       NaN\n",
      "28       NaN\n",
      "29       NaN\n",
      "        ... \n",
      "45181    NaN\n",
      "45182    NaN\n",
      "45183    NaN\n",
      "45184    NaN\n",
      "45185    NaN\n",
      "45186    NaN\n",
      "45187    NaN\n",
      "45188    NaN\n",
      "45189    NaN\n",
      "45190    NaN\n",
      "45191    NaN\n",
      "45192    NaN\n",
      "45193    NaN\n",
      "45194    NaN\n",
      "45195    NaN\n",
      "45196    NaN\n",
      "45197    NaN\n",
      "45198    NaN\n",
      "45199    NaN\n",
      "45200    NaN\n",
      "45201    NaN\n",
      "45202    NaN\n",
      "45203    NaN\n",
      "45204    NaN\n",
      "45205    NaN\n",
      "45206    NaN\n",
      "45207    NaN\n",
      "45208    NaN\n",
      "45209    NaN\n",
      "45210    NaN\n",
      "Name: neg, Length: 45211, dtype: object\n"
     ]
    }
   ],
   "source": []
  },
  {
   "cell_type": "code",
   "execution_count": null,
   "metadata": {
    "collapsed": true
   },
   "outputs": [],
   "source": []
  }
 ],
 "metadata": {
  "kernelspec": {
   "display_name": "Python 3",
   "language": "python",
   "name": "python3"
  },
  "language_info": {
   "codemirror_mode": {
    "name": "ipython",
    "version": 3
   },
   "file_extension": ".py",
   "mimetype": "text/x-python",
   "name": "python",
   "nbconvert_exporter": "python",
   "pygments_lexer": "ipython3",
   "version": "3.6.1"
  }
 },
 "nbformat": 4,
 "nbformat_minor": 2
}
