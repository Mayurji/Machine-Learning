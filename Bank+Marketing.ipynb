{
 "cells": [
  {
   "cell_type": "code",
   "execution_count": 6,
   "metadata": {
    "collapsed": true
   },
   "outputs": [
    {
     "name": "stdout",
     "output_type": "stream",
     "text": [
      "[[ 1.         -0.07317201]\n",
      " [-0.07317201  1.        ]]\n",
      "[[ 1.          0.10362149]\n",
      " [ 0.10362149  1.        ]]\n",
      "[[ 1.          0.39452102]\n",
      " [ 0.39452102  1.        ]]\n",
      "[[ 1.          0.02515502]\n",
      " [ 0.02515502  1.        ]]\n",
      "[[ 1.         -0.02241897]\n",
      " [-0.02241897  1.        ]]\n",
      "[[ 1.        -0.1391727]\n",
      " [-0.1391727  1.       ]]\n",
      "[[ 1.         -0.06818503]\n",
      " [-0.06818503  1.        ]]\n"
     ]
    }
   ],
   "source": [
    "import pandas as pd\n",
    "import numpy as np\n",
    "from sklearn.cross_validation import train_test_split\n",
    "from sklearn.metrics import accuracy_score\n",
    "from sklearn.naive_bayes import GaussianNB\n",
    "from sklearn.naive_bayes import BernoulliNB\n",
    "from sklearn.ensemble import GradientBoostingClassifier\n",
    "from sklearn.ensemble import AdaBoostClassifier\n",
    "import matplotlib.pyplot as pp\n",
    "from sklearn import svm\n",
    "from sklearn.ensemble import RandomForestClassifier\n",
    "import math\n",
    "from scipy.stats.stats import pearsonr\n",
    "\n",
    "\n",
    "data = pd.read_csv('/Users/mayurjain/Documents/Fragma ML TEST/marketing-data.csv',sep=',',header='infer')\n",
    "\n",
    "def binaryType_(data):\n",
    "    \n",
    "    data.is_success.replace(('yes', 'no'), (1, 0), inplace=True)\n",
    "    data.default.replace(('yes','no'),(1,0),inplace=True)\n",
    "    data.housing.replace(('yes','no'),(1,0),inplace=True)\n",
    "    data.loan.replace(('yes','no'),(1,0),inplace=True)\n",
    "    return data\n",
    "\n",
    "data = binaryType_(data)\n",
    "\n",
    "print(np.corrcoef(data['campaign'],data['is_success']))\n",
    "print(np.corrcoef(data['pdays'],data['is_success']))\n",
    "print(np.corrcoef(data['duration'],data['is_success']))\n",
    "print(np.corrcoef(data['age'],data['is_success']))\n",
    "print(np.corrcoef(data['default'],data['is_success']))\n",
    "print(np.corrcoef(data['housing'],data['is_success']))\n",
    "print(np.corrcoef(data['loan'],data['is_success']))\n",
    "\n",
    "#print(data.education.unique())\n",
    "#print(data.education.value_counts())\n",
    "# sec = (data.education.value_counts()[0]/ len(data.education) * 100).tolist()\n",
    "# pri = (data.education.value_counts()[1]/ len(data.education) * 100).tolist()\n",
    "# teri = (data.education.value_counts()[2]/ len(data.education) * 100).tolist()\n",
    "# tot = sec + pri + teri\n",
    "# sec_unk = math.ceil((sec/tot) * 100)\n",
    "# pri_unk = math.ceil((pri/tot) * 100)\n",
    "# teri_unk = math.ceil((teri/tot) * 100) -1\n",
    "# unk_sec = math.ceil((data.education.value_counts()[3] * sec_unk) / 100 )\n",
    "# unk_pri = math.ceil((data.education.value_counts()[3] * pri_unk) / 100 )\n",
    "# unk_teri = math.ceil((data.education.value_counts()[3] * teri_unk) / 100 ) -1 \n",
    "\n",
    "# for i in range(data.education.value_counts()[3]):\n",
    "#     for j in range(len(data['education'])):\n",
    "#         if i != unk_sec:\n",
    "#             if data['education'][j] == 'unknown':\n",
    "#                 data['education'][j] = 'secondary'\n",
    "#         elif i != unk_sec+unk_pri:\n",
    "#             if data['education'][j] == 'unknown':\n",
    "#                 data['education'][j] = 'primary'\n",
    "#         elif i != unk_sec+unk_pri+unk_teri:\n",
    "#             if data['education'][j] == 'unknown':\n",
    "#                 data['education'][j] = 'tertiary'\n",
    "#         else:\n",
    "#             break\n",
    "            \n",
    "\n",
    "#data.loc(data['education'][i].replace(('unknown'), ('secondary'), inplace=True) for i in range(unk_sec) if data['education'] == 'unknown') \n",
    "#print(data.columns)\n",
    "#print(data.marital.unique())\n",
    "#print(data[['marital', 'is_success']].groupby(['marital'], as_index=False).mean())\n",
    "for i in range(len(data.marital.unique())):\n",
    "    data[\"marital_\"+str(data.marital.unique()[i])] = (data.marital == data.marital.unique()[i]).astype(int)\n",
    "\n",
    "for j in range(len(data.job.unique())):\n",
    "    data[\"job_\"+str(data.job.unique()[j])] = (data.job == data.job.unique()[j]).astype(int)\n",
    "\n",
    "for k in range(len(data.contact.unique())):\n",
    "    data[\"contact_\"+str(data.contact.unique()[k])] = (data.contact == data.contact.unique()[k]).astype(int)\n",
    "\n",
    "for l in range(len(data.education.unique())):\n",
    "    data['education_'+str(data.education.unique()[l])] = (data.education == data.education.unique()[l]).astype(int)\n",
    "    \n",
    "#for m in range(len(data.poutcome.unique())):\n",
    "#    data['poutcome_'+str(data.poutcome.unique()[m])] = (data.poutcome == data.poutcome.unique()[m]).astype(int)\n",
    "\n",
    "data = data.drop(['education'],axis=1)\n",
    "data = data.drop(['marital'],axis=1)\n",
    "data = data.drop(['job'],axis=1)\n",
    "data = data.drop(['contact'],axis=1)\n",
    "data = data.drop(['poutcome'],axis=1)\n",
    "\n",
    "#print(data.columns)\n",
    "#print(data.age.value_counts())\n",
    "#print(data.campaign.value_counts())"
   ]
  },
  {
   "cell_type": "code",
   "execution_count": 7,
   "metadata": {
    "collapsed": true
   },
   "outputs": [
    {
     "name": "stderr",
     "output_type": "stream",
     "text": [
      "/Users/mayurjain/anaconda/lib/python3.6/site-packages/ipykernel_launcher.py:24: SettingWithCopyWarning: \n",
      "A value is trying to be set on a copy of a slice from a DataFrame\n",
      "\n",
      "See the caveats in the documentation: http://pandas.pydata.org/pandas-docs/stable/indexing.html#indexing-view-versus-copy\n",
      "/Users/mayurjain/anaconda/lib/python3.6/site-packages/ipykernel_launcher.py:21: SettingWithCopyWarning: \n",
      "A value is trying to be set on a copy of a slice from a DataFrame\n",
      "\n",
      "See the caveats in the documentation: http://pandas.pydata.org/pandas-docs/stable/indexing.html#indexing-view-versus-copy\n",
      "/Users/mayurjain/anaconda/lib/python3.6/site-packages/ipykernel_launcher.py:26: SettingWithCopyWarning: \n",
      "A value is trying to be set on a copy of a slice from a DataFrame\n",
      "\n",
      "See the caveats in the documentation: http://pandas.pydata.org/pandas-docs/stable/indexing.html#indexing-view-versus-copy\n"
     ]
    },
    {
     "name": "stdout",
     "output_type": "stream",
     "text": [
      "-1    36954\n",
      " 2     4353\n",
      " 3     2497\n",
      " 1     1407\n",
      "Name: pdays, dtype: int64\n",
      "0.777175716023\n",
      "0.857237642375\n"
     ]
    },
    {
     "name": "stderr",
     "output_type": "stream",
     "text": [
      "/Users/mayurjain/anaconda/lib/python3.6/site-packages/sklearn/utils/validation.py:526: DataConversionWarning: A column-vector y was passed when a 1d array was expected. Please change the shape of y to (n_samples, ), for example using ravel().\n",
      "  y = column_or_1d(y, warn=True)\n",
      "/Users/mayurjain/anaconda/lib/python3.6/site-packages/ipykernel_launcher.py:94: DataConversionWarning: A column-vector y was passed when a 1d array was expected. Please change the shape of y to (n_samples, ), for example using ravel().\n"
     ]
    },
    {
     "name": "stdout",
     "output_type": "stream",
     "text": [
      "0.877916620591\n"
     ]
    },
    {
     "name": "stderr",
     "output_type": "stream",
     "text": [
      "/Users/mayurjain/anaconda/lib/python3.6/site-packages/ipykernel_launcher.py:99: DataConversionWarning: A column-vector y was passed when a 1d array was expected. Please change the shape of y to (n_samples,), for example using ravel().\n"
     ]
    },
    {
     "name": "stdout",
     "output_type": "stream",
     "text": [
      "0.872719230344\n"
     ]
    },
    {
     "name": "stderr",
     "output_type": "stream",
     "text": [
      "/Users/mayurjain/anaconda/lib/python3.6/site-packages/sklearn/utils/validation.py:526: DataConversionWarning: A column-vector y was passed when a 1d array was expected. Please change the shape of y to (n_samples, ), for example using ravel().\n",
      "  y = column_or_1d(y, warn=True)\n"
     ]
    },
    {
     "name": "stdout",
     "output_type": "stream",
     "text": [
      "0.892071215305\n",
      "0.886542076744\n"
     ]
    }
   ],
   "source": [
    "#data = data.drop(['poutcome'],axis=1)\n",
    "from sklearn.neighbors import KNeighborsClassifier\n",
    "\n",
    "#eclf1 = VotingClassifier(estimators=[('knn', knn)], voting='soft', weights=[2])\n",
    "\n",
    "def age_(data):\n",
    "    \n",
    "    for x in range(len(data['age'])):\n",
    "        if data['age'][i] <= 28:\n",
    "            if data['age'][i] >= 18:\n",
    "                data['age'][i] = 1\n",
    "        elif data['age'][i] <= 39:\n",
    "            if data['age'][i] >= 29:\n",
    "                data['age'][i] = 2\n",
    "        elif data['age'][i] <=49:\n",
    "            if data['age'][i] >=40:\n",
    "                data['age'][i] = 3\n",
    "        else:\n",
    "            data['age'][i]=4\n",
    "    \n",
    "    return data\n",
    "\n",
    "def pdays_(data):\n",
    "\n",
    "    for i in range(len(data['pdays'])):\n",
    "        if data['pdays'][i] < 100:\n",
    "            if data['pdays'][i] > 0:\n",
    "                data['pdays'][i] = 1\n",
    "        elif data['pdays'][i] < 300:\n",
    "            if data['pdays'][i] > 99:\n",
    "                data['pdays'][i] = 2\n",
    "        elif data['pdays'][i] > 299:\n",
    "            data['pdays'][i] = 3\n",
    "        else:\n",
    "            data['pdays'][i] = 4\n",
    "            \n",
    "    return data\n",
    "\n",
    "\n",
    "\n",
    "def balance_(data):\n",
    "    \n",
    "    data.loc[(data['balance'] < 30000) & (data['balance'] >= 0 ), 'balance'] = 4\n",
    "    data.loc[data['balance'] > 29999,'balance'] = 5\n",
    "    data.loc[data['balance'] < -8000, 'balance'] = 1\n",
    "    data.loc[(data['balance'] < -250) & (data['balance'] > -8000), 'balance'] = 2\n",
    "    data.loc[(data['balance'] < 0) & (data['balance'] > -251), 'balance'] = 3\n",
    "    data['balance'] = data['balance'].astype(int)\n",
    "    return data\n",
    "    \n",
    "\n",
    "    \n",
    "data = pdays_(data)\n",
    "\n",
    "data = balance_(data)\n",
    "data = age_(data)\n",
    "\n",
    "\n",
    "#print(data[['education', 'is_success']].groupby(['education'], as_index=False).mean())\n",
    "#print(data.education.unique())\n",
    "#print(data.columns)\n",
    "#print(data[['housing', 'is_success']].groupby(['housing'], as_index=False).mean())\n",
    "#print(data[['loan', 'is_success']].groupby(['loan'], as_index=False).mean())\n",
    "#print(data[['job', 'is_success']].groupby(['job'], as_index=False).mean())\n",
    "# print(data[['pdays', 'is_success']].groupby(['pdays'], as_index=False).mean())\n",
    "# print(data[['previous', 'is_success']].groupby(['previous'], as_index=False).mean())\n",
    "# print(data[['poutcome', 'is_success']].groupby(['poutcome'], as_index=False).mean())\n",
    "# print(data[['campaign', 'is_success']].groupby(['campaign'], as_index=False).mean())\n",
    "# from sklearn import preprocessing\n",
    "# LEncoder = preprocessing.LabelEncoder()\n",
    "# LEncoder.fit(['admin.','blue-collar','entrepreneur','housemaid','management','retired','self-employed','services','student','technician','unemployed','unknown'])\n",
    "# data['job'] = LEncoder.transform(data['job'])\n",
    "#print(data['job'])\n",
    "\n",
    "\n",
    "\n",
    "\n",
    "\n",
    "# clf = svm.SVC(kernel='rbf', C=1,gamma=1)\n",
    "# clf.fit(X_train,y_train)\n",
    "# y_pred = clf.predict(X_test)\n",
    "\n",
    "# print(accuracy_score(y_test,y_pred))"
   ]
  },
  {
   "cell_type": "code",
   "execution_count": 11,
   "metadata": {
    "scrolled": true
   },
   "outputs": [
    {
     "name": "stderr",
     "output_type": "stream",
     "text": [
      "/Users/mayurjain/anaconda/lib/python3.6/site-packages/ipykernel_launcher.py:6: SettingWithCopyWarning: \n",
      "A value is trying to be set on a copy of a slice from a DataFrame\n",
      "\n",
      "See the caveats in the documentation: http://pandas.pydata.org/pandas-docs/stable/indexing.html#indexing-view-versus-copy\n",
      "  \n",
      "/Users/mayurjain/anaconda/lib/python3.6/site-packages/ipykernel_launcher.py:9: SettingWithCopyWarning: \n",
      "A value is trying to be set on a copy of a slice from a DataFrame\n",
      "\n",
      "See the caveats in the documentation: http://pandas.pydata.org/pandas-docs/stable/indexing.html#indexing-view-versus-copy\n",
      "  if __name__ == '__main__':\n",
      "/Users/mayurjain/anaconda/lib/python3.6/site-packages/sklearn/utils/validation.py:526: DataConversionWarning: A column-vector y was passed when a 1d array was expected. Please change the shape of y to (n_samples, ), for example using ravel().\n",
      "  y = column_or_1d(y, warn=True)\n",
      "/Users/mayurjain/anaconda/lib/python3.6/site-packages/ipykernel_launcher.py:35: DataConversionWarning: A column-vector y was passed when a 1d array was expected. Please change the shape of y to (n_samples, ), for example using ravel().\n"
     ]
    },
    {
     "name": "stdout",
     "output_type": "stream",
     "text": [
      "0.786575251576\n",
      "0.857237642375\n",
      "0.877916620591\n"
     ]
    },
    {
     "name": "stderr",
     "output_type": "stream",
     "text": [
      "/Users/mayurjain/anaconda/lib/python3.6/site-packages/ipykernel_launcher.py:40: DataConversionWarning: A column-vector y was passed when a 1d array was expected. Please change the shape of y to (n_samples,), for example using ravel().\n"
     ]
    },
    {
     "name": "stdout",
     "output_type": "stream",
     "text": [
      "0.870839323233\n"
     ]
    },
    {
     "name": "stderr",
     "output_type": "stream",
     "text": [
      "/Users/mayurjain/anaconda/lib/python3.6/site-packages/sklearn/utils/validation.py:526: DataConversionWarning: A column-vector y was passed when a 1d array was expected. Please change the shape of y to (n_samples, ), for example using ravel().\n",
      "  y = column_or_1d(y, warn=True)\n"
     ]
    },
    {
     "name": "stdout",
     "output_type": "stream",
     "text": [
      "0.892071215305\n",
      "0.886542076744\n"
     ]
    }
   ],
   "source": [
    "def campaign_(data):\n",
    "    \n",
    "    for i in range(len(data['campaign'])):\n",
    "        #print(data['campaign'][i])\n",
    "        if data['campaign'][i] == 1:\n",
    "            data['campaign'][i] = 1\n",
    "            \n",
    "        elif data['campaign'][i] >=2:\n",
    "            if data['campaign'][i] <=3:\n",
    "                data['campaign'][i] = 2\n",
    "\n",
    "        else:\n",
    "            data['campaign'][i] = 3\n",
    "    \n",
    "    \n",
    "    return data\n",
    "\n",
    "data = campaign_(data)\n",
    "\n",
    "data_X = data.drop(['is_success','day','month'],axis=1)\n",
    "data_y = pd.DataFrame(data['is_success'])\n",
    "X_train,X_test,y_train,y_test = train_test_split(data_X,data_y,test_size=0.2,random_state=0)\n",
    "\n",
    "modelGNB = GaussianNB()\n",
    "modelGNB.fit(X_train, y_train)\n",
    "y_pred = modelGNB.predict(X_test)\n",
    "\n",
    "print(accuracy_score(y_test,y_pred))\n",
    "\n",
    "modelMNB = BernoulliNB()\n",
    "modelMNB.fit(X_train, y_train)\n",
    "y_pred = modelMNB.predict(X_test)\n",
    "\n",
    "print(accuracy_score(y_test,y_pred))\n",
    "\n",
    "knn = KNeighborsClassifier(n_neighbors=2)\n",
    "knn.fit(X_train,y_train)\n",
    "y_predict = knn.predict(X_test)\n",
    "print(accuracy_score(y_test,y_predict))\n",
    "\n",
    "rforest = RandomForestClassifier()\n",
    "rforest = rforest.fit(X_train,y_train)\n",
    "yprediction = rforest.predict(X_test)\n",
    "\n",
    "print(accuracy_score(yprediction,y_test))\n",
    "\n",
    "gbc = GradientBoostingClassifier()\n",
    "gbc =gbc.fit(X_train,y_train)\n",
    "y_out = gbc.predict(X_test)\n",
    "print(accuracy_score(y_out,y_test))\n",
    "\n",
    "abc = AdaBoostClassifier()\n",
    "abc =abc.fit(X_train,y_train)\n",
    "y_output = abc.predict(X_test)\n",
    "print(accuracy_score(y_output,y_test))"
   ]
  },
  {
   "cell_type": "code",
   "execution_count": 135,
   "metadata": {
    "collapsed": true
   },
   "outputs": [
    {
     "name": "stderr",
     "output_type": "stream",
     "text": [
      "/Users/mayurjain/anaconda/lib/python3.6/site-packages/sklearn/utils/validation.py:526: DataConversionWarning: A column-vector y was passed when a 1d array was expected. Please change the shape of y to (n_samples, ), for example using ravel().\n",
      "  y = column_or_1d(y, warn=True)\n"
     ]
    },
    {
     "name": "stdout",
     "output_type": "stream",
     "text": [
      "0.911190541655\n",
      "0.911778456123\n",
      "_____________________________\n",
      "0.914215012373\n",
      "0.907763385859\n",
      "_____________________________\n",
      "0.911190541655\n",
      "0.910733437835\n",
      "_____________________________\n",
      "0.904041792686\n",
      "0.906223358909\n",
      "_____________________________\n",
      "0.909240924092\n",
      "0.907518424816\n",
      "_____________________________\n",
      "0.898239823982\n",
      "0.905923440766\n",
      "_____________________________\n",
      "0.913641364136\n",
      "0.911945880541\n",
      "_____________________________\n",
      "0.895764576458\n",
      "0.90380596194\n",
      "_____________________________\n",
      "0.905665566557\n",
      "0.907545924541\n",
      "_____________________________\n",
      "0.913916391639\n",
      "0.908975910241\n",
      "_____________________________\n",
      "0.913641364136\n",
      "0.911175888241\n",
      "_____________________________\n"
     ]
    }
   ],
   "source": [
    "from sklearn.model_selection import KFold\n",
    "kf = KFold(n_splits=11,shuffle=True,random_state=42)\n",
    "trainX = data_X.iloc[:40000,:]\n",
    "trainy = data_y.iloc[:40000,:]\n",
    "global xtrain,ytrain,xvalid, yvalid\n",
    "for train,valid in kf.split(trainX):\n",
    "    xtrain, ytrain = trainX.iloc[train], trainy.iloc[train]\n",
    "    xvalid, yvalid = trainX.iloc[valid], trainy.iloc[valid]\n",
    "    GNB = GaussianNB()\n",
    "    BNB = BernoulliNB()\n",
    "    GNB = GNB.fit(xtrain, ytrain)\n",
    "    pred = GNB.predict(xtrain)\n",
    "    y_pred = GNB.predict(xvalid)\n",
    "    print(accuracy_score(yvalid,y_pred))\n",
    "    print(accuracy_score(ytrain,pred))\n",
    "    print(\"_____________________________\")"
   ]
  },
  {
   "cell_type": "code",
   "execution_count": 136,
   "metadata": {
    "collapsed": true
   },
   "outputs": [
    {
     "name": "stdout",
     "output_type": "stream",
     "text": [
      "0.554212243331\n"
     ]
    }
   ],
   "source": [
    "testX = data_X.iloc[40000:,:]\n",
    "testy = data_y.iloc[40000:,:]\n",
    "predict_Y = GNB.predict(testX)\n",
    "print(accuracy_score(predict_Y,testy))"
   ]
  },
  {
   "cell_type": "code",
   "execution_count": 137,
   "metadata": {
    "collapsed": true
   },
   "outputs": [
    {
     "name": "stdout",
     "output_type": "stream",
     "text": [
      "0.540395317597\n"
     ]
    },
    {
     "name": "stderr",
     "output_type": "stream",
     "text": [
      "/Users/mayurjain/anaconda/lib/python3.6/site-packages/sklearn/utils/validation.py:526: DataConversionWarning: A column-vector y was passed when a 1d array was expected. Please change the shape of y to (n_samples, ), for example using ravel().\n",
      "  y = column_or_1d(y, warn=True)\n"
     ]
    }
   ],
   "source": [
    "BNB = BNB.fit(xtrain,ytrain)\n",
    "predict_Y = BNB.predict(testX)\n",
    "print(accuracy_score(predict_Y,testy))"
   ]
  },
  {
   "cell_type": "code",
   "execution_count": 116,
   "metadata": {
    "collapsed": true
   },
   "outputs": [
    {
     "name": "stderr",
     "output_type": "stream",
     "text": [
      "/Users/mayurjain/anaconda/lib/python3.6/site-packages/sklearn/utils/validation.py:526: DataConversionWarning: A column-vector y was passed when a 1d array was expected. Please change the shape of y to (n_samples, ), for example using ravel().\n",
      "  y = column_or_1d(y, warn=True)\n"
     ]
    },
    {
     "name": "stdout",
     "output_type": "stream",
     "text": [
      "0.54077912109\n"
     ]
    }
   ],
   "source": [
    "svmcc = svm.SVC(kernel='sigmoid',C=1,gamma=1)\n",
    "svmcc = svmcc.fit(xtrain,ytrain)\n",
    "predY = svmcc.predict(testX)\n",
    "print(accuracy_score(predY,testy))"
   ]
  },
  {
   "cell_type": "code",
   "execution_count": 138,
   "metadata": {
    "collapsed": true
   },
   "outputs": [
    {
     "name": "stderr",
     "output_type": "stream",
     "text": [
      "/Users/mayurjain/anaconda/lib/python3.6/site-packages/ipykernel_launcher.py:2: DataConversionWarning: A column-vector y was passed when a 1d array was expected. Please change the shape of y to (n_samples,), for example using ravel().\n",
      "  \n"
     ]
    },
    {
     "name": "stdout",
     "output_type": "stream",
     "text": [
      "0.551525618883\n"
     ]
    }
   ],
   "source": [
    "rforest = RandomForestClassifier()\n",
    "rforest = rforest.fit(xtrain,ytrain)\n",
    "yprediction = rforest.predict(testX)\n",
    "print(accuracy_score(yprediction,testy))"
   ]
  },
  {
   "cell_type": "code",
   "execution_count": 70,
   "metadata": {
    "collapsed": true
   },
   "outputs": [
    {
     "data": {
      "image/png": "[encoded data removed]",
      "text/plain": [
       "<matplotlib.figure.Figure at 0x128128e48>"
      ]
     },
     "metadata": {},
     "output_type": "display_data"
    }
   ],
   "source": [
    "draw_data = pd.crosstab(data.age, data.is_success)\n",
    "draw_data.div(draw_data.sum(1).astype(float), axis=0).plot(kind='bar', stacked=True, color=['orchid','cornflowerblue'],grid=False, figsize=(15, 5))\n",
    "pp.show()"
   ]
  },
  {
   "cell_type": "code",
   "execution_count": 12,
   "metadata": {},
   "outputs": [
    {
     "data": {
      "image/png": "[encoded data removed]",
      "text/plain": [
       "<matplotlib.figure.Figure at 0x1108d1be0>"
      ]
     },
     "metadata": {},
     "output_type": "display_data"
    }
   ],
   "source": [
    "draw_data = pd.crosstab(data.pdays, data.is_success)\n",
    "draw_data.div(draw_data.sum(1).astype(float), axis=0).plot(kind='bar', stacked=True, color=['orchid','cornflowerblue'],grid=False, figsize=(15, 5))\n",
    "pp.show()"
   ]
  },
  {
   "cell_type": "code",
   "execution_count": 13,
   "metadata": {},
   "outputs": [
    {
     "data": {
      "image/png": "[encoded data removed]",
      "text/plain": [
       "<matplotlib.figure.Figure at 0x110b5e860>"
      ]
     },
     "metadata": {},
     "output_type": "display_data"
    }
   ],
   "source": [
    "draw_data = pd.crosstab(data.campaign, data.is_success)\n",
    "draw_data.div(draw_data.sum(1).astype(float), axis=0).plot(kind='bar', stacked=True, color=['orchid','cornflowerblue'],grid=False, figsize=(15, 5))\n",
    "pp.show()"
   ]
  },
  {
   "cell_type": "code",
   "execution_count": 14,
   "metadata": {},
   "outputs": [
    {
     "name": "stdout",
     "output_type": "stream",
     "text": [
      "1    43749\n",
      "2     1449\n",
      "4       13\n",
      "Name: campaign, dtype: int64\n"
     ]
    }
   ],
   "source": [
    "print(data['campaign'].value_counts())"
   ]
  },
  {
   "cell_type": "code",
   "execution_count": null,
   "metadata": {
    "collapsed": true
   },
   "outputs": [],
   "source": []
  }
 ],
 "metadata": {
  "kernelspec": {
   "display_name": "Python 3",
   "language": "python",
   "name": "python3"
  },
  "language_info": {
   "codemirror_mode": {
    "name": "ipython",
    "version": 3
   },
   "file_extension": ".py",
   "mimetype": "text/x-python",
   "name": "python",
   "nbconvert_exporter": "python",
   "pygments_lexer": "ipython3",
   "version": "3.6.1"
  }
 },
 "nbformat": 4,
 "nbformat_minor": 2
}
