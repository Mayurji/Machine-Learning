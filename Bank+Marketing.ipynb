{
 "cells": [
  {
   "cell_type": "code",
   "execution_count": 5,
   "metadata": {
    "collapsed": true
   },
   "outputs": [
    {
     "name": "stdout",
     "output_type": "stream",
     "text": [
      "[[ 1.         -0.07317201]\n",
      " [-0.07317201  1.        ]]\n",
      "[[ 1.          0.10362149]\n",
      " [ 0.10362149  1.        ]]\n",
      "[[ 1.          0.39452102]\n",
      " [ 0.39452102  1.        ]]\n",
      "[[ 1.          0.02515502]\n",
      " [ 0.02515502  1.        ]]\n",
      "[[ 1.         -0.02241897]\n",
      " [-0.02241897  1.        ]]\n",
      "[[ 1.        -0.1391727]\n",
      " [-0.1391727  1.       ]]\n",
      "[[ 1.         -0.06818503]\n",
      " [-0.06818503  1.        ]]\n",
      "\n"
     ]
    }
   ],
   "source": [
    "import pandas as pd\n",
    "import numpy as np\n",
    "from sklearn.cross_validation import train_test_split\n",
    "from sklearn.metrics import accuracy_score\n",
    "from sklearn.naive_bayes import GaussianNB\n",
    "from sklearn.naive_bayes import BernoulliNB\n",
    "from sklearn.ensemble import GradientBoostingClassifier\n",
    "from sklearn.ensemble import AdaBoostClassifier\n",
    "import matplotlib.pyplot as pp\n",
    "from sklearn import svm\n",
    "from sklearn.ensemble import RandomForestClassifier\n",
    "import math\n",
    "from scipy.stats.stats import pearsonr\n",
    "\n",
    "\n",
    "data = pd.read_csv('D:/textAnalysis/marketing-data.csv',sep=',',header='infer')\n",
    "\n",
    "def binaryType_(data):\n",
    "    \n",
    "    data.is_success.replace(('yes', 'no'), (1, 0), inplace=True)\n",
    "    data.default.replace(('yes','no'),(1,0),inplace=True)\n",
    "    data.housing.replace(('yes','no'),(1,0),inplace=True)\n",
    "    data.loan.replace(('yes','no'),(1,0),inplace=True)\n",
    "    return data\n",
    "\n",
    "data = binaryType_(data)\n",
    "\n",
    "# print(np.corrcoef(data['campaign'],data['is_success']))\n",
    "# print(np.corrcoef(data['pdays'],data['is_success']))\n",
    "# print(np.corrcoef(data['duration'],data['is_success']))\n",
    "# print(np.corrcoef(data['age'],data['is_success']))\n",
    "# print(np.corrcoef(data['default'],data['is_success']))\n",
    "# print(np.corrcoef(data['housing'],data['is_success']))\n",
    "# print(np.corrcoef(data['loan'],data['is_success']))\n",
    "\n",
    "#print(data.education.unique())\n",
    "#print(data.education.value_counts())\n",
    "# sec = (data.education.value_counts()[0]/ len(data.education) * 100).tolist()\n",
    "# pri = (data.education.value_counts()[1]/ len(data.education) * 100).tolist()\n",
    "# teri = (data.education.value_counts()[2]/ len(data.education) * 100).tolist()\n",
    "# tot = sec + pri + teri\n",
    "# sec_unk = math.ceil((sec/tot) * 100)\n",
    "# pri_unk = math.ceil((pri/tot) * 100)\n",
    "# teri_unk = math.ceil((teri/tot) * 100) -1\n",
    "# unk_sec = math.ceil((data.education.value_counts()[3] * sec_unk) / 100 )\n",
    "# unk_pri = math.ceil((data.education.value_counts()[3] * pri_unk) / 100 )\n",
    "# unk_teri = math.ceil((data.education.value_counts()[3] * teri_unk) / 100 ) -1 \n",
    "\n",
    "# for i in range(data.education.value_counts()[3]):\n",
    "#     for j in range(len(data['education'])):\n",
    "#         if i != unk_sec:\n",
    "#             if data['education'][j] == 'unknown':\n",
    "#                 data['education'][j] = 'secondary'\n",
    "#         elif i != unk_sec+unk_pri:\n",
    "#             if data['education'][j] == 'unknown':\n",
    "#                 data['education'][j] = 'primary'\n",
    "#         elif i != unk_sec+unk_pri+unk_teri:\n",
    "#             if data['education'][j] == 'unknown':\n",
    "#                 data['education'][j] = 'tertiary'\n",
    "#         else:\n",
    "#             break\n",
    "            \n",
    "\n",
    "#data.loc(data['education'][i].replace(('unknown'), ('secondary'), inplace=True) for i in range(unk_sec) if data['education'] == 'unknown') \n",
    "#print(data.columns)\n",
    "#print(data.marital.unique())\n",
    "#print(data[['marital', 'is_success']].groupby(['marital'], as_index=False).mean())\n",
    "for i in range(len(data.marital.unique())):\n",
    "    data[\"marital_\"+str(data.marital.unique()[i])] = (data.marital == data.marital.unique()[i]).astype(int)\n",
    "\n",
    "for j in range(len(data.job.unique())):\n",
    "    data[\"job_\"+str(data.job.unique()[j])] = (data.job == data.job.unique()[j]).astype(int)\n",
    "\n",
    "for k in range(len(data.contact.unique())):\n",
    "    data[\"contact_\"+str(data.contact.unique()[k])] = (data.contact == data.contact.unique()[k]).astype(int)\n",
    "\n",
    "for l in range(len(data.education.unique())):\n",
    "    data['education_'+str(data.education.unique()[l])] = (data.education == data.education.unique()[l]).astype(int)\n",
    "    \n",
    "#for m in range(len(data.poutcome.unique())):\n",
    "#    data['poutcome_'+str(data.poutcome.unique()[m])] = (data.poutcome == data.poutcome.unique()[m]).astype(int)\n",
    "\n",
    "data = data.drop(['education'],axis=1)\n",
    "data = data.drop(['marital'],axis=1)\n",
    "data = data.drop(['job'],axis=1)\n",
    "data = data.drop(['contact'],axis=1)\n",
    "data = data.drop(['poutcome'],axis=1)\n",
    "\n",
    "#print(data.columns)\n",
    "#print(data.age.value_counts())\n",
    "print()"
   ]
  },
  {
   "cell_type": "code",
   "execution_count": 6,
   "metadata": {
    "collapsed": true
   },
   "outputs": [
    {
     "name": "stderr",
     "output_type": "stream",
     "text": [
      "C:\\ProgramData\\Anaconda3\\lib\\site-packages\\ipykernel\\__main__.py:31: SettingWithCopyWarning: \n",
      "A value is trying to be set on a copy of a slice from a DataFrame\n",
      "\n",
      "See the caveats in the documentation: http://pandas.pydata.org/pandas-docs/stable/indexing.html#indexing-view-versus-copy\n",
      "C:\\ProgramData\\Anaconda3\\lib\\site-packages\\ipykernel\\__main__.py:28: SettingWithCopyWarning: \n",
      "A value is trying to be set on a copy of a slice from a DataFrame\n",
      "\n",
      "See the caveats in the documentation: http://pandas.pydata.org/pandas-docs/stable/indexing.html#indexing-view-versus-copy\n",
      "C:\\ProgramData\\Anaconda3\\lib\\site-packages\\ipykernel\\__main__.py:33: SettingWithCopyWarning: \n",
      "A value is trying to be set on a copy of a slice from a DataFrame\n",
      "\n",
      "See the caveats in the documentation: http://pandas.pydata.org/pandas-docs/stable/indexing.html#indexing-view-versus-copy\n",
      "C:\\ProgramData\\Anaconda3\\lib\\site-packages\\ipykernel\\__main__.py:14: SettingWithCopyWarning: \n",
      "A value is trying to be set on a copy of a slice from a DataFrame\n",
      "\n",
      "See the caveats in the documentation: http://pandas.pydata.org/pandas-docs/stable/indexing.html#indexing-view-versus-copy\n"
     ]
    }
   ],
   "source": [
    "#data = data.drop(['poutcome'],axis=1)\n",
    "from sklearn.neighbors import KNeighborsClassifier\n",
    "\n",
    "#eclf1 = VotingClassifier(estimators=[('knn', knn)], voting='soft', weights=[2])\n",
    "\n",
    "def age_(data):\n",
    "    \n",
    "    for x in range(len(data['age'])):\n",
    "        if data['age'][i] <= 28:\n",
    "            if data['age'][i] >= 18:\n",
    "                data['age'][i] = 1\n",
    "        elif data['age'][i] <= 39:\n",
    "            if data['age'][i] >= 29:\n",
    "                data['age'][i] = 2\n",
    "        elif data['age'][i] <=49:\n",
    "            if data['age'][i] >=40:\n",
    "                data['age'][i] = 3\n",
    "        else:\n",
    "            data['age'][i]=4\n",
    "    \n",
    "    return data\n",
    "\n",
    "def pdays_(data):\n",
    "\n",
    "    for i in range(len(data['pdays'])):\n",
    "        if data['pdays'][i] < 100:\n",
    "            if data['pdays'][i] > 0:\n",
    "                data['pdays'][i] = 1\n",
    "        elif data['pdays'][i] < 300:\n",
    "            if data['pdays'][i] > 99:\n",
    "                data['pdays'][i] = 2\n",
    "        elif data['pdays'][i] > 299:\n",
    "            data['pdays'][i] = 3\n",
    "        else:\n",
    "            data['pdays'][i] = 4\n",
    "            \n",
    "    return data\n",
    "\n",
    "    \n",
    "data = pdays_(data)\n",
    "data = age_(data)\n",
    "\n",
    "\n",
    "#print(data[['education', 'is_success']].groupby(['education'], as_index=False).mean())\n",
    "#print(data.education.unique())\n",
    "#print(data.columns)\n",
    "#print(data[['housing', 'is_success']].groupby(['housing'], as_index=False).mean())\n",
    "#print(data[['loan', 'is_success']].groupby(['loan'], as_index=False).mean())\n",
    "#print(data[['job', 'is_success']].groupby(['job'], as_index=False).mean())\n",
    "# print(data[['pdays', 'is_success']].groupby(['pdays'], as_index=False).mean())\n",
    "# print(data[['previous', 'is_success']].groupby(['previous'], as_index=False).mean())\n",
    "# print(data[['poutcome', 'is_success']].groupby(['poutcome'], as_index=False).mean())\n",
    "# print(data[['campaign', 'is_success']].groupby(['campaign'], as_index=False).mean())\n",
    "# from sklearn import preprocessing\n",
    "# LEncoder = preprocessing.LabelEncoder()\n",
    "# LEncoder.fit(['admin.','blue-collar','entrepreneur','housemaid','management','retired','self-employed','services','student','technician','unemployed','unknown'])\n",
    "# data['job'] = LEncoder.transform(data['job'])\n",
    "#print(data['job'])\n",
    "\n",
    "\n",
    "\n",
    "\n",
    "\n",
    "# clf = svm.SVC(kernel='rbf', C=1,gamma=1)\n",
    "# clf.fit(X_train,y_train)\n",
    "# y_pred = clf.predict(X_test)\n",
    "\n",
    "# print(accuracy_score(y_test,y_pred))"
   ]
  },
  {
   "cell_type": "code",
   "execution_count": 7,
   "metadata": {
    "collapsed": true
   },
   "outputs": [
    {
     "name": "stderr",
     "output_type": "stream",
     "text": [
      "C:\\ProgramData\\Anaconda3\\lib\\site-packages\\ipykernel\\__main__.py:6: SettingWithCopyWarning: \n",
      "A value is trying to be set on a copy of a slice from a DataFrame\n",
      "\n",
      "See the caveats in the documentation: http://pandas.pydata.org/pandas-docs/stable/indexing.html#indexing-view-versus-copy\n",
      "C:\\ProgramData\\Anaconda3\\lib\\site-packages\\ipykernel\\__main__.py:9: SettingWithCopyWarning: \n",
      "A value is trying to be set on a copy of a slice from a DataFrame\n",
      "\n",
      "See the caveats in the documentation: http://pandas.pydata.org/pandas-docs/stable/indexing.html#indexing-view-versus-copy\n"
     ]
    }
   ],
   "source": [
    "def campaign_(data):\n",
    "    \n",
    "    for i in range(len(data['campaign'])):\n",
    "        #print(data['campaign'][i])\n",
    "        if data['campaign'][i] == 1:\n",
    "            data['campaign'][i] = 1\n",
    "        elif data['campaign'][i] >=2:\n",
    "            if data['campaign'][i] <=3:\n",
    "                data['campaign'][i] = 2\n",
    "        else:\n",
    "            data['campaign'][i] = 3\n",
    "    return data\n",
    "\n",
    "data = campaign_(data)"
   ]
  },
  {
   "cell_type": "code",
   "execution_count": 8,
   "metadata": {
    "collapsed": true
   },
   "outputs": [
    {
     "name": "stderr",
     "output_type": "stream",
     "text": [
      "C:\\ProgramData\\Anaconda3\\lib\\site-packages\\ipykernel\\__main__.py:9: SettingWithCopyWarning: \n",
      "A value is trying to be set on a copy of a slice from a DataFrame\n",
      "\n",
      "See the caveats in the documentation: http://pandas.pydata.org/pandas-docs/stable/indexing.html#indexing-view-versus-copy\n",
      "C:\\ProgramData\\Anaconda3\\lib\\site-packages\\ipykernel\\__main__.py:6: SettingWithCopyWarning: \n",
      "A value is trying to be set on a copy of a slice from a DataFrame\n",
      "\n",
      "See the caveats in the documentation: http://pandas.pydata.org/pandas-docs/stable/indexing.html#indexing-view-versus-copy\n",
      "C:\\ProgramData\\Anaconda3\\lib\\site-packages\\ipykernel\\__main__.py:14: SettingWithCopyWarning: \n",
      "A value is trying to be set on a copy of a slice from a DataFrame\n",
      "\n",
      "See the caveats in the documentation: http://pandas.pydata.org/pandas-docs/stable/indexing.html#indexing-view-versus-copy\n",
      "C:\\ProgramData\\Anaconda3\\lib\\site-packages\\ipykernel\\__main__.py:12: SettingWithCopyWarning: \n",
      "A value is trying to be set on a copy of a slice from a DataFrame\n",
      "\n",
      "See the caveats in the documentation: http://pandas.pydata.org/pandas-docs/stable/indexing.html#indexing-view-versus-copy\n",
      "C:\\ProgramData\\Anaconda3\\lib\\site-packages\\sklearn\\utils\\validation.py:526: DataConversionWarning: A column-vector y was passed when a 1d array was expected. Please change the shape of y to (n_samples, ), for example using ravel().\n",
      "  y = column_or_1d(y, warn=True)\n",
      "C:\\ProgramData\\Anaconda3\\lib\\site-packages\\ipykernel\\__main__.py:39: DataConversionWarning: A column-vector y was passed when a 1d array was expected. Please change the shape of y to (n_samples, ), for example using ravel().\n"
     ]
    },
    {
     "name": "stdout",
     "output_type": "stream",
     "text": [
      "0.793873714475\n",
      "0.855025986951\n",
      "0.877253123963\n"
     ]
    },
    {
     "name": "stderr",
     "output_type": "stream",
     "text": [
      "C:\\ProgramData\\Anaconda3\\lib\\site-packages\\ipykernel\\__main__.py:44: DataConversionWarning: A column-vector y was passed when a 1d array was expected. Please change the shape of y to (n_samples,), for example using ravel().\n"
     ]
    },
    {
     "name": "stdout",
     "output_type": "stream",
     "text": [
      "0.880238858786\n"
     ]
    },
    {
     "name": "stderr",
     "output_type": "stream",
     "text": [
      "C:\\ProgramData\\Anaconda3\\lib\\site-packages\\sklearn\\utils\\validation.py:526: DataConversionWarning: A column-vector y was passed when a 1d array was expected. Please change the shape of y to (n_samples, ), for example using ravel().\n",
      "  y = column_or_1d(y, warn=True)\n"
     ]
    },
    {
     "name": "stdout",
     "output_type": "stream",
     "text": [
      "0.89162888422\n",
      "0.88886431494\n"
     ]
    }
   ],
   "source": [
    "def balance_(data):\n",
    "    \n",
    "    for x in range(len(data['balance'])):\n",
    "        if data['balance'][x] < 1001:\n",
    "            if data['balance'][x] > 0:\n",
    "                data['balance'][x] = 1\n",
    "        elif data['balance'][x] < 3001:\n",
    "            if data['balance'][x] > 1000:\n",
    "                data['balance'][x] = 2\n",
    "        elif data['balance'][x] < 10001:\n",
    "            if data['balance'][x] > 3000:\n",
    "                data['balance'][x] = 3\n",
    "        elif data['balance'][x] > 10000:\n",
    "            data['balance'][x] = 4\n",
    "        elif data['balance'][x] == 0:\n",
    "            data['balance'][x] = 5\n",
    "        \n",
    "    \n",
    "    return data\n",
    "    \n",
    "data = balance_(data)\n",
    "data_X = data.drop(['is_success','day','month'],axis=1)\n",
    "data_y = pd.DataFrame(data['is_success'])\n",
    "X_train,X_test,y_train,y_test = train_test_split(data_X,data_y,test_size=0.2,random_state=0)\n",
    "\n",
    "knn = KNeighborsClassifier(n_neighbors=2)\n",
    "knn.fit(X_train,y_train)\n",
    "y_predict = knn.predict(X_test)\n",
    "print(accuracy_score(y_test,y_predict))\n",
    "\n",
    "rforest = RandomForestClassifier()\n",
    "rforest = rforest.fit(X_train,y_train)\n",
    "yprediction = rforest.predict(X_test)\n",
    "\n",
    "print(accuracy_score(yprediction,y_test))\n",
    "\n",
    "gbc = GradientBoostingClassifier()\n",
    "gbc =gbc.fit(X_train,y_train)\n",
    "y_out = gbc.predict(X_test)\n",
    "print(accuracy_score(y_out,y_test))\n",
    "\n",
    "abc = AdaBoostClassifier()\n",
    "abc =abc.fit(X_train,y_train)\n",
    "y_output = abc.predict(X_test)\n",
    "print(accuracy_score(y_output,y_test))"
   ]
  },
  {
   "cell_type": "code",
   "execution_count": 9,
   "metadata": {
    "collapsed": true
   },
   "outputs": [
    {
     "name": "stdout",
     "output_type": "stream",
     "text": [
      " 1       23300\n",
      " 2        9020\n",
      " 3        4782\n",
      " 0        3514\n",
      " 4         829\n",
      "-1          50\n",
      "-2          25\n",
      "-3          22\n",
      "-97         17\n",
      "-17         16\n",
      "-90         16\n",
      "-100        16\n",
      "-63         16\n",
      "-15         16\n",
      "-27         16\n",
      "-158        16\n",
      "-4          15\n",
      "-24         15\n",
      "-32         15\n",
      "-11         15\n",
      "-56         14\n",
      "-119        14\n",
      "-14         14\n",
      "-6          14\n",
      "-35         14\n",
      "-98         13\n",
      "-267        13\n",
      "-7          13\n",
      "-45         13\n",
      "-79         13\n",
      "         ...  \n",
      "-1300        1\n",
      "-905         1\n",
      "-777         1\n",
      "-713         1\n",
      "-681         1\n",
      "-467         1\n",
      "-1193        1\n",
      "-1545        1\n",
      "-918         1\n",
      "-1737        1\n",
      "-982         1\n",
      "-1014        1\n",
      "-1110        1\n",
      "-1270        1\n",
      "-1480        1\n",
      "-1224        1\n",
      "-808         1\n",
      "-680         1\n",
      "-501         1\n",
      "-533         1\n",
      "-597         1\n",
      "-661         1\n",
      "-725         1\n",
      "-757         1\n",
      "-853         1\n",
      "-1013        1\n",
      "-1493        1\n",
      "-1781        1\n",
      "-1941        1\n",
      "-1601        1\n",
      "Name: balance, dtype: int64\n"
     ]
    }
   ],
   "source": [
    "print(data['balance'].value_counts())"
   ]
  },
  {
   "cell_type": "code",
   "execution_count": 10,
   "metadata": {
    "collapsed": true
   },
   "outputs": [
    {
     "data": {
      "image/png": "[encoded data removed]",
      "text/plain": [
       "<matplotlib.figure.Figure at 0x4d04da0>"
      ]
     },
     "metadata": {},
     "output_type": "display_data"
    }
   ],
   "source": [
    "draw_data = pd.crosstab(data.age, data.is_success)\n",
    "draw_data.div(draw_data.sum(1).astype(float), axis=0).plot(kind='bar', stacked=True, color=['orchid','cornflowerblue'],grid=False, figsize=(15, 5))\n",
    "pp.show()"
   ]
  },
  {
   "cell_type": "code",
   "execution_count": 11,
   "metadata": {
    "collapsed": true
   },
   "outputs": [
    {
     "data": {
      "image/png": "[encoded data removed]",
      "text/plain": [
       "<matplotlib.figure.Figure at 0x8c98f60>"
      ]
     },
     "metadata": {},
     "output_type": "display_data"
    }
   ],
   "source": [
    "draw_data = pd.crosstab(data.pdays, data.is_success)\n",
    "draw_data.div(draw_data.sum(1).astype(float), axis=0).plot(kind='bar', stacked=True, color=['orchid','cornflowerblue'],grid=False, figsize=(15, 5))\n",
    "pp.show()"
   ]
  },
  {
   "cell_type": "code",
   "execution_count": 12,
   "metadata": {
    "collapsed": true
   },
   "outputs": [
    {
     "data": {
      "image/png": "[encoded data removed]",
      "text/plain": [
       "<matplotlib.figure.Figure at 0xbabe898>"
      ]
     },
     "metadata": {},
     "output_type": "display_data"
    }
   ],
   "source": [
    "draw_data = pd.crosstab(data.balance, data.is_success)\n",
    "draw_data.div(draw_data.sum(1).astype(float), axis=0).plot(kind='bar', stacked=True, color=['orchid','cornflowerblue'],grid=False, figsize=(15, 5))\n",
    "pp.show()"
   ]
  },
  {
   "cell_type": "code",
   "execution_count": 13,
   "metadata": {
    "collapsed": true
   },
   "outputs": [
    {
     "data": {
      "image/png": "[encoded data removed]",
      "text/plain": [
       "<matplotlib.figure.Figure at 0xe86f470>"
      ]
     },
     "metadata": {},
     "output_type": "display_data"
    }
   ],
   "source": [
    "#data = pd.read_csv('D:/textAnalysis/marketing-data.csv',sep=',',header='infer')\n",
    "figure = pp.figure()\n",
    "new_plot = figure.add_subplot(111)\n",
    "new_plot.plot(data['age'], data['balance'])\n",
    "pp.show()"
   ]
  },
  {
   "cell_type": "code",
   "execution_count": 14,
   "metadata": {
    "collapsed": true
   },
   "outputs": [
    {
     "name": "stdout",
     "output_type": "stream",
     "text": [
      "    age  is_success\n",
      "0     2    0.000000\n",
      "1    18    0.583333\n",
      "2    19    0.314286\n",
      "3    20    0.300000\n",
      "4    21    0.278481\n",
      "5    22    0.310078\n",
      "6    23    0.217822\n",
      "7    24    0.225166\n",
      "8    25    0.214421\n",
      "9    26    0.166460\n",
      "10   27    0.155116\n",
      "11   28    0.156069\n",
      "12   29    0.144304\n",
      "13   30    0.123506\n",
      "14   31    0.103206\n",
      "15   32    0.105995\n",
      "16   33    0.106545\n",
      "17   34    0.102591\n",
      "18   35    0.110348\n",
      "19   36    0.107973\n",
      "20   37    0.100236\n",
      "21   38    0.098226\n",
      "22   39    0.096167\n",
      "23   40    0.085609\n",
      "24   41    0.092951\n",
      "25   42    0.089372\n",
      "26   43    0.088717\n",
      "27   44    0.081866\n",
      "28   45    0.087171\n",
      "29   46    0.100426\n",
      "..  ...         ...\n",
      "48   65    0.355932\n",
      "49   66    0.380952\n",
      "50   67    0.425926\n",
      "51   68    0.583333\n",
      "52   69    0.386364\n",
      "53   70    0.253731\n",
      "54   71    0.462963\n",
      "55   72    0.461538\n",
      "56   73    0.545455\n",
      "57   74    0.351351\n",
      "58   75    0.384615\n",
      "59   76    0.500000\n",
      "60   77    0.500000\n",
      "61   78    0.466667\n",
      "62   79    0.400000\n",
      "63   80    0.387097\n",
      "64   81    0.352941\n",
      "65   82    0.421053\n",
      "66   83    0.272727\n",
      "67   84    0.555556\n",
      "68   85    0.800000\n",
      "69   86    0.444444\n",
      "70   87    0.750000\n",
      "71   88    0.000000\n",
      "72   89    0.000000\n",
      "73   90    1.000000\n",
      "74   92    1.000000\n",
      "75   93    1.000000\n",
      "76   94    0.000000\n",
      "77   95    0.500000\n",
      "\n",
      "[78 rows x 2 columns]\n"
     ]
    }
   ],
   "source": [
    "print (data[['age', 'is_success']].groupby(['age'], as_index=False).mean())"
   ]
  },
  {
   "cell_type": "code",
   "execution_count": 49,
   "metadata": {
    "collapsed": false
   },
   "outputs": [
    {
     "name": "stdout",
     "output_type": "stream",
     "text": [
      "2     18026\n",
      "1     17544\n",
      "4      3522\n",
      "5      1764\n",
      "6      1291\n",
      "7       735\n",
      "8       540\n",
      "9       327\n",
      "10      266\n",
      "11      201\n",
      "12      155\n",
      "13      133\n",
      "14       93\n",
      "15       84\n",
      "16       79\n",
      "17       69\n",
      "18       51\n",
      "19       44\n",
      "20       43\n",
      "21       35\n",
      "22       23\n",
      "23       22\n",
      "25       22\n",
      "24       20\n",
      "28       16\n",
      "29       16\n",
      "26       13\n",
      "31       12\n",
      "27       10\n",
      "32        9\n",
      "30        8\n",
      "33        6\n",
      "34        5\n",
      "35        4\n",
      "36        4\n",
      "38        3\n",
      "43        3\n",
      "41        2\n",
      "50        2\n",
      "37        2\n",
      "58        1\n",
      "51        1\n",
      "55        1\n",
      "46        1\n",
      "39        1\n",
      "44        1\n",
      "63        1\n",
      "Name: campaign, dtype: int64\n"
     ]
    }
   ],
   "source": [
    "print(data['campaign'].value_counts())"
   ]
  },
  {
   "cell_type": "code",
   "execution_count": 16,
   "metadata": {
    "collapsed": false
   },
   "outputs": [],
   "source": [
    "data_X = data.drop(['is_success','day','month'],axis=1)\n",
    "data_y = pd.DataFrame(data['is_success'])\n",
    "\n",
    "import matplotlib.pyplot as plt\n",
    "import seaborn as sns\n",
    "\n",
    "from sklearn.model_selection import StratifiedShuffleSplit\n",
    "from sklearn.metrics import accuracy_score, log_loss\n",
    "from sklearn.neighbors import KNeighborsClassifier\n",
    "from sklearn.svm import SVC\n",
    "from sklearn.tree import DecisionTreeClassifier\n",
    "from sklearn.ensemble import RandomForestClassifier, AdaBoostClassifier, GradientBoostingClassifier\n",
    "from sklearn.naive_bayes import GaussianNB\n",
    "from sklearn.discriminant_analysis import LinearDiscriminantAnalysis, QuadraticDiscriminantAnalysis\n",
    "from sklearn.linear_model import LogisticRegression\n",
    "\n",
    "classifiers = [\n",
    "    KNeighborsClassifier(3)]#SVC(probability=True),DecisionTreeClassifier(),RandomForestClassifier(),AdaBoostClassifier(),\n",
    "    #GradientBoostingClassifier(),GaussianNB(),LinearDiscriminantAnalysis(),QuadraticDiscriminantAnalysis(),\n",
    "    #LogisticRegression()]\n",
    "\n",
    "log_cols = [\"Classifier\", \"Accuracy\"]\n",
    "log = pd.DataFrame(columns=log_cols)\n",
    "\n",
    "#sss = StratifiedShuffleSplit(n_splits=10, test_size=0.1, random_state=0)\n",
    "\n",
    "# X = train[0::, 1::]\n",
    "# y = train[0::, 0]\n",
    "\n",
    "# acc_dict = {}\n",
    "\n",
    "# for i in range(10):\n",
    "# #     print(train_index)\n",
    "# #     print(test_index)\n",
    "# #     X_train, X_test = data_X[train_index], data_X[test_index]\n",
    "# #     y_train, y_test = data_y[train_index], data_y[test_index]\n",
    "#     X_train,X_test,y_train,y_test = train_test_split(data_X,data_y,test_size=0.2,random_state=0)\n",
    "#     for clf in classifiers:\n",
    "#         clf.fit(X_train, y_train)\n",
    "#         train_predictions = clf.predict(X_test)\n",
    "#         acc = accuracy_score(y_test, train_predictions)\n",
    "#         if name in acc_dict:\n",
    "#             acc_dict[name] += acc\n",
    "#         else:\n",
    "#             acc_dict[name] = acc\n",
    "\n",
    "# for clf in acc_dict:\n",
    "#     acc_dict[clf] = acc_dict[clf] / 10.0\n",
    "#     log_entry = pd.DataFrame([[clf, acc_dict[clf]]], columns=log_cols)\n",
    "#     log = log.append(log_entry)\n",
    "\n",
    "# print(log)\n",
    "# plt.xlabel('Accuracy')\n",
    "# plt.title('Classifier Accuracy')\n",
    "\n",
    "# sns.set_color_codes(\"muted\")\n",
    "# sns.barplot(x='Accuracy', y='Classifier', data=log, color=\"b\")"
   ]
  },
  {
   "cell_type": "code",
   "execution_count": 50,
   "metadata": {
    "collapsed": false
   },
   "outputs": [
    {
     "name": "stderr",
     "output_type": "stream",
     "text": [
      "C:\\ProgramData\\Anaconda3\\lib\\site-packages\\ipykernel\\__main__.py:2: DataConversionWarning: A column-vector y was passed when a 1d array was expected. Please change the shape of y to (n_samples, ), for example using ravel().\n",
      "  from ipykernel import kernelapp as app\n"
     ]
    }
   ],
   "source": [
    "knn = KNeighborsClassifier(8)\n",
    "knn.fit(X_train, y_train)\n",
    "train_predictions = knn.predict(X_test)\n",
    "acc = accuracy_score(y_test, train_predictions)\n"
   ]
  },
  {
   "cell_type": "code",
   "execution_count": 51,
   "metadata": {
    "collapsed": false
   },
   "outputs": [
    {
     "name": "stdout",
     "output_type": "stream",
     "text": [
      "0.881123520955\n"
     ]
    }
   ],
   "source": [
    "print(acc)"
   ]
  },
  {
   "cell_type": "code",
   "execution_count": null,
   "metadata": {
    "collapsed": false
   },
   "outputs": [
    {
     "name": "stderr",
     "output_type": "stream",
     "text": [
      "C:\\ProgramData\\Anaconda3\\lib\\site-packages\\sklearn\\utils\\validation.py:526: DataConversionWarning: A column-vector y was passed when a 1d array was expected. Please change the shape of y to (n_samples, ), for example using ravel().\n",
      "  y = column_or_1d(y, warn=True)\n"
     ]
    }
   ],
   "source": [
    "sv = SVC(probability=True)\n",
    "sv.fit(X_train, y_train)\n",
    "train_predictions = sv.predict(X_test)\n",
    "acc = accuracy_score(y_test, train_predictions)\n",
    "print(acc)"
   ]
  },
  {
   "cell_type": "code",
   "execution_count": null,
   "metadata": {
    "collapsed": false
   },
   "outputs": [],
   "source": [
    "LDA = LinearDiscriminantAnalysis()\n",
    "LDA.fit(X_train, y_train)\n",
    "train_predictions = LDA.predict(X_test)\n",
    "acc = accuracy_score(y_test, train_predictions)\n",
    "print(acc)"
   ]
  },
  {
   "cell_type": "code",
   "execution_count": null,
   "metadata": {
    "collapsed": false
   },
   "outputs": [],
   "source": [
    "qDA = QuadraticDiscriminantAnalysis()\n",
    "qDA.fit(X_train, y_train)\n",
    "train_predictions = qDA.predict(X_test)\n",
    "acc = accuracy_score(y_test, train_predictions)\n",
    "print(acc)"
   ]
  },
  {
   "cell_type": "code",
   "execution_count": null,
   "metadata": {
    "collapsed": false
   },
   "outputs": [],
   "source": [
    "LR = LogisticRegression()\n",
    "LR.fit(X_train, y_train)\n",
    "train_predictions = LR.predict(X_test)\n",
    "acc = accuracy_score(y_test, train_predictions)\n",
    "print(acc)"
   ]
  },
  {
   "cell_type": "code",
   "execution_count": null,
   "metadata": {
    "collapsed": false
   },
   "outputs": [],
   "source": [
    "DR = DecisionTreeClassifier()\n",
    "DR.fit(X_train, y_train)\n",
    "train_predictions = DR.predict(X_test)\n",
    "acc = accuracy_score(y_test, train_predictions)\n",
    "print(acc)"
   ]
  },
  {
   "cell_type": "code",
   "execution_count": null,
   "metadata": {
    "collapsed": false
   },
   "outputs": [],
   "source": [
    "modelGNB = GaussianNB()\n",
    "modelGNB.fit(X_train, y_train)\n",
    "y_pred = modelGNB.predict(X_test)\n",
    "\n",
    "print(accuracy_score(y_test,y_pred))"
   ]
  },
  {
   "cell_type": "code",
   "execution_count": null,
   "metadata": {
    "collapsed": true
   },
   "outputs": [],
   "source": [
    "draw_data = pd.crosstab(data.campaign, data.is_success)\n",
    "draw_data.div(draw_data.sum(1).astype(float), axis=0).plot(kind='bar', stacked=True, color=['orchid','cornflowerblue'],grid=False, figsize=(15, 5))\n",
    "pp.show()"
   ]
  },
  {
   "cell_type": "code",
   "execution_count": null,
   "metadata": {
    "collapsed": true
   },
   "outputs": [],
   "source": []
  },
  {
   "cell_type": "code",
   "execution_count": null,
   "metadata": {
    "collapsed": true
   },
   "outputs": [],
   "source": []
  }
 ],
 "metadata": {
  "kernelspec": {
   "display_name": "Python 3",
   "language": "python",
   "name": "python3"
  }
 },
 "nbformat": 4,
 "nbformat_minor": 2
}
