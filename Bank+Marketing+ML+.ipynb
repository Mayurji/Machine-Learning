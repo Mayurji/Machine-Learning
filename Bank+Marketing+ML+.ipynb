{
 "cells": [
  {
   "cell_type": "markdown",
   "metadata": {},
   "source": [
    "# Predictive Analysis on Bank Marketing Dataset :\n",
    "\n",
    "** Bank Marketing Dataset contains both type variables 'Categorical' and 'Numerical'.\n",
    "    \n",
    "### Categorical Variable includes :\n",
    "\n",
    "        * Marital - (Married , Single , Divorced)\",\n",
    "        * Job - (Management,Blue-Collar,Technician,entrepreneur,retired,admin.,services,selfemployed,housemaid,student,unemployed,unknown)\n",
    "        * Contact - (Telephone,Cellular,Unknown)\n",
    "        * Education - (Primary,Secondary,Tertiary,Unknown)\n",
    "        * Month - (Jan,Feb,Mar,Apr,May,Jun,Jul,Aug,Sep,Oct,Nov,Dec)\n",
    "        * Poutcome - (Success,Failure,Other,Unknown)\n",
    "        * Housing - (Yes/No)\n",
    "        * Loan - (Yes/No)\n",
    "        * is_success - (Yes/No)\n",
    "        * Default - (Yes/No)\n",
    "\n",
    "### Numerical Variable:\n",
    "    \n",
    "        * Age\n",
    "        * Balance\n",
    "        * Day\n",
    "        * Duration\n",
    "        * Campaign\n",
    "        * Pdays\n",
    "        * Previous\n",
    "    \n",
    "## Mean, Standard Deviation, Min, Max, Quantile output of all numerical variable:\n",
    "\n",
    "\n",
    "            |Description|age     |balance  |duration|campaign|pdays    |previous|day      |\n",
    "            |-----------|--------|---------|--------|--------|---------|--------|---------|\n",
    "            |count      |45211.00|45211.00 |45211.00|45211.00|45211.00 |45211.00|45211.00 |\n",
    "            |-----------|--------|---------|--------|--------|---------|--------|---------|\n",
    "            |mean       |40.93   |1362.27  |258.16  |2.76    |40.19    |0.58    |15.80    |\n",
    "            |-----------|--------|---------|--------|--------|---------|--------|---------| \n",
    "            |std        |10.61   |3044.76  |257.52  |3.09    |100.12   |2.30    |8.32     |\n",
    "            |-----------|--------|---------|--------|--------|---------|--------|---------|\n",
    "            |min        |18.00   |-8019.00 |0.00    |1.00    |-1.00    |0.00    |1.00     |\n",
    "            |-----------|--------|---------|--------|--------|---------|--------|---------|\n",
    "            |25%        |33.00   |72.00    |103.00  |1.00    |-1.00    |0.00    |8.00     |\n",
    "            |-----------|--------|---------|--------|--------|---------|--------|---------|\n",
    "            |50%        |39.00   |448.00   |180.00  |2.00    |-1.00    |0.00    |16.00    |\n",
    "            |-----------|--------|---------|--------|--------|---------|--------|---------|\n",
    "            |75%        |48.00   |1428.00  |319.00  |3.00    |-1.00    |0.00    |21.00    |\n",
    "            |-----------|--------|---------|--------|--------|---------|--------|---------|\n",
    "            |max        |95.00   |102127.00|4918.00 |63.00   |871.00   |275.00  |31.00    |\n",
    "            |-----------|--------|---------|--------|--------|---------|--------|---------|\n",
    "\n",
    "\n",
    "#### Understanding above table :\n",
    "   \n",
    "   ** Outlier :  data_point > (Q3 * 1.5) is said to be outlier where Q3 is 75% Quantile !\n",
    "    \n",
    "#### Age:\n",
    "\n",
    "   ** Average age of the people in the dataset is ~41 with std of 10.61\n",
    "   \n",
    "   ** Min. age is 18\n",
    "   \n",
    "   ** Max. age is 95\n",
    "   \n",
    "   ** quantile 75%(percentile) refers that 75 percentage of the people have 48 or less age.\n",
    "   \n",
    "   ** As 95 is max, there is great chance that its a outlier \"48*(3/2) = 72\". So anything greater than 72 is outlier.\n",
    "\n",
    "#### Balance: \n",
    "\n",
    "   ** Average balance of the people in the dataset is (approx)1326.27 with std of 3044.76, as standard deviation is quite huge it means that balance is wide spread across the dataset.\n",
    " \n",
    "   ** Min. balance is -8019\n",
    " \n",
    "   ** Max. balance is 102127\n",
    " \n",
    "   ** quantile 75%(percentile) refers that 75 percentage of the people have 1428 or less balance.\n",
    " \n",
    "   ** while comparing with 75% quantile, 102127 is very huge and its a outlier data point.\n",
    "\n",
    "#### Duration: \n",
    "\n",
    "   ** Average duration of the people speaking in the dataset is (approx)258.16 with std of 257.52, as standard deviation is quite huge it means that duration is wide spread across the dataset.\n",
    "  \n",
    "   ** Min. duration is 0\n",
    " \n",
    "   ** Max. duration is 4918\n",
    "  \n",
    "   ** quantile 75%(percentile) refers that 75 percentage of the people spoke for 319 seconds or less.\n",
    "  \n",
    "   ** while comparing with 75% quantile, 4918 is a outlier data point.\n",
    "\n",
    "#### Pdays:\n",
    "\n",
    "   ** Average no. of days passed after the client was contacted from previous campaign in the dataset is (approx)40.19 with std of 100.12.\n",
    "   \n",
    "   ** Min. pdays is -1\n",
    "   \n",
    "   ** Max. pdays is 871\n",
    "   \n",
    "   ** quantile 75%(percentile),for 75% of records it is -1 days, which means the Client was not contacted.\n",
    "\n",
    "#### Campaign: \n",
    "    \n",
    "   ** Average no. of contacts performed during the current campaign for a client in the dataset is (approx)2.76 with std of 3.09.\n",
    "   \n",
    "   ** Min. balance is 1\n",
    "   \n",
    "   ** Max. balance is 63\n",
    "   \n",
    "   ** quantile 75%(percentile),for 75% of records, 3 times the client has been contacted in the current campaign for a client.\n",
    "   \n",
    "   ** while comparing with 75% quantile,63 is a outlier data point.\n",
    "   \n",
    "#### Previous:\n",
    "    \n",
    "   ** Average no. of contacts performed before this campaign for a client in the dataset is (approx)0.58 with std of 2.30.\n",
    "   \n",
    "   ** Min. balance is 0.\n",
    "   \n",
    "   ** Max. balance is 275.\n",
    "   \n",
    "   ** quantile 75%(percentile),for 75% of records, 0 times the client has been contacted before this campaign.\n",
    "   \n",
    "   ** while comparing with 75% quantile,275 is a outlier data point.\n",
    "   \n",
    "   "
   ]
  },
  {
   "cell_type": "code",
   "execution_count": 35,
   "metadata": {
    "scrolled": true
   },
   "outputs": [
    {
     "name": "stdout",
     "output_type": "stream",
     "text": [
      "0    39922\n",
      "1     5289\n",
      "Name: is_success, dtype: int64\n",
      "                age       marital     education       default        balance  \\\n",
      "count  45211.000000  45211.000000  45211.000000  45211.000000   45211.000000   \n",
      "mean      40.936210      1.513238      2.224813      0.018027    1362.272058   \n",
      "std       10.618762      0.692948      0.747997      0.133049    3044.765829   \n",
      "min       18.000000      1.000000      1.000000      0.000000   -8019.000000   \n",
      "25%       33.000000      1.000000      2.000000      0.000000      72.000000   \n",
      "50%       39.000000      1.000000      2.000000      0.000000     448.000000   \n",
      "75%       48.000000      2.000000      3.000000      0.000000    1428.000000   \n",
      "max       95.000000      3.000000      4.000000      1.000000  102127.000000   \n",
      "\n",
      "            housing          loan       contact         month      duration  \\\n",
      "count  45211.000000  45211.000000  45211.000000  45211.000000  45211.000000   \n",
      "mean       0.555838      0.160226      2.223707      6.144655    258.163080   \n",
      "std        0.496878      0.366820      0.549747      2.408034    257.527812   \n",
      "min        0.000000      0.000000      1.000000      1.000000      0.000000   \n",
      "25%        0.000000      0.000000      2.000000      5.000000    103.000000   \n",
      "50%        1.000000      0.000000      2.000000      6.000000    180.000000   \n",
      "75%        1.000000      0.000000      3.000000      8.000000    319.000000   \n",
      "max        1.000000      1.000000      3.000000     12.000000   4918.000000   \n",
      "\n",
      "           campaign         pdays      previous    is_success  \n",
      "count  45211.000000  45211.000000  45211.000000  45211.000000  \n",
      "mean       2.763841     40.197828      0.580323      0.116985  \n",
      "std        3.098021    100.128746      2.303441      0.321406  \n",
      "min        1.000000     -1.000000      0.000000      0.000000  \n",
      "25%        1.000000     -1.000000      0.000000      0.000000  \n",
      "50%        2.000000     -1.000000      0.000000      0.000000  \n",
      "75%        3.000000     -1.000000      0.000000      0.000000  \n",
      "max       63.000000    871.000000    275.000000      1.000000  \n",
      "   age           job  marital  education  default  balance  housing  loan  \\\n",
      "0   58    management        1          3        0     2143        1     0   \n",
      "1   44    technician        2          2        0       29        1     0   \n",
      "2   33  entrepreneur        1          2        0        2        1     1   \n",
      "3   47   blue-collar        1          4        0     1506        1     0   \n",
      "4   33       unknown        2          4        0        1        0     0   \n",
      "\n",
      "   contact  month  duration  campaign  pdays  previous  is_success  \n",
      "0        3      5       261         1     -1         0           0  \n",
      "1        3      5       151         1     -1         0           0  \n",
      "2        3      5        76         1     -1         0           0  \n",
      "3        3      5        92         1     -1         0           0  \n",
      "4        3      5       198         1     -1         0           0  \n"
     ]
    }
   ],
   "source": [
    "import matplotlib.pyplot as plt\n",
    "import seaborn as sns\n",
    "import pandas as pd\n",
    "import numpy as np\n",
    "from sklearn.cross_validation import train_test_split\n",
    "from sklearn.metrics import accuracy_score, log_loss\n",
    "from sklearn.neighbors import KNeighborsClassifier\n",
    "from sklearn.svm import SVC\n",
    "from sklearn.tree import DecisionTreeClassifier\n",
    "from sklearn.ensemble import RandomForestClassifier, AdaBoostClassifier, GradientBoostingClassifier\n",
    "from sklearn.naive_bayes import GaussianNB\n",
    "from sklearn.discriminant_analysis import LinearDiscriminantAnalysis\n",
    "from sklearn.linear_model import LogisticRegression\n",
    "from sklearn import metrics as m\n",
    "from sklearn.model_selection import StratifiedShuffleSplit\n",
    "from sklearn.model_selection import ShuffleSplit\n",
    "\n",
    "data = pd.read_csv('/Users/mayurjain/Documents/Fragma ML TEST/August 13/marketing-data.csv',sep=',',header='infer')\n",
    "data = data.drop(['day','poutcome'],axis=1)\n",
    "\n",
    "def binaryType_(data):\n",
    "    \n",
    "    data.is_success.replace(('yes', 'no'), (1, 0), inplace=True)\n",
    "    data.default.replace(('yes','no'),(1,0),inplace=True)\n",
    "    data.housing.replace(('yes','no'),(1,0),inplace=True)\n",
    "    data.loan.replace(('yes','no'),(1,0),inplace=True)\n",
    "    data.marital.replace(('married','single','divorced'),(1,2,3),inplace=True)\n",
    "    data.contact.replace(('telephone','cellular','unknown'),(1,2,3),inplace=True)\n",
    "    data.month.replace(('jan','feb','mar','apr','may','jun','jul','aug','sep','oct','nov','dec'),(1,2,3,4,5,6,7,8,9,10,11,12),inplace=True)\n",
    "    data.education.replace(('primary','secondary','tertiary','unknown'),(1,2,3,4),inplace=True)\n",
    "    \n",
    "    return data\n",
    "\n",
    "data = binaryType_(data)\n",
    "\n",
    "# for i in range(len(data.marital.unique())):\n",
    "#     data[\"marital_\"+str(data.marital.unique()[i])] = (data.marital == data.marital.unique()[i]).astype(int)\n",
    "\n",
    "# for j in range(len(data.job.unique())):\n",
    "#     data[\"job_\"+str(data.job.unique()[j])] = (data.job == data.job.unique()[j]).astype(int)\n",
    "\n",
    "# for k in range(len(data.contact.unique())):\n",
    "#     data[\"contact_\"+str(data.contact.unique()[k])] = (data.contact == data.contact.unique()[k]).astype(int)\n",
    "\n",
    "# for l in range(len(data.education.unique())):\n",
    "#     data['education_'+str(data.education.unique()[l])] = (data.education == data.education.unique()[l]).astype(int)\n",
    "\n",
    "# for n in range(len(data.month.unique())):\n",
    "#     data['month_'+str(data.month.unique()[n])] = (data.month == data.month.unique()[n]).astype(int)\n",
    "\n",
    "\n",
    "print(data.is_success.value_counts())\n",
    "print(data.describe())\n",
    "print(data.head())\n"
   ]
  },
  {
   "cell_type": "markdown",
   "metadata": {},
   "source": [
    "#### Below are set of Graph for greater insight into data."
   ]
  },
  {
   "cell_type": "code",
   "execution_count": 36,
   "metadata": {
    "collapsed": true
   },
   "outputs": [
    {
     "data": {
      "image/png": "[encoded data removed]",
      "text/plain": [
       "<matplotlib.figure.Figure at 0x11c51d978>"
      ]
     },
     "metadata": {},
     "output_type": "display_data"
    }
   ],
   "source": [
    "plt.hist((data.duration),bins=100)\n",
    "plt.show()"
   ]
  },
  {
   "cell_type": "code",
   "execution_count": 37,
   "metadata": {
    "collapsed": true
   },
   "outputs": [
    {
     "data": {
      "image/png": "[encoded data removed]",
      "text/plain": [
       "<matplotlib.figure.Figure at 0x11c75ea20>"
      ]
     },
     "metadata": {},
     "output_type": "display_data"
    }
   ],
   "source": [
    "plt.hist(data.age,bins=10)\n",
    "plt.show()"
   ]
  },
  {
   "cell_type": "code",
   "execution_count": 38,
   "metadata": {
    "collapsed": true
   },
   "outputs": [
    {
     "data": {
      "image/png": "[encoded data removed]",
      "text/plain": [
       "<matplotlib.figure.Figure at 0x11c388438>"
      ]
     },
     "metadata": {},
     "output_type": "display_data"
    }
   ],
   "source": [
    "plt.hist(data.balance,bins=1000)\n",
    "plt.show()"
   ]
  },
  {
   "cell_type": "markdown",
   "metadata": {},
   "source": [
    "** Above, All the Histogram suggest that data is skewed towards left i.e. existence of skewness brings us to a point that we need to sample the data efficiently while classifiying the train_data and test_data !"
   ]
  },
  {
   "cell_type": "code",
   "execution_count": 39,
   "metadata": {
    "collapsed": true
   },
   "outputs": [
    {
     "data": {
      "image/png": "[encoded data removed]",
      "text/plain": [
       "<matplotlib.figure.Figure at 0x11c8c1898>"
      ]
     },
     "metadata": {},
     "output_type": "display_data"
    }
   ],
   "source": [
    "fig = plt.figure(1, figsize=(9, 6))\n",
    "ax1 = fig.add_subplot(211)\n",
    "bp1 = ax1.boxplot(data.balance,0,'')\n",
    "ax2 = fig.add_subplot(212)\n",
    "bp2 = ax2.boxplot(data.balance,0,'gD')\n",
    "plt.show()"
   ]
  },
  {
   "cell_type": "code",
   "execution_count": 40,
   "metadata": {
    "collapsed": true
   },
   "outputs": [
    {
     "data": {
      "image/png": "[encoded data removed]",
      "text/plain": [
       "<matplotlib.figure.Figure at 0x11c391860>"
      ]
     },
     "metadata": {},
     "output_type": "display_data"
    }
   ],
   "source": [
    "fig = plt.figure(1, figsize=(6, 6))\n",
    "ax = fig.add_subplot(211)\n",
    "bp = ax.boxplot(data.age,0,'')\n",
    "ax = fig.add_subplot(212)\n",
    "bp = ax.boxplot(data.age,0,'gD')\n",
    "plt.show()"
   ]
  },
  {
   "cell_type": "code",
   "execution_count": 41,
   "metadata": {
    "collapsed": true
   },
   "outputs": [
    {
     "data": {
      "image/png": "[encoded data removed]",
      "text/plain": [
       "<matplotlib.figure.Figure at 0x11c339198>"
      ]
     },
     "metadata": {},
     "output_type": "display_data"
    }
   ],
   "source": [
    "fig = plt.figure(1, figsize=(9, 6))\n",
    "ax1 = fig.add_subplot(211)\n",
    "bp1 = ax1.boxplot(data.duration,0,'')\n",
    "ax2 = fig.add_subplot(212)\n",
    "bp2 = ax2.boxplot(data.duration,0,'gD')\n",
    "plt.show()"
   ]
  },
  {
   "cell_type": "markdown",
   "metadata": {},
   "source": [
    "#### Above boxplot suggest how the data is spread across the dataset\n",
    "\n",
    "\n",
    "** Most of the data is lying above the 3rd quantile by multiplication factor of 1.5 i.e. by theortical aspect the data points are outlier for most of the data points.\n"
   ]
  },
  {
   "cell_type": "code",
   "execution_count": 42,
   "metadata": {
    "collapsed": true
   },
   "outputs": [
    {
     "data": {
      "image/png": "[encoded data removed]",
      "text/plain": [
       "<matplotlib.figure.Figure at 0x11e4f6860>"
      ]
     },
     "metadata": {},
     "output_type": "display_data"
    }
   ],
   "source": [
    "draw_data = pd.crosstab(data.housing, data.is_success)\n",
    "draw_data.div(draw_data.sum(1).astype(float), axis=0).plot(kind='bar', stacked=False, color=['deepskyblue','steelblue'],grid=False, figsize=(15, 5))\n",
    "plt.show()"
   ]
  },
  {
   "cell_type": "code",
   "execution_count": 43,
   "metadata": {
    "collapsed": true
   },
   "outputs": [
    {
     "data": {
      "image/png": "[encoded data removed]",
      "text/plain": [
       "<matplotlib.figure.Figure at 0x1260bf668>"
      ]
     },
     "metadata": {},
     "output_type": "display_data"
    }
   ],
   "source": [
    "draw_data = pd.crosstab(data.default, data.is_success)\n",
    "draw_data.div(draw_data.sum(1).astype(float), axis=0).plot(kind='bar', stacked=False, color=['deepskyblue','steelblue'],grid=False, figsize=(15, 5))\n",
    "plt.show()"
   ]
  },
  {
   "cell_type": "code",
   "execution_count": 92,
   "metadata": {
    "collapsed": true
   },
   "outputs": [
    {
     "data": {
      "image/png": "[encoded data removed]",
      "text/plain": [
       "<matplotlib.figure.Figure at 0x11c58fc50>"
      ]
     },
     "metadata": {},
     "output_type": "display_data"
    }
   ],
   "source": [
    "draw_data = pd.crosstab(data.loan, data.is_success)\n",
    "draw_data.div(draw_data.sum(1).astype(float), axis=0).plot(kind='bar', stacked=False, color=['deepskyblue','steelblue'],grid=False, figsize=(15, 5))\n",
    "plt.show()"
   ]
  },
  {
   "cell_type": "markdown",
   "metadata": {},
   "source": [
    "#### By looking at the bar graph, we can observe that Feature vs Label the data is wide spread i.e. we cannot predict completely based on feature alone.\n",
    "\n",
    "### Feature Engineering \n",
    "\n",
    "** First, We can convert the duration from Seconds to Minutes and make categorical amount of "
   ]
  },
  {
   "cell_type": "code",
   "execution_count": 44,
   "metadata": {
    "collapsed": true
   },
   "outputs": [
    {
     "name": "stdout",
     "output_type": "stream",
     "text": [
      " 4    13045\n",
      " 3    11190\n",
      " 5     7672\n",
      " 2     5195\n",
      "-1     3766\n",
      " 0     3514\n",
      " 6      829\n",
      "Name: balance, dtype: int64\n",
      "1.0    18001\n",
      "2.0    10277\n",
      "3.0     6515\n",
      "4.0     5759\n",
      "0.0     4659\n",
      "Name: duration, dtype: int64\n",
      "-1    36954\n",
      " 5     6820\n",
      " 4     1179\n",
      " 3      132\n",
      " 2      126\n",
      "Name: pdays, dtype: int64\n",
      "2    18026\n",
      "1    17544\n",
      "3     9641\n",
      "Name: campaign, dtype: int64\n",
      "2    19274\n",
      "3    11655\n",
      "4    10194\n",
      "1     4088\n",
      "Name: age, dtype: int64\n"
     ]
    }
   ],
   "source": [
    "data['duration'] = data['duration']/60\n",
    "def age_(data):\n",
    "    \n",
    "    data.loc[(data['age'] <= 28) & (data['age'] >= 18),'age'] = 1\n",
    "    data.loc[(data['age'] <= 39) & (data['age'] >= 29),'age'] = 2\n",
    "    data.loc[(data['age'] <= 49) & (data['age'] >= 40),'age'] = 3\n",
    "    data.loc[data['age'] >=40,'age'] = 4\n",
    "    \n",
    "    return data\n",
    "\n",
    "data = age_(data)\n",
    "\n",
    "def campaign_(data):\n",
    "    \n",
    "    data.loc[data['campaign'] == 1,'campaign'] = 1\n",
    "    data.loc[(data['campaign'] >= 2) & (data['campaign'] <= 3),'campaign'] = 2\n",
    "    data.loc[data['campaign'] >= 4,'campaign'] = 3\n",
    "    \n",
    "    return data\n",
    "\n",
    "data = campaign_(data)\n",
    "\n",
    "def duration_(data):\n",
    "    \n",
    "    data.loc[data['duration'] < 1,'duration'] = 0\n",
    "    data.loc[(data['duration'] >= 1) & (data['duration'] <= 3),'duration'] = 1\n",
    "    data.loc[(data['duration'] > 3) & (data['duration'] <= 5),'duration'] = 2\n",
    "    data.loc[(data['duration'] > 5) & (data['duration'] <= 8),'duration'] = 3\n",
    "    data.loc[data['duration'] > 8,'duration'] = 4\n",
    "    \n",
    "    return data\n",
    "\n",
    "data = duration_(data)\n",
    "\n",
    "def pdays_(data):\n",
    "    \n",
    "    data.loc[~data['pdays'] > 0 ,'pdays'] = 1\n",
    "    data.loc[(data['pdays'] >= 1) & (data['pdays'] <=10) ,'pdays'] = 2\n",
    "    data.loc[(data['pdays'] >= 11) & (data['pdays'] <=50) ,'pdays'] = 3\n",
    "    data.loc[(data['pdays'] >= 51) & (data['pdays'] <=100), 'pdays'] = 4\n",
    "    data.loc[data['pdays'] >= 101,'pdays'] = 5\n",
    "    \n",
    "    return data\n",
    "\n",
    "data = pdays_(data)\n",
    "\n",
    "def balance_(data):\n",
    "    \n",
    "    data.loc[data['balance']<0,'balance'] = -1\n",
    "    data.loc[data['balance'] == 0,'balance'] = 0\n",
    "    data.loc[(data['balance'] >= 1) & (data['balance'] <= 100),'balance'] = 2\n",
    "    data.loc[(data['balance'] >= 101) & (data['balance'] <= 500),'balance'] = 3\n",
    "    data.loc[(data['balance'] >= 501) & (data['balance'] <= 2000),'balance'] = 4\n",
    "    data.loc[(data['balance'] >= 2001) & (data['balance'] <= 10000),'balance'] = 5\n",
    "    data.loc[data['balance'] >= 10001,'balance'] = 6\n",
    "    \n",
    "    return data\n",
    "\n",
    "def job_(data):\n",
    "    \n",
    "    data.loc[data['job'] == \"management\",'job'] = 1\n",
    "    data.loc[data['job'] == \"technician\",'job'] = 2\n",
    "    data.loc[data['job'] == \"entrepreneur\",'job'] = 3\n",
    "    data.loc[data['job'] == \"blue-collar\",'job'] = 4\n",
    "    data.loc[data['job'] == \"retired\",'job'] = 5\n",
    "    data.loc[data['job'] == \"admin.\",'job'] = 6\n",
    "    data.loc[data['job'] == \"services\",'job'] = 7\n",
    "    data.loc[data['job'] == \"self-employed\",'job'] = 8\n",
    "    data.loc[data['job'] == \"unemployed\",'job'] = 9\n",
    "    data.loc[data['job'] == \"student\",'job'] = 10\n",
    "    data.loc[data['job'] == \"housemaid\",'job'] = 11\n",
    "    data.loc[data['job'] == \"unknown\",'job'] = 12\n",
    "    \n",
    "    return data\n",
    "\n",
    "data = balance_(data)\n",
    "data = job_(data)\n",
    "\n",
    "print(data.balance.value_counts())\n",
    "print(data.duration.value_counts())\n",
    "print(data.pdays.value_counts())\n",
    "print(data.campaign.value_counts())\n",
    "print(data.age.value_counts())"
   ]
  },
  {
   "cell_type": "code",
   "execution_count": 69,
   "metadata": {},
   "outputs": [
    {
     "data": {
      "image/png": "[encoded data removed]",
      "text/plain": [
       "<matplotlib.figure.Figure at 0x11c8e9898>"
      ]
     },
     "metadata": {},
     "output_type": "display_data"
    }
   ],
   "source": [
    "draw_data = pd.crosstab(data.duration, data.is_success)\n",
    "draw_data.div(draw_data.sum(1).astype(float), axis=0).plot(kind='bar', stacked=True, color=['deepskyblue','steelblue'],grid=False, figsize=(15, 5))\n",
    "plt.show()"
   ]
  },
  {
   "cell_type": "code",
   "execution_count": 46,
   "metadata": {},
   "outputs": [
    {
     "data": {
      "image/png": "[encoded data removed]",
      "text/plain": [
       "<matplotlib.figure.Figure at 0x1163e45f8>"
      ]
     },
     "metadata": {},
     "output_type": "display_data"
    }
   ],
   "source": [
    "draw_data = pd.crosstab(data.balance, data.is_success)\n",
    "draw_data.div(draw_data.sum(1).astype(float), axis=0).plot(kind='bar', stacked=False, color=['deepskyblue','steelblue'],grid=False, figsize=(15, 5))\n",
    "plt.show()"
   ]
  },
  {
   "cell_type": "code",
   "execution_count": 47,
   "metadata": {},
   "outputs": [
    {
     "data": {
      "image/png": "[encoded data removed]",
      "text/plain": [
       "<matplotlib.figure.Figure at 0x11c8f8b38>"
      ]
     },
     "metadata": {},
     "output_type": "display_data"
    }
   ],
   "source": [
    "draw_data = pd.crosstab(data.campaign, data.is_success)\n",
    "draw_data.div(draw_data.sum(1).astype(float), axis=0).plot(kind='bar', stacked=False, color=['deepskyblue','steelblue'],grid=False, figsize=(15, 5))\n",
    "plt.show()"
   ]
  },
  {
   "cell_type": "code",
   "execution_count": 48,
   "metadata": {},
   "outputs": [
    {
     "data": {
      "image/png": "[encoded data removed]",
      "text/plain": [
       "<matplotlib.figure.Figure at 0x11c5221d0>"
      ]
     },
     "metadata": {},
     "output_type": "display_data"
    }
   ],
   "source": [
    "draw_data = pd.crosstab(data.age, data.is_success)\n",
    "draw_data.div(draw_data.sum(1).astype(float), axis=0).plot(kind='bar', stacked=False, color=['deepskyblue','steelblue'],grid=False, figsize=(15, 5))\n",
    "plt.show()"
   ]
  },
  {
   "cell_type": "code",
   "execution_count": 49,
   "metadata": {},
   "outputs": [
    {
     "data": {
      "image/png": "[encoded data removed]",
      "text/plain": [
       "<matplotlib.figure.Figure at 0x11e694518>"
      ]
     },
     "metadata": {},
     "output_type": "display_data"
    }
   ],
   "source": [
    "draw_data = pd.crosstab(data.pdays, data.is_success)\n",
    "draw_data.div(draw_data.sum(1).astype(float), axis=0).plot(kind='bar', stacked=False, color=['deepskyblue','steelblue'],grid=False, figsize=(15, 5))\n",
    "plt.show()"
   ]
  },
  {
   "cell_type": "code",
   "execution_count": 50,
   "metadata": {
    "collapsed": true
   },
   "outputs": [],
   "source": [
    "classifiers = {'Gradient Boosting Classifier':GradientBoostingClassifier(),'Adaptive Boosting Classifier':AdaBoostClassifier(),'Linear Discriminant Analysis':LinearDiscriminantAnalysis(),'Logistic Regression':LogisticRegression(),'Random Forest Classifier': RandomForestClassifier(),'K Nearest Neighbour':KNeighborsClassifier(8)}#'Decision Tree Classifier':DecisionTreeClassifier(),'Gaussian Naive Bayes Classifier':GaussianNB(),'Support Vector Classifier':SVC(probability=True),}"
   ]
  },
  {
   "cell_type": "code",
   "execution_count": 82,
   "metadata": {
    "collapsed": true
   },
   "outputs": [],
   "source": [
    "data_y = pd.DataFrame(data['is_success'])\n",
    "#print(data_y.columns)\n",
    "data_X = data.drop('is_success',axis=1)\n",
    "log_cols = [\"Classifier\", \"Accuracy\"]\n",
    "metrics_cols = ['Precision Score','Recall Score','F1-Score']\n",
    "log = pd.DataFrame(columns=log_cols)\n",
    "metric = pd.DataFrame(columns=metrics_cols)"
   ]
  },
  {
   "cell_type": "code",
   "execution_count": 84,
   "metadata": {},
   "outputs": [
    {
     "data": {
      "text/plain": [
       "3"
      ]
     },
     "execution_count": 84,
     "metadata": {},
     "output_type": "execute_result"
    }
   ],
   "source": [
    "rs = StratifiedShuffleSplit(n_splits=3, test_size=0.1,random_state=42)\n",
    "rs.get_n_splits(data_X,data_y)"
   ]
  },
  {
   "cell_type": "code",
   "execution_count": 85,
   "metadata": {},
   "outputs": [
    {
     "name": "stderr",
     "output_type": "stream",
     "text": [
      "/Users/mayurjain/anaconda/lib/python3.6/site-packages/sklearn/utils/validation.py:526: DataConversionWarning: A column-vector y was passed when a 1d array was expected. Please change the shape of y to (n_samples, ), for example using ravel().\n",
      "  y = column_or_1d(y, warn=True)\n",
      "/Users/mayurjain/anaconda/lib/python3.6/site-packages/sklearn/utils/validation.py:526: DataConversionWarning: A column-vector y was passed when a 1d array was expected. Please change the shape of y to (n_samples, ), for example using ravel().\n",
      "  y = column_or_1d(y, warn=True)\n",
      "/Users/mayurjain/anaconda/lib/python3.6/site-packages/sklearn/utils/validation.py:526: DataConversionWarning: A column-vector y was passed when a 1d array was expected. Please change the shape of y to (n_samples, ), for example using ravel().\n",
      "  y = column_or_1d(y, warn=True)\n",
      "/Users/mayurjain/anaconda/lib/python3.6/site-packages/sklearn/utils/validation.py:526: DataConversionWarning: A column-vector y was passed when a 1d array was expected. Please change the shape of y to (n_samples, ), for example using ravel().\n",
      "  y = column_or_1d(y, warn=True)\n",
      "/Users/mayurjain/anaconda/lib/python3.6/site-packages/ipykernel_launcher.py:7: DataConversionWarning: A column-vector y was passed when a 1d array was expected. Please change the shape of y to (n_samples,), for example using ravel().\n",
      "  import sys\n",
      "/Users/mayurjain/anaconda/lib/python3.6/site-packages/ipykernel_launcher.py:7: DataConversionWarning: A column-vector y was passed when a 1d array was expected. Please change the shape of y to (n_samples,), for example using ravel().\n",
      "  import sys\n",
      "/Users/mayurjain/anaconda/lib/python3.6/site-packages/ipykernel_launcher.py:7: DataConversionWarning: A column-vector y was passed when a 1d array was expected. Please change the shape of y to (n_samples,), for example using ravel().\n",
      "  import sys\n",
      "/Users/mayurjain/anaconda/lib/python3.6/site-packages/ipykernel_launcher.py:7: DataConversionWarning: A column-vector y was passed when a 1d array was expected. Please change the shape of y to (n_samples, ), for example using ravel().\n",
      "  import sys\n"
     ]
    }
   ],
   "source": [
    "for Name,classify in classifiers.items():\n",
    "    for train_index, test_index in rs.split(data_X,data_y):\n",
    "        #print(\"TRAIN:\", train_index, \"TEST:\", test_index)\n",
    "        X,X_test = data_X.iloc[train_index], data_X.iloc[test_index]\n",
    "        y,y_test = data_y.iloc[train_index], data_y.iloc[test_index]\n",
    "        cls = classify\n",
    "        cls =cls.fit(X,y)\n",
    "        y_out = cls.predict(X_test)\n",
    "        accuracy = m.accuracy_score(y_test,y_out)\n",
    "        precision = m.precision_score(y_test,y_out,average='macro')\n",
    "        recall = m.recall_score(y_test,y_out,average='macro')\n",
    "        f1_score = m.f1_score(y_test,y_out,average='macro')\n",
    "        log_entry = pd.DataFrame([[Name,accuracy]], columns=log_cols)\n",
    "        metric_entry = pd.DataFrame([[precision,recall,f1_score]], columns=metrics_cols)\n",
    "        log = log.append(log_entry)\n",
    "        metric = metric.append(metric_entry)"
   ]
  },
  {
   "cell_type": "code",
   "execution_count": 86,
   "metadata": {},
   "outputs": [
    {
     "name": "stdout",
     "output_type": "stream",
     "text": [
      "                     Classifier  Accuracy\n",
      "0  Gradient Boosting Classifier  0.891641\n",
      "0  Gradient Boosting Classifier  0.891641\n",
      "0  Gradient Boosting Classifier  0.898496\n",
      "0  Adaptive Boosting Classifier  0.887439\n",
      "0  Adaptive Boosting Classifier  0.886776\n",
      "0  Adaptive Boosting Classifier  0.888103\n",
      "0  Linear Discriminant Analysis  0.884785\n",
      "0  Linear Discriminant Analysis  0.890093\n",
      "0  Linear Discriminant Analysis  0.883016\n",
      "0           Logistic Regression  0.888987\n",
      "0           Logistic Regression  0.892083\n",
      "0           Logistic Regression  0.886112\n",
      "0      Random Forest Classifier  0.879478\n",
      "0      Random Forest Classifier  0.879257\n",
      "0      Random Forest Classifier  0.886555\n",
      "0           K Nearest Neighbour  0.888103\n",
      "0           K Nearest Neighbour  0.885007\n",
      "0           K Nearest Neighbour  0.886333\n"
     ]
    },
    {
     "data": {
      "image/png": "[encoded data removed]",
      "text/plain": [
       "<matplotlib.figure.Figure at 0x11e72fd68>"
      ]
     },
     "metadata": {},
     "output_type": "display_data"
    }
   ],
   "source": [
    "print(log)\n",
    "plt.xlabel('Accuracy')\n",
    "plt.title('Classifier Accuracy')\n",
    "sns.set_color_codes(\"muted\")\n",
    "sns.barplot(x='Accuracy', y='Classifier', data=log, color=\"b\")  \n",
    "plt.show()"
   ]
  },
  {
   "cell_type": "code",
   "execution_count": 87,
   "metadata": {},
   "outputs": [
    {
     "name": "stderr",
     "output_type": "stream",
     "text": [
      "/Users/mayurjain/anaconda/lib/python3.6/site-packages/sklearn/utils/validation.py:526: DataConversionWarning: A column-vector y was passed when a 1d array was expected. Please change the shape of y to (n_samples, ), for example using ravel().\n",
      "  y = column_or_1d(y, warn=True)\n",
      "/Users/mayurjain/anaconda/lib/python3.6/site-packages/sklearn/utils/validation.py:526: DataConversionWarning: A column-vector y was passed when a 1d array was expected. Please change the shape of y to (n_samples, ), for example using ravel().\n",
      "  y = column_or_1d(y, warn=True)\n",
      "/Users/mayurjain/anaconda/lib/python3.6/site-packages/ipykernel_launcher.py:9: DataConversionWarning: A column-vector y was passed when a 1d array was expected. Please change the shape of y to (n_samples,), for example using ravel().\n",
      "  if __name__ == '__main__':\n",
      "/Users/mayurjain/anaconda/lib/python3.6/site-packages/ipykernel_launcher.py:9: DataConversionWarning: A column-vector y was passed when a 1d array was expected. Please change the shape of y to (n_samples, ), for example using ravel().\n",
      "  if __name__ == '__main__':\n"
     ]
    },
    {
     "name": "stdout",
     "output_type": "stream",
     "text": [
      "                     Classifier  Accuracy\n",
      "0  Gradient Boosting Classifier  0.891641\n",
      "0  Gradient Boosting Classifier  0.891641\n",
      "0  Gradient Boosting Classifier  0.898496\n",
      "0  Adaptive Boosting Classifier  0.887439\n",
      "0  Adaptive Boosting Classifier  0.886776\n",
      "0  Adaptive Boosting Classifier  0.888103\n",
      "0  Linear Discriminant Analysis  0.884785\n",
      "0  Linear Discriminant Analysis  0.890093\n",
      "0  Linear Discriminant Analysis  0.883016\n",
      "0           Logistic Regression  0.888987\n",
      "0           Logistic Regression  0.892083\n",
      "0           Logistic Regression  0.886112\n",
      "0      Random Forest Classifier  0.879478\n",
      "0      Random Forest Classifier  0.879257\n",
      "0      Random Forest Classifier  0.886555\n",
      "0           K Nearest Neighbour  0.888103\n",
      "0           K Nearest Neighbour  0.885007\n",
      "0           K Nearest Neighbour  0.886333\n",
      "0  Gradient Boosting Classifier  0.888545\n",
      "0  Adaptive Boosting Classifier  0.881690\n",
      "0  Linear Discriminant Analysis  0.879699\n",
      "0           Logistic Regression  0.878815\n",
      "0      Random Forest Classifier  0.875940\n",
      "0           K Nearest Neighbour  0.884564\n"
     ]
    },
    {
     "data": {
      "image/png": "[encoded data removed]",
      "text/plain": [
       "<matplotlib.figure.Figure at 0x11ca38dd8>"
      ]
     },
     "metadata": {},
     "output_type": "display_data"
    }
   ],
   "source": [
    "rs = ShuffleSplit(n_splits=1, test_size=0.1,random_state=42)\n",
    "rs.get_n_splits(data_X,data_y)\n",
    "for Name,classify in classifiers.items():\n",
    "    for train_index, test_index in rs.split(data_X,data_y):\n",
    "        #print(\"TRAIN:\", train_index, \"TEST:\", test_index)\n",
    "        X,X_test = data_X.iloc[train_index], data_X.iloc[test_index]\n",
    "        y,y_test = data_y.iloc[train_index], data_y.iloc[test_index]\n",
    "        cls = classify\n",
    "        cls =cls.fit(X,y)\n",
    "        y_out = cls.predict(X_test)\n",
    "        accuracy = accuracy_score(y_test,y_out)\n",
    "        precision = m.precision_score(y_test,y_out,average='macro')\n",
    "        recall = m.recall_score(y_test,y_out,average='macro')\n",
    "        f1_score = m.f1_score(y_test,y_out,average='macro')\n",
    "        log_entry = pd.DataFrame([[Name,accuracy]], columns=log_cols)\n",
    "        metric_entry = pd.DataFrame([[precision,recall,f1_score]], columns=metrics_cols)\n",
    "        log = log.append(log_entry)\n",
    "        metric = metric.append(metric_entry)\n",
    "    \n",
    "print(log)\n",
    "plt.xlabel('Accuracy')\n",
    "plt.title('Classifier Accuracy')\n",
    "sns.set_color_codes(\"muted\")\n",
    "sns.barplot(x='Accuracy', y='Classifier', data=log, color=\"b\")  \n",
    "plt.show()"
   ]
  },
  {
   "cell_type": "code",
   "execution_count": 88,
   "metadata": {},
   "outputs": [
    {
     "name": "stdout",
     "output_type": "stream",
     "text": [
      "   Precision Score  Recall Score  F1-Score\n",
      "0         0.748041      0.610658  0.642928\n",
      "0         0.744786      0.620498  0.653024\n",
      "0         0.772985      0.647339  0.684217\n",
      "0         0.723185      0.625498  0.654509\n",
      "0         0.720314      0.625123  0.653631\n",
      "0         0.725372      0.648833  0.675575\n",
      "0         0.711506      0.614156  0.641562\n",
      "0         0.738843      0.609782  0.640881\n",
      "0         0.704535      0.618074  0.644104\n",
      "0         0.732937      0.607516  0.637705\n",
      "0         0.754632      0.602709  0.634578\n",
      "0         0.717572      0.608348  0.636602\n",
      "0         0.693337      0.625910  0.648746\n",
      "0         0.695164      0.638085  0.659095\n",
      "0         0.719862      0.649596  0.674794\n",
      "0         0.738373      0.572577  0.595505\n",
      "0         0.713337      0.568364  0.588783\n",
      "0         0.722349      0.575675  0.598905\n",
      "0         0.754669      0.618119  0.651280\n",
      "0         0.719142      0.624308  0.652282\n",
      "0         0.710331      0.599101  0.625314\n",
      "0         0.705427      0.584620  0.608269\n",
      "0         0.700101      0.638115  0.660254\n",
      "0         0.747501      0.578578  0.603121\n"
     ]
    }
   ],
   "source": [
    "print(metric)"
   ]
  },
  {
   "cell_type": "code",
   "execution_count": 89,
   "metadata": {},
   "outputs": [
    {
     "data": {
      "image/png": "[encoded data removed]",
      "text/plain": [
       "<matplotlib.figure.Figure at 0x1263a2e10>"
      ]
     },
     "metadata": {},
     "output_type": "display_data"
    }
   ],
   "source": [
    "plt.scatter(metric['Recall Score'], metric['Precision Score'], color='navy',\n",
    "         label='Precision-Recall')\n",
    "plt.xlabel('Recall')\n",
    "plt.ylabel('Precision')\n",
    "plt.ylim([0.5, 1.0])\n",
    "plt.xlim([0.5, 1.0])\n",
    "plt.title('Precision-Recall')\n",
    "plt.legend(loc=\"lower left\")\n",
    "plt.show()"
   ]
  },
  {
   "cell_type": "code",
   "execution_count": 90,
   "metadata": {},
   "outputs": [
    {
     "data": {
      "text/plain": [
       "0.74750114626318209"
      ]
     },
     "execution_count": 90,
     "metadata": {},
     "output_type": "execute_result"
    }
   ],
   "source": [
    "from sklearn.metrics import roc_auc_score\n",
    "roc_auc_score(y_out,y_test)"
   ]
  },
  {
   "cell_type": "code",
   "execution_count": 91,
   "metadata": {},
   "outputs": [
    {
     "name": "stderr",
     "output_type": "stream",
     "text": [
      "/Users/mayurjain/anaconda/lib/python3.6/site-packages/sklearn/metrics/ranking.py:542: UndefinedMetricWarning: No positive samples in y_true, true positive value should be meaningless\n",
      "  UndefinedMetricWarning)\n"
     ]
    },
    {
     "data": {
      "text/plain": [
       "0.75"
      ]
     },
     "execution_count": 91,
     "metadata": {},
     "output_type": "execute_result"
    }
   ],
   "source": [
    "fpr, tpr, thresholds = m.roc_curve(y_out, y_test, pos_label=2)\n",
    "m.auc(fpr, tpr)\n",
    "0.75"
   ]
  },
  {
   "cell_type": "code",
   "execution_count": 93,
   "metadata": {},
   "outputs": [
    {
     "name": "stderr",
     "output_type": "stream",
     "text": [
      "/Users/mayurjain/anaconda/lib/python3.6/site-packages/sklearn/utils/validation.py:526: DataConversionWarning: A column-vector y was passed when a 1d array was expected. Please change the shape of y to (n_samples, ), for example using ravel().\n",
      "  y = column_or_1d(y, warn=True)\n",
      "/Users/mayurjain/anaconda/lib/python3.6/site-packages/sklearn/utils/validation.py:526: DataConversionWarning: A column-vector y was passed when a 1d array was expected. Please change the shape of y to (n_samples, ), for example using ravel().\n",
      "  y = column_or_1d(y, warn=True)\n",
      "/Users/mayurjain/anaconda/lib/python3.6/site-packages/ipykernel_launcher.py:5: DataConversionWarning: A column-vector y was passed when a 1d array was expected. Please change the shape of y to (n_samples,), for example using ravel().\n",
      "  \"\"\"\n",
      "/Users/mayurjain/anaconda/lib/python3.6/site-packages/ipykernel_launcher.py:5: DataConversionWarning: A column-vector y was passed when a 1d array was expected. Please change the shape of y to (n_samples, ), for example using ravel().\n",
      "  \"\"\"\n"
     ]
    },
    {
     "name": "stdout",
     "output_type": "stream",
     "text": [
      "                     Classifier  Accuracy\n",
      "0  Gradient Boosting Classifier  0.891641\n",
      "0  Gradient Boosting Classifier  0.891641\n",
      "0  Gradient Boosting Classifier  0.898496\n",
      "0  Adaptive Boosting Classifier  0.887439\n",
      "0  Adaptive Boosting Classifier  0.886776\n",
      "0  Adaptive Boosting Classifier  0.888103\n",
      "0  Linear Discriminant Analysis  0.884785\n",
      "0  Linear Discriminant Analysis  0.890093\n",
      "0  Linear Discriminant Analysis  0.883016\n",
      "0           Logistic Regression  0.888987\n",
      "0           Logistic Regression  0.892083\n",
      "0           Logistic Regression  0.886112\n",
      "0      Random Forest Classifier  0.879478\n",
      "0      Random Forest Classifier  0.879257\n",
      "0      Random Forest Classifier  0.886555\n",
      "0           K Nearest Neighbour  0.888103\n",
      "0           K Nearest Neighbour  0.885007\n",
      "0           K Nearest Neighbour  0.886333\n",
      "0  Gradient Boosting Classifier  0.888545\n",
      "0  Adaptive Boosting Classifier  0.881690\n",
      "0  Linear Discriminant Analysis  0.879699\n",
      "0           Logistic Regression  0.878815\n",
      "0      Random Forest Classifier  0.875940\n",
      "0           K Nearest Neighbour  0.884564\n",
      "0  Gradient Boosting Classifier  0.892182\n",
      "0  Adaptive Boosting Classifier  0.885215\n",
      "0  Linear Discriminant Analysis  0.883556\n",
      "0           Logistic Regression  0.884994\n",
      "0      Random Forest Classifier  0.885215\n",
      "0           K Nearest Neighbour  0.886542\n"
     ]
    }
   ],
   "source": [
    "from sklearn.cross_validation import train_test_split\n",
    "X_train,X_test,y_train,y_test = train_test_split(data_X,data_y,test_size=0.2)\n",
    "for Name,classify in classifiers.items():\n",
    "        cls = classify\n",
    "        cls =cls.fit(X_train,y_train)\n",
    "        y_out = cls.predict(X_test)\n",
    "        accuracy = accuracy_score(y_test,y_out)\n",
    "        precision = m.precision_score(y_test,y_out,average='macro')\n",
    "        recall = m.recall_score(y_test,y_out,average='macro')\n",
    "        f1_score = m.f1_score(y_test,y_out,average='macro')\n",
    "        log_entry = pd.DataFrame([[Name,accuracy]], columns=log_cols)\n",
    "        metric_entry = pd.DataFrame([[precision,recall,f1_score]], columns=metrics_cols)\n",
    "        log = log.append(log_entry)\n",
    "        metric = metric.append(metric_entry)\n",
    "    \n",
    "print(log)"
   ]
  },
  {
   "cell_type": "code",
   "execution_count": null,
   "metadata": {
    "collapsed": true
   },
   "outputs": [],
   "source": []
  }
 ],
 "metadata": {
  "kernelspec": {
   "display_name": "Python 3",
   "language": "python",
   "name": "python3"
  },
  "language_info": {
   "codemirror_mode": {
    "name": "ipython",
    "version": 3
   },
   "file_extension": ".py",
   "mimetype": "text/x-python",
   "name": "python",
   "nbconvert_exporter": "python",
   "pygments_lexer": "ipython3",
   "version": "3.6.1"
  }
 },
 "nbformat": 4,
 "nbformat_minor": 2
}
