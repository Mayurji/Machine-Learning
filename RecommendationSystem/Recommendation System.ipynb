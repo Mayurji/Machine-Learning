{
 "cells": [
  {
   "cell_type": "code",
   "execution_count": 1,
   "metadata": {},
   "outputs": [],
   "source": [
    "from pymongo import MongoClient\n",
    "from bson import ObjectId\n",
    "from collections import defaultdict\n",
    "import pandas as pd\n",
    "import scipy.sparse\n",
    "import numpy as np\n",
    "import time\n",
    "\n",
    "Mclient  = MongoClient('URL')\n",
    "moodsDb = Mclient['moods_dev']"
   ]
  },
  {
   "cell_type": "code",
   "execution_count": 49,
   "metadata": {},
   "outputs": [],
   "source": [
    "##################################### create a matrix of articles vs article's categories #####################\n",
    "\n",
    "# articleName = moodsDb.user_articles.find({}).limit(100000)\n",
    "# articleID_Categories = defaultdict(set)\n",
    "# for row in articleName:\n",
    "#     i = 10\n",
    "#     articleID = str(row.get('_id'))\n",
    "#     for cate in row[\"categories\"]:\n",
    "#         articleCategories = str(cate)\n",
    "#         articleID_Categories[articleID].add(articleCategories)\n",
    "\n",
    "##################################### create a matrix of UserID vs article's categories of articles read by user #####################\n",
    "#MOSHE - 59c260e93f75762a16a851bf\n",
    "# userID_Categories = defaultdict(list)\n",
    "# for usr in userID:\n",
    "#     articlesRead = moodsDb.users.find({'_id':ObjectId(usr)})\n",
    "#     for user in articlesRead:\n",
    "#         articleIDS = user['articlesread']\n",
    "#         if len(articleIDS) == 0:\n",
    "#             break\n",
    "#         else:\n",
    "#             for artRead in articleIDS:\n",
    "#                 artID = str(artRead)\n",
    "#                 if articleID_Categories[artID]:\n",
    "#                     for x in list(articleID_Categories[artID]):\n",
    "#                         if x not in userID_Categories[usr]:\n",
    "#                             userID_Categories[usr].append(x)\n",
    "#                         else:\n",
    "#                             continue\n",
    "#                 else:\n",
    "#                     continue\n",
    "##################################### create a matrix of UserID vs articles read by user #####################\n",
    "# userID_Articles = defaultdict(list)\n",
    "# for usr in userID:\n",
    "#     articlesRead = moodsDb.users.find({'_id':ObjectId(usr)})\n",
    "#     for user in articlesRead:\n",
    "#         articleIDS = user['articlesread']\n",
    "#         if len(articleIDS) == 0:\n",
    "#             break\n",
    "#         else:\n",
    "#             for artRead in articleIDS:\n",
    "#                 artID = str(artRead)\n",
    "#                 if artID not in userID_Articles[usr]:\n",
    "#                     userID_Articles[usr].append(artID)\n",
    "#                 else:\n",
    "#                     continue"
   ]
  },
  {
   "cell_type": "code",
   "execution_count": 50,
   "metadata": {
    "scrolled": true
   },
   "outputs": [],
   "source": [
    "# df2 = pd.DataFrame.from_dict(articleID_Categories, orient='index')\n",
    "# df2 = df2.stack().reset_index()\n",
    "# df2.level_1=1\n",
    "# df2.pivot(index='level_0',columns=0,values='level_1').fillna(0)\n",
    "# df2.to_csv('articleID_Category.csv', sep=',', encoding='utf-8')\n",
    "\n",
    "# df3 = pd.DataFrame.from_dict(userID_Categories, orient='index')\n",
    "# df3 = df3.stack().reset_index()\n",
    "# df3.level_1=1\n",
    "# df3.pivot(index='level_0',columns=0,values='level_1').fillna(0)\n",
    "# df3.to_csv('UserID_Category.csv', sep=',', encoding='utf-8')\n",
    "\n",
    "# df4 = pd.DataFrame.from_dict(userID_Articles, orient='index')\n",
    "# df4 = df4.stack().reset_index()\n",
    "# df4.level_1=1\n",
    "# #df4.pivot(index='level_0',columns=0,values='level_1').fillna(0)\n",
    "# art_user = pd.DataFrame(df4.pivot(index='level_0',columns=0,values='level_1').fillna(0).to_records())\n",
    "#art_user.to_csv('UserID_ArticlesRead.csv', sep=',', encoding='utf-8',index=False)"
   ]
  },
  {
   "cell_type": "code",
   "execution_count": 2,
   "metadata": {},
   "outputs": [],
   "source": [
    "### Get the Number of Users IDs who has read an articles\n",
    "userArticleCategories = moodsDb.users.find({'articlesread':{'$exists':True}})\n",
    "userID = []\n",
    "for a in userArticleCategories:\n",
    "    userID.append(str(a.get('_id')))"
   ]
  },
  {
   "cell_type": "code",
   "execution_count": 3,
   "metadata": {},
   "outputs": [],
   "source": [
    "######## Create a list of total articles id #################\n",
    "totalArticles = []\n",
    "articleName = moodsDb.user_articles.find({})\n",
    "for art in articleName:\n",
    "    totalArticles.append(str(art['_id']))"
   ]
  },
  {
   "cell_type": "code",
   "execution_count": 4,
   "metadata": {},
   "outputs": [],
   "source": [
    "######### Create a dictionary for keys as userID and values as article read by the userID\n",
    "userID_Articles = defaultdict(list)\n",
    "for usr in userID:\n",
    "    articlesRead = moodsDb.users.find({'_id':ObjectId(usr)})\n",
    "    for user in articlesRead:\n",
    "        articleIDS = user['articlesread']\n",
    "        if len(articleIDS) == 0:\n",
    "            break\n",
    "        else:\n",
    "            for artRead in articleIDS:\n",
    "                artID = str(artRead)\n",
    "                if artID not in userID_Articles[usr]:\n",
    "                    userID_Articles[usr].append(artID)\n",
    "                else:\n",
    "                    continue"
   ]
  },
  {
   "cell_type": "code",
   "execution_count": 7,
   "metadata": {
    "scrolled": true
   },
   "outputs": [
    {
     "name": "stdout",
     "output_type": "stream",
     "text": [
      "10.438759000000005\n"
     ]
    }
   ],
   "source": [
    "userID_art_ratings = {}\n",
    "optimumScore = int()\n",
    "articlesRead = []\n",
    "readArticle = 0\n",
    "UnreadArticle = 0\n",
    "start = time.clock()\n",
    "for article in totalArticles:\n",
    "    for usrKey,artVal in userID_Articles.items():\n",
    "        if article in artVal:\n",
    "            articleEvaluation = moodsDb.user_ratings.find({'$and':[{'user_id':ObjectId(usrKey)},{'article_id':ObjectId(article)}]})\n",
    "            for row in articleEvaluation:\n",
    "                OpSum = sum(row['opinion'][op] for op in row['opinion'])\n",
    "                ExpSum = sum(row['experience'][exp] for exp in row['experience'])\n",
    "                optimumScore = round((OpSum+ExpSum)/70,2)\n",
    "            if optimumScore < 0.35:\n",
    "                optimumScore = -1\n",
    "                user_id,article_id,article_score = (usrKey,article,optimumScore)\n",
    "                if user_id in userID_art_ratings:\n",
    "                    userID_art_ratings[user_id][article_id] = article_score\n",
    "                else:\n",
    "                    userID_art_ratings[user_id] = {article_id: article_score}\n",
    "            elif optimumScore >= 0.35:\n",
    "                optimumScore = 1\n",
    "                user_id,article_id,article_score = (usrKey,article,optimumScore)\n",
    "                if user_id in userID_art_ratings:\n",
    "                    userID_art_ratings[user_id][article_id] = article_score\n",
    "                else:\n",
    "                    userID_art_ratings[user_id] = {article_id: article_score}\n",
    "            else:\n",
    "                optimumScore = 0.0\n",
    "                user_id,article_id,article_score = (usrKey,article,optimumScore)\n",
    "                if user_id in userID_art_ratings:\n",
    "                    userID_art_ratings[user_id][article_id] = article_score\n",
    "                else:\n",
    "                    userID_art_ratings[user_id] = {article_id: article_score}\n",
    "                break\n",
    "        else:\n",
    "            optimumScore = 0.0\n",
    "            user_id,article_id,article_score = (usrKey,article,optimumScore)\n",
    "            if user_id in userID_art_ratings:\n",
    "                userID_art_ratings[user_id][article_id] = article_score\n",
    "            else:\n",
    "                userID_art_ratings[user_id] = {article_id: article_score}\n",
    "                \n",
    "print(time.clock() - start)"
   ]
  },
  {
   "cell_type": "code",
   "execution_count": 113,
   "metadata": {},
   "outputs": [],
   "source": [
    "UserBasedarticleRating = pd.DataFrame(userID_art_ratings).transpose()"
   ]
  },
  {
   "cell_type": "code",
   "execution_count": 114,
   "metadata": {},
   "outputs": [],
   "source": [
    "UserBasedarticleRating.fillna(0,inplace=True)\n",
    "user_id = pd.Series(UserBasedarticleRating.index.values)\n",
    "UserBasedarticleRating = UserBasedarticleRating.values"
   ]
  },
  {
   "cell_type": "code",
   "execution_count": 10,
   "metadata": {
    "scrolled": true
   },
   "outputs": [],
   "source": [
    "user_id = pd.Series(UserBasedarticleRating.index.values)\n",
    "articleID = pd.Series(UserBasedarticleRating.dtypes.index.values)\n",
    "articles_ID = pd.DataFrame(articleID,columns=['article_ID'])"
   ]
  },
  {
   "cell_type": "code",
   "execution_count": 11,
   "metadata": {},
   "outputs": [],
   "source": [
    "UserRatedArticle = scipy.sparse.csr_matrix(UserBasedarticleRating)"
   ]
  },
  {
   "cell_type": "code",
   "execution_count": 12,
   "metadata": {
    "scrolled": true
   },
   "outputs": [],
   "source": [
    "############################ Why Model is not compatible for Collabrative Filtering #########################\n",
    "# matrix_size = UserRatedArticle.shape[0]*UserRatedArticle.shape[1] # Number of possible interactions in the matrix\n",
    "# num_purchases = len(UserRatedArticle.nonzero()[0]) # Number of items interacted with\n",
    "# sparsity = 100*(1 - (num_purchases/matrix_size))\n",
    "# sparsity"
   ]
  },
  {
   "cell_type": "code",
   "execution_count": 27,
   "metadata": {
    "scrolled": true
   },
   "outputs": [],
   "source": [
    "train = UserRatedArticle[:11]\n",
    "test = UserRatedArticle[10:21]"
   ]
  },
  {
   "cell_type": "code",
   "execution_count": 62,
   "metadata": {
    "scrolled": true
   },
   "outputs": [
    {
     "data": {
      "text/plain": [
       "<lightfm.lightfm.LightFM at 0x7f2e717e0390>"
      ]
     },
     "execution_count": 62,
     "metadata": {},
     "output_type": "execute_result"
    }
   ],
   "source": [
    "from lightfm import LightFM\n",
    "from lightfm.evaluation import precision_at_k\n",
    "from lightfm.evaluation import auc_score\n",
    "#for x in [0.1,0.2,0.02,0.03,0.04,0.5,1]:\n",
    "model = LightFM(no_components=20,learning_rate=0.01, loss='warp')\n",
    "\n",
    "model.fit_partial(UserRatedArticle, epochs=10)\n",
    "# train_precision = precision_at_k(model, train,k=5).mean()\n",
    "# test_precision = precision_at_k(model, test,k=5).mean()\n",
    "\n",
    "# train_auc = auc_score(model, train).mean()\n",
    "# test_auc = auc_score(model, test,train_interactions=train).mean()\n",
    "\n",
    "# print('Precision: train %.2f, test %.2f.' % (train_precision, test_precision))\n",
    "# print('AUC: train %.2f, test %.2f.' % (train_auc, test_auc))"
   ]
  },
  {
   "cell_type": "code",
   "execution_count": 63,
   "metadata": {},
   "outputs": [],
   "source": [
    "n_users, n_articles = UserRatedArticle.shape"
   ]
  },
  {
   "cell_type": "code",
   "execution_count": 44,
   "metadata": {},
   "outputs": [
    {
     "data": {
      "text/plain": [
       "Int64Index([0], dtype='int64')"
      ]
     },
     "execution_count": 44,
     "metadata": {},
     "output_type": "execute_result"
    }
   ],
   "source": [
    "user_id[user_id == '58ca9a4d39b93c16a0512b16'].index"
   ]
  },
  {
   "cell_type": "code",
   "execution_count": 65,
   "metadata": {
    "collapsed": true
   },
   "outputs": [
    {
     "ename": "AssertionError",
     "evalue": "",
     "output_type": "error",
     "traceback": [
      "\u001b[0;31m---------------------------------------------------------------------------\u001b[0m",
      "\u001b[0;31mAssertionError\u001b[0m                            Traceback (most recent call last)",
      "\u001b[0;32m<ipython-input-65-5824a502d312>\u001b[0m in \u001b[0;36m<module>\u001b[0;34m()\u001b[0m\n\u001b[0;32m----> 1\u001b[0;31m \u001b[0mscores\u001b[0m \u001b[0;34m=\u001b[0m \u001b[0mmodel\u001b[0m\u001b[0;34m.\u001b[0m\u001b[0mpredict\u001b[0m\u001b[0;34m(\u001b[0m\u001b[0muser_id\u001b[0m\u001b[0;34m[\u001b[0m\u001b[0muser_id\u001b[0m \u001b[0;34m==\u001b[0m \u001b[0;34m'591ae23171273548d31939a0'\u001b[0m\u001b[0;34m]\u001b[0m\u001b[0;34m.\u001b[0m\u001b[0mindex\u001b[0m\u001b[0;34m,\u001b[0m \u001b[0mnp\u001b[0m\u001b[0;34m.\u001b[0m\u001b[0marange\u001b[0m\u001b[0;34m(\u001b[0m\u001b[0mn_articles\u001b[0m\u001b[0;34m)\u001b[0m\u001b[0;34m)\u001b[0m\u001b[0;34m\u001b[0m\u001b[0m\n\u001b[0m\u001b[1;32m      2\u001b[0m \u001b[0marticle_score\u001b[0m \u001b[0;34m=\u001b[0m \u001b[0mreversed\u001b[0m\u001b[0;34m(\u001b[0m\u001b[0msorted\u001b[0m\u001b[0;34m(\u001b[0m\u001b[0mscores\u001b[0m\u001b[0;34m)\u001b[0m\u001b[0;34m)\u001b[0m\u001b[0;34m\u001b[0m\u001b[0m\n\u001b[1;32m      3\u001b[0m \u001b[0mtop_items\u001b[0m \u001b[0;34m=\u001b[0m \u001b[0marticles_ID\u001b[0m\u001b[0;34m[\u001b[0m\u001b[0;34m'article_ID'\u001b[0m\u001b[0;34m]\u001b[0m\u001b[0;34m[\u001b[0m\u001b[0mnp\u001b[0m\u001b[0;34m.\u001b[0m\u001b[0margsort\u001b[0m\u001b[0;34m(\u001b[0m\u001b[0;34m-\u001b[0m\u001b[0mscores\u001b[0m\u001b[0;34m)\u001b[0m\u001b[0;34m]\u001b[0m\u001b[0;34m\u001b[0m\u001b[0m\n\u001b[1;32m      4\u001b[0m \u001b[0;32mfor\u001b[0m \u001b[0mx\u001b[0m \u001b[0;32min\u001b[0m \u001b[0mtop_items\u001b[0m\u001b[0;34m[\u001b[0m\u001b[0;34m:\u001b[0m\u001b[0;36m5\u001b[0m\u001b[0;34m]\u001b[0m\u001b[0;34m:\u001b[0m\u001b[0;34m\u001b[0m\u001b[0m\n\u001b[1;32m      5\u001b[0m     \u001b[0mprint\u001b[0m\u001b[0;34m(\u001b[0m\u001b[0;34m\"article ID %s\"\u001b[0m \u001b[0;34m%\u001b[0m \u001b[0mx\u001b[0m\u001b[0;34m)\u001b[0m\u001b[0;34m\u001b[0m\u001b[0m\n",
      "\u001b[0;32m~/anaconda3/lib/python3.6/site-packages/lightfm/lightfm.py\u001b[0m in \u001b[0;36mpredict\u001b[0;34m(self, user_ids, item_ids, item_features, user_features, num_threads)\u001b[0m\n\u001b[1;32m    697\u001b[0m             \u001b[0muser_ids\u001b[0m \u001b[0;34m=\u001b[0m \u001b[0mnp\u001b[0m\u001b[0;34m.\u001b[0m\u001b[0mrepeat\u001b[0m\u001b[0;34m(\u001b[0m\u001b[0mnp\u001b[0m\u001b[0;34m.\u001b[0m\u001b[0mint32\u001b[0m\u001b[0;34m(\u001b[0m\u001b[0muser_ids\u001b[0m\u001b[0;34m)\u001b[0m\u001b[0;34m,\u001b[0m \u001b[0mlen\u001b[0m\u001b[0;34m(\u001b[0m\u001b[0mitem_ids\u001b[0m\u001b[0;34m)\u001b[0m\u001b[0;34m)\u001b[0m\u001b[0;34m\u001b[0m\u001b[0m\n\u001b[1;32m    698\u001b[0m \u001b[0;34m\u001b[0m\u001b[0m\n\u001b[0;32m--> 699\u001b[0;31m         \u001b[0;32massert\u001b[0m \u001b[0mlen\u001b[0m\u001b[0;34m(\u001b[0m\u001b[0muser_ids\u001b[0m\u001b[0;34m)\u001b[0m \u001b[0;34m==\u001b[0m \u001b[0mlen\u001b[0m\u001b[0;34m(\u001b[0m\u001b[0mitem_ids\u001b[0m\u001b[0;34m)\u001b[0m\u001b[0;34m\u001b[0m\u001b[0m\n\u001b[0m\u001b[1;32m    700\u001b[0m \u001b[0;34m\u001b[0m\u001b[0m\n\u001b[1;32m    701\u001b[0m         \u001b[0;32mif\u001b[0m \u001b[0muser_ids\u001b[0m\u001b[0;34m.\u001b[0m\u001b[0mdtype\u001b[0m \u001b[0;34m!=\u001b[0m \u001b[0mnp\u001b[0m\u001b[0;34m.\u001b[0m\u001b[0mint32\u001b[0m\u001b[0;34m:\u001b[0m\u001b[0;34m\u001b[0m\u001b[0m\n",
      "\u001b[0;31mAssertionError\u001b[0m: "
     ]
    }
   ],
   "source": [
    "scores = model.predict(user_id[user_id == '591ae23171273548d31939a0'].index, np.arange(n_articles))\n",
    "article_score = reversed(sorted(scores))\n",
    "top_items = articles_ID['article_ID'][np.argsort(-scores)]\n",
    "for x in top_items[:5]:\n",
    "    print(\"article ID %s\" % x)\n",
    "for x in list(article_score)[:5]:\n",
    "    print(\"article Score\",x)"
   ]
  },
  {
   "cell_type": "code",
   "execution_count": 13,
   "metadata": {},
   "outputs": [],
   "source": [
    "lambda_ = 0.1\n",
    "n_factors = 100\n",
    "m, n = UserBasedarticleRating.shape\n",
    "n_iterations = 5\n",
    "\n",
    "X = 5 * np.random.rand(m, n_factors)\n",
    "Y = 5 * np.random.rand(n_factors, n)"
   ]
  },
  {
   "cell_type": "code",
   "execution_count": 111,
   "metadata": {},
   "outputs": [
    {
     "name": "stdout",
     "output_type": "stream",
     "text": [
      "[[0. 0. 0. ... 0. 0. 0.]\n",
      " [0. 0. 0. ... 0. 0. 0.]\n",
      " [0. 0. 0. ... 0. 0. 0.]\n",
      " ...\n",
      " [0. 0. 0. ... 0. 0. 0.]\n",
      " [0. 0. 0. ... 0. 0. 0.]\n",
      " [0. 0. 0. ... 0. 0. 0.]]\n"
     ]
    }
   ],
   "source": [
    "print(UserBasedarticleRating)"
   ]
  },
  {
   "cell_type": "code",
   "execution_count": 34,
   "metadata": {},
   "outputs": [
    {
     "name": "stderr",
     "output_type": "stream",
     "text": [
      "/home/doodlews-98/anaconda3/lib/python3.6/site-packages/scipy/sparse/compressed.py:214: SparseEfficiencyWarning: Comparing a sparse matrix with 0 using == is inefficient, try using != instead.\n",
      "  \", try using != instead.\", SparseEfficiencyWarning)\n",
      "/home/doodlews-98/anaconda3/lib/python3.6/site-packages/scipy/sparse/compressed.py:742: SparseEfficiencyWarning: Changing the sparsity structure of a csr_matrix is expensive. lil_matrix is more efficient.\n",
      "  SparseEfficiencyWarning)\n"
     ]
    }
   ],
   "source": [
    "W = UserBasedarticleRating != 0.0\n",
    "W[W == True] = 0\n",
    "W[W == False] = 1\n",
    "# To be consistent with our Q matrix\n",
    "W = W.astype(np.float64, copy=False)"
   ]
  },
  {
   "cell_type": "code",
   "execution_count": 35,
   "metadata": {},
   "outputs": [],
   "source": [
    "W_array = W.toarray()"
   ]
  },
  {
   "cell_type": "code",
   "execution_count": 28,
   "metadata": {},
   "outputs": [],
   "source": [
    "def get_error(UserBasedarticleRating, X, Y, W):\n",
    "    return np.sum((W * (UserBasedarticleRating - np.dot(X, Y)))**2)"
   ]
  },
  {
   "cell_type": "code",
   "execution_count": 37,
   "metadata": {
    "collapsed": true
   },
   "outputs": [
    {
     "ename": "SyntaxError",
     "evalue": "invalid syntax (<ipython-input-37-28b6ee969d69>, line 9)",
     "output_type": "error",
     "traceback": [
      "\u001b[0;36m  File \u001b[0;32m\"<ipython-input-37-28b6ee969d69>\"\u001b[0;36m, line \u001b[0;32m9\u001b[0m\n\u001b[0;31m    weighted_errors.append(get_error(UserRatedArticle, X, Y, W_array))\u001b[0m\n\u001b[0m                  ^\u001b[0m\n\u001b[0;31mSyntaxError\u001b[0m\u001b[0;31m:\u001b[0m invalid syntax\n"
     ]
    }
   ],
   "source": [
    "weighted_errors = []\n",
    "for ii in range(n_iterations):\n",
    "    for u, Wu in enumerate(W_array):\n",
    "        X[u] = np.linalg.solve(np.dot(Y, np.dot(np.diag(Wu), Y.T)) + lambda_ * np.eye(n_factors),\n",
    "                               np.dot(Y, np.dot(np.diag(Wu), UserBasedarticleRating[u].T))).T\n",
    "    for i, Wi in enumerate(W_array.T):\n",
    "        Y[:,i] = np.linalg.solve(np.dot(X.T, np.dot(np.diag(Wi, X)) + lambda_ * np.eye(n_factors),\n",
    "                                 np.dot(X.T, np.dot(np.diag(Wi, UserBasedarticleRating[:, i])))\n",
    "    weighted_errors.append(get_error(UserBasedarticleRating, X, Y, W_array))\n",
    "    print('{}th iteration is completed'.format(ii))"
   ]
  },
  {
   "cell_type": "code",
   "execution_count": 59,
   "metadata": {},
   "outputs": [],
   "source": [
    "weighted_Q_hat = np.dot(X,Y)"
   ]
  },
  {
   "cell_type": "code",
   "execution_count": 116,
   "metadata": {},
   "outputs": [],
   "source": [
    "def print_recommendations(W=W, Q=UserBasedarticleRating, Q_hat=None, article_titles=totalArticles):\n",
    "    Q_hat -= np.min(Q_hat)\n",
    "    Q_hat *= float(1) / np.max(Q_hat)\n",
    "    article_ids = np.argmax(Q_hat - 1 * W, axis=1)\n",
    "    for jj, article_id in zip(range(m), article_ids):\n",
    "        article_id = list(np.array(article_id).reshape(-1,))\n",
    "        print('User {} liked {}\\n'.format(jj + 1, ', '.join([article_titles[ii] for ii, qq in enumerate(Q[jj]) if qq > 0])))\n",
    "        print('User {} did not like {}\\n'.format(jj + 1, ', '.join([article_titles[ii] for ii, qq in enumerate(Q[jj]) if qq < 0])))\n",
    "        print('\\n User {} recommended movie is {} - with predicted rating: {}'.format(jj + 1, article_titles[article_id[0]], Q_hat[jj, article_id]))\n",
    "        print('\\n' + 100 *  '-' + '\\n')"
   ]
  },
  {
   "cell_type": "code",
   "execution_count": 117,
   "metadata": {
    "scrolled": true
   },
   "outputs": [
    {
     "name": "stdout",
     "output_type": "stream",
     "text": [
      "User 1 liked 5a0c1c80e94bff22c605c6bc\n",
      "\n",
      "User 1 did not like 59c38e3adb95281cb8534393, 59c38eb6db95281cb853446c, 59c38ec0db95281cb853447e, 59d6216ddb95281f20f14060, 59d6216ddb95281f20f14061, 59d62187db95281f20f1408d, 59d621bfdb95281f20f140e4, 59d621c0db95281f20f140e8, 59d621c6db95281f20f140f4, 59d76e92db952815549f75b1, 59d76e92db952815549f760d, 59d76e92db952815549f7610, 59d76e92db952815549f7924, 59f473f2db95281a0c844756, 59f473f2db95281a0c8447d3, 59f473f2db95281a0c844835, 59f473f2db95281a0c844846, 59f473f2db95281a0c844863, 59f473f2db95281a0c844936, 59f473f2db95281a0c84493c, 5a02e724e94bff388ad7f61c, 5a099481e94bff17160fac98, 5a099481e94bff17160fac99, 5a099481e94bff17160fac9a, 5a099481e94bff17160fac9b, 5a0bf82edb95280eb4bd0b67, 5a0c12dfe94bff22c6056661, 5a0c12f0e94bff22c605671d, 5a0c1310e94bff22c6056859, 5a0c1a3ce94bff22c605b065, 5a537040e94bff769b142028, 5a537040e94bff769b14202a, 5a537040e94bff769b14202b, 5a537040e94bff769b14202c, 5a537040e94bff769b14202d, 5a537040e94bff769b14202e, 5a537040e94bff769b14202f, 5a537040e94bff769b142030, 5a537040e94bff769b142031, 5a537040e94bff769b142032, 5a537040e94bff769b142033, 5a537040e94bff769b142034, 5a537040e94bff769b142035, 5a537040e94bff769b142036, 5a537040e94bff769b142037, 5a537040e94bff769b142038, 5a6085aa3882b1773cdd5f79\n",
      "\n",
      "\n",
      " User 1 recommended movie is 5a0c154de94bff22c6057e96 - with predicted rating: [0.75567245]\n",
      "\n",
      "----------------------------------------------------------------------------------------------------\n",
      "\n",
      "User 2 liked 59f473f2db95281a0c8447d8\n",
      "\n",
      "User 2 did not like 59c38e53db95281cb85343be, 59d621f4db95281f20f1413b, 59f473f2db95281a0c844950, 5a09947ae94bff17180fac19, 5a09947ae94bff17180fac1b, 5a09947ae94bff17180fac1c, 5a099505e94bff170f0fab52, 5a0ac0c0e94bff10999c982f, 5a0ac0c0e94bff10999c983e, 5a1fd938e94bff34cd01b30a, 5a603f83e94bff4341ac0460, 5a603f83e94bff4341ac0461, 5a603f83e94bff4341ac0462, 5a603f83e94bff4341ac0463, 5a603f83e94bff4341ac0467, 5abc8fe3e94bff4a651d49fd\n",
      "\n",
      "\n",
      " User 2 recommended movie is 5a2643e7e94bff681e98c784 - with predicted rating: [0.79706611]\n",
      "\n",
      "----------------------------------------------------------------------------------------------------\n",
      "\n",
      "User 3 liked \n",
      "\n",
      "User 3 did not like 59c38e51db95281cb85343ba, 59c38e86db95281cb8534418, 59f473f2db95281a0c844845, 59f473f2db95281a0c844898, 59f473f2db95281a0c844900, 5a059829db95281830aab715, 5a059857db9528229439340c, 5a099480e94bff17170fac5e, 5a099480e94bff17170fac5f, 5a0c1537e94bff22c6057dae, 5a0c23b6e94bff22c6060640, 5a1d0bade94bff1c831dbf1c\n",
      "\n",
      "\n",
      " User 3 recommended movie is 5aacbe4fe94bff5994fb059b - with predicted rating: [0.94701717]\n",
      "\n",
      "----------------------------------------------------------------------------------------------------\n",
      "\n",
      "User 4 liked \n",
      "\n",
      "User 4 did not like \n",
      "\n",
      "\n",
      " User 4 recommended movie is 5a0c154de94bff22c6057e96 - with predicted rating: [0.7908715]\n",
      "\n",
      "----------------------------------------------------------------------------------------------------\n",
      "\n",
      "User 5 liked \n",
      "\n",
      "User 5 did not like 59c38e39db95281cb8534391, 59d62186db95281f20f1408b, 59d623eedb95281f20f1446c, 59f1ce56db952821308ba87d, 59f1ce57db952821308ba87e, 59f473f2db95281a0c8448f3, 5a099505e94bff170f0fab59, 5a099505e94bff170f0fab5f, 5a099505e94bff170f0fab62, 5a099505e94bff170f0fab63, 5a099505e94bff170f0fab64, 5a0ac034e94bff10929c980a, 5a537040e94bff769b141f6f, 5a537040e94bff769b141f70, 5a603f83e94bff4341ac046a, 5a603f83e94bff4341ac046c, 5a9cefe038ae5e2d10584496, 5a9cefe138ae5e2d105844b8, 5ab223ede94bff313756441c\n",
      "\n",
      "\n",
      " User 5 recommended movie is 5a0c154de94bff22c6057e96 - with predicted rating: [0.92720049]\n",
      "\n",
      "----------------------------------------------------------------------------------------------------\n",
      "\n",
      "User 6 liked \n",
      "\n",
      "User 6 did not like 59d4f505be4e1b1f52df0b33\n",
      "\n",
      "\n",
      " User 6 recommended movie is 5a213df1e94bff4017f68c06 - with predicted rating: [0.9183378]\n",
      "\n",
      "----------------------------------------------------------------------------------------------------\n",
      "\n",
      "User 7 liked 59d62482db95281f20f1455f, 59f473f2db95281a0c844902\n",
      "\n",
      "User 7 did not like 59c38e5adb95281cb85343ca, 59c38eabdb95281cb8534459, 59c38eacdb95281cb853445b, 59c38ec0db95281cb853447e, 59d62481db95281f20f1455e, 59d62482db95281f20f14560, 59f473f2db95281a0c844948, 5a02e6a1e94bff388cd7f626, 5a02e6a8e94bff388ed7f5f8, 5a02e724e94bff388ad7f61c, 5a0598a4db952817500257ad, 5a1e5b1de94bff28046014cf\n",
      "\n",
      "\n",
      " User 7 recommended movie is 5a099477e94bff17210fad5b - with predicted rating: [0.791261]\n",
      "\n",
      "----------------------------------------------------------------------------------------------------\n",
      "\n",
      "User 8 liked 59d6216edb95281f20f14063, 5a1fd938e94bff34cd01b39b, 5a537040e94bff769b142090, 5a6724953bd326167db5a482, 5a9cf8e138ae5e2d10597d7b\n",
      "\n",
      "User 8 did not like 59c38e39db95281cb8534391, 59c38e3edb95281cb8534399, 59d62174db95281f20f1406e, 59d623b4db95281f20f14410, 59d623fbdb95281f20f14482, 59d63455b716e669b16318f0, 59f1ce27db952821308ba870, 59f473f2db95281a0c844949, 5a09947ae94bff17180fac92, 5a09947ce94bff17190fab82, 5a099480e94bff171d0faca9, 5a099481e94bff17160fab87, 5a099494e94bff17120face4, 5a099494e94bff17120face6, 5a099505e94bff170f0fab61, 5a1fd938e94bff34cd01b2c6, 5a20f635e94bff3e1002b16b, 5a20f636e94bff3e1002b17b, 5a537040e94bff769b141fbb, 5a537040e94bff769b142097, 5a57669ce94bff15e841bc2b, 5a603f83e94bff4341ac03ab, 5a603f83e94bff4341ac0444, 5a603f83e94bff4341ac0448, 5a603f83e94bff4341ac0457, 5a9cefc638ae5e2d105840f1, 5a9cefc738ae5e2d1058411a, 5a9cefca38ae5e2d10584176, 5a9cefcb38ae5e2d10584197, 5a9cefcc38ae5e2d105841b8, 5a9cf46f38ae5e2d1058ee58, 5a9cf47138ae5e2d1058ee74, 5a9cf47238ae5e2d1058eec6, 5a9cf47738ae5e2d1058ef6d, 5a9cf47838ae5e2d1058ef9d, 5a9cf47a38ae5e2d1058efc4, 5a9cf47c38ae5e2d1058f01f, 5a9cf47e38ae5e2d1058f04a, 5a9cf48138ae5e2d1058f072, 5a9cf48238ae5e2d1058f0a2, 5a9cf48438ae5e2d1058f0c4, 5a9cf51838ae5e2d10590554, 5a9cf8e038ae5e2d10597d2b, 5a9cfa3538ae5e2d10599e2b, 5a9cfa3d38ae5e2d10599ebb, 5aa0e7f7e94bff0ea0da2435, 5aa0e7f7e94bff0ea0da248b, 5aa44a7e9b4b3e4b76431f3b, 5aaa7a6de94bff46738be789, 5ab74a0de94bff04002d5116, 5ab74a26e94bff04002d513d, 5abde1b1e94bff1858329072, 5ac08453e94bff2ef965515d, 5ac08453e94bff2ef965515f, 5ac08474e94bff2ef9655202\n",
      "\n",
      "\n",
      " User 8 recommended movie is 5a0c1386e94bff22c6056ce5 - with predicted rating: [0.88909659]\n",
      "\n",
      "----------------------------------------------------------------------------------------------------\n",
      "\n",
      "User 9 liked \n",
      "\n",
      "User 9 did not like 59f1ce56db952821308ba87d, 59f1ce57db952821308ba87e, 5a099494e94bff17120fab84, 5a099494e94bff17120fab85, 5a099505e94bff170f0fab63, 5a099505e94bff170f0fab64, 5a0ac0a7e94bff10939c980a, 5a3bae9be94bff7722961d7c, 5a57669ce94bff15e841bc2e, 5a57669ce94bff15e841bc2f, 5a57669ce94bff15e841bc30, 5a57669ce94bff15e841bc31, 5a57669ce94bff15e841bc32, 5a57669ce94bff15e841bc33, 5a57669ce94bff15e841bc34, 5a57669ce94bff15e841bc35, 5a9ceff938ae5e2d1058489f, 5abc8fe4e94bff4a651d4a70\n",
      "\n",
      "\n",
      " User 9 recommended movie is 5a53687de94bff68625dd669 - with predicted rating: [0.96866553]\n",
      "\n",
      "----------------------------------------------------------------------------------------------------\n",
      "\n",
      "User 10 liked 59f473f2db95281a0c8448e6, 5a1d382ce94bff1f23ab6e7a, 5a54c791e421766b16fe4110, 5a57669ce94bff15e841bc2a, 5a7c35086fec130e5ba70448\n",
      "\n",
      "User 10 did not like 59c38e51db95281cb85343bb, 59d62150db95281f20f1402e, 59d62187db95281f20f1408d, 59d6223cdb95281f20f141b3, 59d6223ddb95281f20f141b4, 59f1ce56db952821308ba87d, 59f473f2db95281a0c84478b, 59f473f2db95281a0c84478f, 59f473f2db95281a0c84483b, 59f473f2db95281a0c844846, 59f473f2db95281a0c84484d, 59f473f2db95281a0c844865, 59f473f2db95281a0c8448f0, 59f473f2db95281a0c84495f, 5a02e6a8e94bff388ed7f638, 5a099474e94bff17130fabac, 5a09947ce94bff17190fab68, 5a09947ce94bff17190fab6a, 5a09947ce94bff17190fab6b, 5a09947ce94bff17190fab6c, 5a09947ce94bff17190fab73, 5a09947ce94bff17190fab82, 5a09947ce94bff17190fac64, 5a09947ce94bff17190fac65, 5a09947ce94bff17190fac66, 5a09947ce94bff17190fac67, 5a099505e94bff170f0fab50, 5a099505e94bff170f0fab52, 5a099505e94bff170f0fab62, 5a099505e94bff170f0fab64, 5a0ac09be94bff10a39c983d, 5a0ad2053d276b099504ba98, 5a1d381be94bff1f23ab6cbd, 5a1d382ce94bff1f23ab6e76, 5a1d382ce94bff1f23ab6e7b, 5a3bae9be94bff7722961c86, 5a3bae9be94bff7722961d73, 5a3bae9be94bff7722961d74, 5a3bae9be94bff7722961d75, 5a3bae9be94bff7722961d7c, 5a537040e94bff769b141f70, 5a57669ce94bff15e841bc29, 5a57669ce94bff15e841bc2b, 5a57669ce94bff15e841bc2c, 5a57669ce94bff15e841bc2d, 5a57669ce94bff15e841bc2e, 5a57669ce94bff15e841bc2f, 5a57669ce94bff15e841bc31, 5a57669ce94bff15e841bc32, 5a57669ce94bff15e841bc35, 5a603f83e94bff4341ac0460, 5a603f83e94bff4341ac0468, 5a603f83e94bff4341ac046b, 5a6085aa3882b1773cdd5f79, 5a61d9f362cbcb531fcd6943, 5a671eda4d2ce911779bbdbc, 5a6724953bd326167db5a482, 5a672b337a06851af7a83427, 5a6856cb39a4f137a7405550, 5a6869ec39a4f137a74055b8, 5a68720d39a4f137a7405602, 5a86c617c17f507b2a0d12ea, 5a86c9a19601b107ac397cb1, 5a9cef8438ae5e2d10583809, 5a9cef9638ae5e2d10583a6b, 5a9cef9738ae5e2d10583a8d, 5a9cef9a38ae5e2d10583ac7, 5a9cef9b38ae5e2d10583ade, 5a9cef9d38ae5e2d10583b08, 5a9cef9f38ae5e2d10583b5f, 5a9ceff938ae5e2d105848af, 5a9ceffb38ae5e2d105848e2, 5a9ceffc38ae5e2d10584915, 5a9ceffd38ae5e2d10584945, 5a9ceffe38ae5e2d10584976, 5a9cf00038ae5e2d1058499d, 5a9cf02038ae5e2d10584fa3, 5a9cf02138ae5e2d10585040, 5a9cf02238ae5e2d105850bd, 5a9cf02438ae5e2d105850fb, 5a9cf02638ae5e2d105851b1, 5a9cf02738ae5e2d105851ff, 5a9cf02938ae5e2d1058524a, 5a9cf02b38ae5e2d1058527c, 5a9cf02c38ae5e2d105852dc, 5a9cf02d38ae5e2d10585317, 5a9cf02e38ae5e2d1058535f, 5a9cf03038ae5e2d1058539f, 5a9cf03438ae5e2d10585412, 5a9cf03538ae5e2d10585438, 5a9cf03738ae5e2d10585493, 5a9cf03838ae5e2d105854b6, 5a9cf1f738ae5e2d10589877, 5a9cf1f838ae5e2d10589891, 5a9cf1f938ae5e2d105898b3, 5a9cf1fa38ae5e2d105898de, 5a9cf1fc38ae5e2d10589906, 5a9cf1fd38ae5e2d10589930, 5a9cf1fe38ae5e2d10589981, 5a9cf2c438ae5e2d1058b59c, 5a9cf2c638ae5e2d1058b5ba, 5a9cf2c838ae5e2d1058b5ec, 5a9cf2ca38ae5e2d1058b642, 5a9cf2cc38ae5e2d1058b67b, 5a9cf8d538ae5e2d10597be9, 5a9cf8d838ae5e2d10597c56, 5a9cfa2938ae5e2d10599d5d, 5a9cfa2a38ae5e2d10599d67, 5a9cfa2c38ae5e2d10599d7c, 5a9cfa2d38ae5e2d10599d8e, 5a9cfa2e38ae5e2d10599d9b, 5a9cfa3838ae5e2d10599e47, 5a9cfa3938ae5e2d10599e56, 5a9cfa3d38ae5e2d10599ebb, 5aa21f3ae94bff6f68f57e7c, 5aa21f3be94bff6f68f57e7d, 5aaf9e78c81c3c2c519c7197, 5ab0b293e94bff7ae27415c2, 5ab4a706e94bff5177512b8e, 5ab749e4e94bff04002d504b, 5ab749e4e94bff04002d5044, 5ab749fbe94bff04002d50ee, 5ab749fbe94bff04002d50a5, 5ab74a26e94bff04002d513d, 5ab74a26e94bff04002d5191, 5ab8da9c36403c1df9107b0e, 5abc9017e94bff4a651d4b12, 5abc9017e94bff4a651d4b76\n",
      "\n",
      "\n",
      " User 10 recommended movie is 5a0c1386e94bff22c6056ce5 - with predicted rating: [0.88085127]\n",
      "\n",
      "----------------------------------------------------------------------------------------------------\n",
      "\n"
     ]
    },
    {
     "name": "stdout",
     "output_type": "stream",
     "text": [
      "User 11 liked 59d6216edb95281f20f14063, 5a537040e94bff769b142090, 5a6724953bd326167db5a482\n",
      "\n",
      "User 11 did not like 59c38e3edb95281cb8534399, 59c38e3edb95281cb853439a, 59c38e4adb95281cb85343af, 59c38e54db95281cb85343c1, 59c38ea1db95281cb8534447, 59d62155db95281f20f14038, 59d62156db95281f20f1403a, 59d6215ddb95281f20f14043, 59d6216ddb95281f20f14060, 59d6216ddb95281f20f14061, 59d6216edb95281f20f14062, 59d6216fdb95281f20f14064, 59d6216fdb95281f20f14065, 59d62170db95281f20f14066, 59d62170db95281f20f14067, 59d62171db95281f20f14068, 59d62171db95281f20f14069, 59d62172db95281f20f1406a, 59d62172db95281f20f1406b, 59d62173db95281f20f1406c, 59d62173db95281f20f1406d, 59d621c6db95281f20f140f4, 59d623aedb95281f20f14406, 59d76e92db952815549f74b9, 59d76e92db952815549f75be, 59d76e92db952815549f77ab, 59edb7a2892faf63ec207a5f, 59f1ce02db952821308ba85f, 59f473f2db95281a0c84476c, 59f473f2db95281a0c84478f, 59f473f2db95281a0c8447a6, 59f473f2db95281a0c8447aa, 59f473f2db95281a0c8447c7, 59f473f2db95281a0c8447d3, 59f473f2db95281a0c8447ea, 59f473f2db95281a0c844826, 59f473f2db95281a0c844829, 59f473f2db95281a0c84482b, 59f473f2db95281a0c844832, 59f473f2db95281a0c844865, 59f473f2db95281a0c844895, 59f473f2db95281a0c84489b, 59f473f2db95281a0c8448e6, 59f473f2db95281a0c8448f0, 59f473f2db95281a0c8448f3, 5a02e6a8e94bff388ed7f624, 5a099474e94bff17130fabac, 5a099477e94bff17210facba, 5a099477e94bff17210facbb, 5a099477e94bff17210facbc, 5a099477e94bff17210facbd, 5a099477e94bff17210facbe, 5a099477e94bff17210facbf, 5a099477e94bff17210facc0, 5a099477e94bff17210facc1, 5a099477e94bff17210facc2, 5a099477e94bff17210facc3, 5a099477e94bff17210facc4, 5a099477e94bff17210facc5, 5a099477e94bff17210facc6, 5a099477e94bff17210facc7, 5a099477e94bff17210facc8, 5a099477e94bff17210faccb, 5a099477e94bff17210faccc, 5a099477e94bff17210faccd, 5a09947ae94bff17180fab83, 5a09947ae94bff17180fab84, 5a09947ae94bff17180fab85, 5a09947ae94bff17180fab87, 5a09947ae94bff17180fab88, 5a09947ae94bff17180fab89, 5a09947ce94bff17190fabf1, 5a09947ce94bff17190fac31, 5a099505e94bff170f0fab4c, 5a099505e94bff170f0fab4f, 5a099505e94bff170f0fab50, 5a099505e94bff170f0fab51, 5a099505e94bff170f0fab52, 5a099505e94bff170f0fab53, 5a099505e94bff170f0fab55, 5a099505e94bff170f0fab56, 5a099505e94bff170f0fab61, 5a0ac086e94bff10969c9833, 5a0ad1803d276b099504ba93, 5a0ad2053d276b099504ba98, 5a0ad29c3d276b099504baa5, 5a12791e1aa1c43ac34e80c0, 5a1c17b3cda15e3d345b44b0, 5a535b24e94bff68625d445a, 5a535b2ae94bff68625d4496, 5a5367f3e94bff68625dd0ee, 5a536806e94bff68625dd1b8, 5a536819e94bff68625dd277, 5a53681ae94bff68625dd287, 5a53681be94bff68625dd294, 5a53681de94bff68625dd29f, 5a53681ee94bff68625dd2b1, 5a5368a4e94bff68625dd7f7, 5a5368b0e94bff68625dd879, 5a5368b3e94bff68625dd894, 5a5368b9e94bff68625dd8d0, 5a5368bbe94bff68625dd8df, 5a5368c1e94bff68625dd91a, 5a5368c3e94bff68625dd927, 5a537040e94bff769b142048, 5a537040e94bff769b142049, 5a537040e94bff769b14204a, 5a537040e94bff769b14204b, 5a537040e94bff769b14204c, 5a537040e94bff769b14204e, 5a537040e94bff769b14204f, 5a537040e94bff769b142050, 5a537040e94bff769b142051, 5a537040e94bff769b142052, 5a537040e94bff769b142053, 5a537040e94bff769b142054, 5a537040e94bff769b142055, 5a537040e94bff769b142057, 5a537040e94bff769b142058, 5a537040e94bff769b142059, 5a537040e94bff769b14205b, 5a537040e94bff769b14205c, 5a537040e94bff769b14205d, 5a537040e94bff769b14205e, 5a537040e94bff769b14205f, 5a537040e94bff769b142061, 5a537040e94bff769b142062, 5a537040e94bff769b142063, 5a537040e94bff769b142064, 5a537040e94bff769b142065, 5a537040e94bff769b142066, 5a537040e94bff769b142067, 5a537040e94bff769b142068, 5a537040e94bff769b142069, 5a537040e94bff769b14206a, 5a537040e94bff769b14206b, 5a537040e94bff769b14206c, 5a537040e94bff769b14206d, 5a537040e94bff769b14206e, 5a537040e94bff769b14206f, 5a537040e94bff769b142070, 5a537040e94bff769b142071, 5a537040e94bff769b142072, 5a537040e94bff769b142073, 5a537040e94bff769b142074, 5a537040e94bff769b142075, 5a537040e94bff769b142076, 5a537040e94bff769b142077, 5a537040e94bff769b142078, 5a537040e94bff769b142079, 5a537040e94bff769b14207a, 5a537040e94bff769b14207b, 5a537040e94bff769b14207c, 5a537040e94bff769b14207d, 5a537040e94bff769b14207e, 5a537040e94bff769b142085, 5a537040e94bff769b142086, 5a537040e94bff769b142087, 5a537040e94bff769b142088, 5a537040e94bff769b142089, 5a537040e94bff769b142091, 5a537040e94bff769b142092, 5a537040e94bff769b142093, 5a537040e94bff769b14209b, 5a537040e94bff769b14209c, 5a537040e94bff769b14209d, 5a57669ce94bff15e841bc11, 5a57669ce94bff15e841bc12, 5a57669ce94bff15e841bc1a, 5a57669ce94bff15e841bc25, 5a57669ce94bff15e841bc35, 5a5c573ae94bff1b0eaec85d, 5a603f83e94bff4341ac046a, 5a603f83e94bff4341ac046b, 5a603f83e94bff4341ac046c, 5a61e6d28825c55bf5088d4b, 5a671eda4d2ce911779bbdbc, 5a6856cb39a4f137a7405550, 5a6869ec39a4f137a74055b8, 5a86c9a19601b107ac397cb1, 5aaf9e78c81c3c2c519c7197, 5ab0b293e94bff7ae27415c2\n",
      "\n",
      "\n",
      " User 11 recommended movie is 5a213ec8e94bff4017f694a6 - with predicted rating: [0.73256092]\n",
      "\n",
      "----------------------------------------------------------------------------------------------------\n",
      "\n",
      "User 12 liked \n",
      "\n",
      "User 12 did not like 59c38e4ddb95281cb85343b3, 59c38e51db95281cb85343ba, 59c38ed3db95281cb853449e\n",
      "\n",
      "\n",
      " User 12 recommended movie is 5a0c1386e94bff22c6056ce5 - with predicted rating: [0.71809165]\n",
      "\n",
      "----------------------------------------------------------------------------------------------------\n",
      "\n",
      "User 13 liked \n",
      "\n",
      "User 13 did not like 59d621b4db95281f20f140d3, 59d621b5db95281f20f140d4, 59d621b5db95281f20f140d5, 59f473f2db95281a0c8447c9, 59f473f2db95281a0c8447cb, 59f473f2db95281a0c8447d3, 59f473f2db95281a0c8447f1, 59f473f2db95281a0c844811, 59f473f2db95281a0c844846, 59f473f2db95281a0c844936, 59f473f2db95281a0c84493c, 5a02e6a1e94bff388cd7f60c, 5a02e6a1e94bff388cd7f612, 5a02e6a1e94bff388cd7f624, 5a02e724e94bff388ad7f61d\n",
      "\n",
      "\n",
      " User 13 recommended movie is 5aacbe4fe94bff5994fb059b - with predicted rating: [0.89729484]\n",
      "\n",
      "----------------------------------------------------------------------------------------------------\n",
      "\n",
      "User 14 liked \n",
      "\n",
      "User 14 did not like 59c38e3edb95281cb8534399, 59c38e4ddb95281cb85343b4, 59f473f2db95281a0c8447d3, 59f473f2db95281a0c844936, 5a0598a4db95281aa005050d\n",
      "\n",
      "\n",
      " User 14 recommended movie is 5a705cc3e94bff28cc1fc4d4 - with predicted rating: [0.75671755]\n",
      "\n",
      "----------------------------------------------------------------------------------------------------\n",
      "\n",
      "User 15 liked \n",
      "\n",
      "User 15 did not like 59c38eb4db95281cb8534468, 59d62450db95281f20f1450c, 59d62455db95281f20f14515, 5a02e724e94bff388ad7f64d, 5a099478e94bff171c0facce\n",
      "\n",
      "\n",
      " User 15 recommended movie is 5a213137e94bff4017f5fd31 - with predicted rating: [0.94116866]\n",
      "\n",
      "----------------------------------------------------------------------------------------------------\n",
      "\n",
      "User 16 liked \n",
      "\n",
      "User 16 did not like 5a537040e94bff769b14207f, 5a537040e94bff769b142080, 5a537040e94bff769b142081, 5a537040e94bff769b142082, 5a537040e94bff769b142083, 5a537040e94bff769b142084, 5a537040e94bff769b14208d, 5a537040e94bff769b14208e, 5a537040e94bff769b14208f, 5a537040e94bff769b142095, 5a537040e94bff769b142096, 5a537040e94bff769b142097, 5a57669ce94bff15e841bc2e, 5a57669ce94bff15e841bc2f\n",
      "\n",
      "\n",
      " User 16 recommended movie is 5a1e5ecee94bff2804603cde - with predicted rating: [0.68827815]\n",
      "\n",
      "----------------------------------------------------------------------------------------------------\n",
      "\n",
      "User 17 liked \n",
      "\n",
      "User 17 did not like 5a603f83e94bff4341ac046c\n",
      "\n",
      "\n",
      " User 17 recommended movie is 5a537040e94bff769b14209d - with predicted rating: [0.85217406]\n",
      "\n",
      "----------------------------------------------------------------------------------------------------\n",
      "\n",
      "User 18 liked \n",
      "\n",
      "User 18 did not like 5a099505e94bff170f0fab61, 5a099505e94bff170f0fab7d\n",
      "\n",
      "\n",
      " User 18 recommended movie is 5a705817e94bff28cc1f90cd - with predicted rating: [0.87684916]\n",
      "\n",
      "----------------------------------------------------------------------------------------------------\n",
      "\n",
      "User 19 liked \n",
      "\n",
      "User 19 did not like 5a9cfa3938ae5e2d10599e56, 5a9cfa3a38ae5e2d10599e9d, 5aa21f3ce94bff6f68f57e7f\n",
      "\n",
      "\n",
      " User 19 recommended movie is 5a0c1386e94bff22c6056ce5 - with predicted rating: [0.80517381]\n",
      "\n",
      "----------------------------------------------------------------------------------------------------\n",
      "\n",
      "User 20 liked \n",
      "\n",
      "User 20 did not like 59f473f2db95281a0c844865, 59f473f2db95281a0c8448f0, 5a6724953bd326167db5a482, 5a6856cb39a4f137a7405550, 5a68720d39a4f137a7405602, 5a7c35086fec130e5ba70448\n",
      "\n",
      "\n",
      " User 20 recommended movie is 5a0c2242e94bff22c605fafb - with predicted rating: [0.97280075]\n",
      "\n",
      "----------------------------------------------------------------------------------------------------\n",
      "\n",
      "User 21 liked \n",
      "\n"
     ]
    },
    {
     "name": "stdout",
     "output_type": "stream",
     "text": [
      "User 21 did not like 5aa910a5b93ba8616645bfae, 5aaa126253b5a02ed4709326\n",
      "\n",
      "\n",
      " User 21 recommended movie is 5a2645d8e94bff681e98dd17 - with predicted rating: [1.]\n",
      "\n",
      "----------------------------------------------------------------------------------------------------\n",
      "\n",
      "User 22 liked \n",
      "\n",
      "User 22 did not like 5aacbe70e94bff5994fb0699, 5aacc5aa514e384f03bcbc69\n",
      "\n",
      "\n",
      " User 22 recommended movie is 5a9d10e1e94bff1ea2dd56c9 - with predicted rating: [0.83619394]\n",
      "\n",
      "----------------------------------------------------------------------------------------------------\n",
      "\n"
     ]
    }
   ],
   "source": [
    "print_recommendations(Q_hat=weighted_Q_hat)"
   ]
  },
  {
   "cell_type": "code",
   "execution_count": 115,
   "metadata": {},
   "outputs": [
    {
     "data": {
      "text/plain": [
       "0     58ca9a4d39b93c16a0512b16\n",
       "1     5922bb5eca31e823d89917bf\n",
       "2     592d2735ca31e823d89917e1\n",
       "3     598f02a4295deb5eef22fd47\n",
       "4     599d818fcb5b0e5a2d19ce47\n",
       "5     59aeb9103eff8004a2f73987\n",
       "6     59c2598681d14d26cb0e920b\n",
       "7     59c260e93f75762a16a851bf\n",
       "8     59c35b2ccf2edc3b8e5f1c2d\n",
       "9     59ddb825b0a06048405c0d8d\n",
       "10    59f02efcc32ec00ec67662ec\n",
       "11    59fc42d0e33fa16647db78f5\n",
       "12    5a00583223d9af1b04a736b7\n",
       "13    5a053273cc2d0b07b601120e\n",
       "14    5a400b721831cb024a8c5e24\n",
       "15    5a559e3c139d1a6bcad3a860\n",
       "16    5a8526643879b4731f4bc1e6\n",
       "17    5a8fb91139b45e1e1c8f535b\n",
       "18    5aa23274a9541c7f598c5158\n",
       "19    5aacdf778c36236660e00acd\n",
       "20    5ab1e1663e32197a9c8085dc\n",
       "21    5ab220046afc212f6fb74eed\n",
       "dtype: object"
      ]
     },
     "execution_count": 115,
     "metadata": {},
     "output_type": "execute_result"
    }
   ],
   "source": [
    "user_id"
   ]
  },
  {
   "cell_type": "code",
   "execution_count": null,
   "metadata": {},
   "outputs": [],
   "source": []
  }
 ],
 "metadata": {
  "kernelspec": {
   "display_name": "Python 3",
   "language": "python",
   "name": "python3"
  },
  "language_info": {
   "codemirror_mode": {
    "name": "ipython",
    "version": 3
   },
   "file_extension": ".py",
   "mimetype": "text/x-python",
   "name": "python",
   "nbconvert_exporter": "python",
   "pygments_lexer": "ipython3",
   "version": "3.6.4"
  }
 },
 "nbformat": 4,
 "nbformat_minor": 2
}
