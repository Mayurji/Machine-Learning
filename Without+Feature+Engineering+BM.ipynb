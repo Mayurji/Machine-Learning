{
 "cells": [
  {
   "cell_type": "code",
   "execution_count": 28,
   "metadata": {
    "collapsed": false
   },
   "outputs": [
    {
     "name": "stdout",
     "output_type": "stream",
     "text": [
      "\n"
     ]
    }
   ],
   "source": [
    "import pandas as pd\n",
    "import numpy as np\n",
    "from sklearn.cross_validation import train_test_split\n",
    "from sklearn.metrics import accuracy_score\n",
    "from sklearn.naive_bayes import GaussianNB\n",
    "from sklearn.naive_bayes import BernoulliNB\n",
    "from sklearn.ensemble import GradientBoostingClassifier\n",
    "from sklearn.ensemble import AdaBoostClassifier\n",
    "import matplotlib.pyplot as pp\n",
    "from sklearn import svm\n",
    "from sklearn.ensemble import RandomForestClassifier\n",
    "import math\n",
    "from scipy.stats.stats import pearsonr\n",
    "from sklearn.neighbors import KNeighborsClassifier\n",
    "from sklearn.discriminant_analysis import LinearDiscriminantAnalysis, QuadraticDiscriminantAnalysis\n",
    "from sklearn.linear_model import LogisticRegression\n",
    "from sklearn.tree import DecisionTreeClassifier\n",
    "\n",
    "data = pd.read_csv('D:/textAnalysis/marketing-data.csv',sep=',',header='infer')\n",
    "\n",
    "def binaryType_(data):\n",
    "    \n",
    "    data.is_success.replace(('yes', 'no'), (1, 0), inplace=True)\n",
    "    data.default.replace(('yes','no'),(1,0),inplace=True)\n",
    "    data.housing.replace(('yes','no'),(1,0),inplace=True)\n",
    "    data.loan.replace(('yes','no'),(1,0),inplace=True)\n",
    "    return data\n",
    "\n",
    "data = binaryType_(data)\n",
    "\n",
    "# print(np.corrcoef(data['campaign'],data['is_success']))\n",
    "# print(np.corrcoef(data['pdays'],data['is_success']))\n",
    "# print(np.corrcoef(data['duration'],data['is_success']))\n",
    "# print(np.corrcoef(data['age'],data['is_success']))\n",
    "# print(np.corrcoef(data['default'],data['is_success']))\n",
    "# print(np.corrcoef(data['housing'],data['is_success']))\n",
    "# print(np.corrcoef(data['loan'],data['is_success']))\n",
    "\n",
    "#print(data.education.unique())\n",
    "#print(data.education.value_counts())\n",
    "# sec = (data.education.value_counts()[0]/ len(data.education) * 100).tolist()\n",
    "# pri = (data.education.value_counts()[1]/ len(data.education) * 100).tolist()\n",
    "# teri = (data.education.value_counts()[2]/ len(data.education) * 100).tolist()\n",
    "# tot = sec + pri + teri\n",
    "# sec_unk = math.ceil((sec/tot) * 100)\n",
    "# pri_unk = math.ceil((pri/tot) * 100)\n",
    "# teri_unk = math.ceil((teri/tot) * 100) -1\n",
    "# unk_sec = math.ceil((data.education.value_counts()[3] * sec_unk) / 100 )\n",
    "# unk_pri = math.ceil((data.education.value_counts()[3] * pri_unk) / 100 )\n",
    "# unk_teri = math.ceil((data.education.value_counts()[3] * teri_unk) / 100 ) -1 \n",
    "\n",
    "# for i in range(data.education.value_counts()[3]):\n",
    "#     for j in range(len(data['education'])):\n",
    "#         if i != unk_sec:\n",
    "#             if data['education'][j] == 'unknown':\n",
    "#                 data['education'][j] = 'secondary'\n",
    "#         elif i != unk_sec+unk_pri:\n",
    "#             if data['education'][j] == 'unknown':\n",
    "#                 data['education'][j] = 'primary'\n",
    "#         elif i != unk_sec+unk_pri+unk_teri:\n",
    "#             if data['education'][j] == 'unknown':\n",
    "#                 data['education'][j] = 'tertiary'\n",
    "#         else:\n",
    "#             break\n",
    "            \n",
    "\n",
    "#data.loc(data['education'][i].replace(('unknown'), ('secondary'), inplace=True) for i in range(unk_sec) if data['education'] == 'unknown') \n",
    "#print(data.columns)\n",
    "#print(data.marital.unique())\n",
    "#print(data[['marital', 'is_success']].groupby(['marital'], as_index=False).mean())\n",
    "for i in range(len(data.marital.unique())):\n",
    "    data[\"marital_\"+str(data.marital.unique()[i])] = (data.marital == data.marital.unique()[i]).astype(int)\n",
    "\n",
    "for j in range(len(data.job.unique())):\n",
    "    data[\"job_\"+str(data.job.unique()[j])] = (data.job == data.job.unique()[j]).astype(int)\n",
    "\n",
    "for k in range(len(data.contact.unique())):\n",
    "    data[\"contact_\"+str(data.contact.unique()[k])] = (data.contact == data.contact.unique()[k]).astype(int)\n",
    "\n",
    "for l in range(len(data.education.unique())):\n",
    "    data['education_'+str(data.education.unique()[l])] = (data.education == data.education.unique()[l]).astype(int)\n",
    "    \n",
    "#for m in range(len(data.poutcome.unique())):\n",
    "#    data['poutcome_'+str(data.poutcome.unique()[m])] = (data.poutcome == data.poutcome.unique()[m]).astype(int)\n",
    "\n",
    "data = data.drop(['education'],axis=1)\n",
    "data = data.drop(['marital'],axis=1)\n",
    "data = data.drop(['job'],axis=1)\n",
    "data = data.drop(['contact'],axis=1)\n",
    "data = data.drop(['poutcome'],axis=1)\n",
    "data = data.drop(['pdays'],axis=1)\n",
    "#data = data.drop(['age'],axis=1)\n",
    "#data = data.drop(['balance'],axis=1)\n",
    "#data = data.drop(['campaign'],axis=1)\n",
    "\n",
    "#print(data.columns)\n",
    "#print(data.age.value_counts())\n",
    "print()"
   ]
  },
  {
   "cell_type": "code",
   "execution_count": 29,
   "metadata": {
    "collapsed": false
   },
   "outputs": [
    {
     "name": "stderr",
     "output_type": "stream",
     "text": [
      "C:\\ProgramData\\Anaconda3\\lib\\site-packages\\ipykernel\\__main__.py:6: DataConversionWarning: A column-vector y was passed when a 1d array was expected. Please change the shape of y to (n_samples, ), for example using ravel().\n"
     ]
    },
    {
     "name": "stdout",
     "output_type": "stream",
     "text": [
      "0.882229348667\n"
     ]
    },
    {
     "name": "stderr",
     "output_type": "stream",
     "text": [
      "C:\\ProgramData\\Anaconda3\\lib\\site-packages\\ipykernel\\__main__.py:11: DataConversionWarning: A column-vector y was passed when a 1d array was expected. Please change the shape of y to (n_samples,), for example using ravel().\n"
     ]
    },
    {
     "name": "stdout",
     "output_type": "stream",
     "text": [
      "0.886210328431\n"
     ]
    },
    {
     "name": "stderr",
     "output_type": "stream",
     "text": [
      "C:\\ProgramData\\Anaconda3\\lib\\site-packages\\sklearn\\utils\\validation.py:526: DataConversionWarning: A column-vector y was passed when a 1d array was expected. Please change the shape of y to (n_samples, ), for example using ravel().\n",
      "  y = column_or_1d(y, warn=True)\n"
     ]
    },
    {
     "name": "stdout",
     "output_type": "stream",
     "text": [
      "0.891739466991\n",
      "0.888421983855\n"
     ]
    }
   ],
   "source": [
    "data_X = data.drop(['is_success','day','month'],axis=1)\n",
    "data_y = pd.DataFrame(data['is_success'])\n",
    "X_train,X_test,y_train,y_test = train_test_split(data_X,data_y,test_size=0.2,random_state=0)\n",
    "\n",
    "knn = KNeighborsClassifier(n_neighbors=8)\n",
    "knn.fit(X_train,y_train)\n",
    "y_predict = knn.predict(X_test)\n",
    "print(accuracy_score(y_test,y_predict))\n",
    "\n",
    "rforest = RandomForestClassifier()\n",
    "rforest = rforest.fit(X_train,y_train)\n",
    "yprediction = rforest.predict(X_test)\n",
    "\n",
    "print(accuracy_score(yprediction,y_test))\n",
    "\n",
    "gbc = GradientBoostingClassifier()\n",
    "gbc =gbc.fit(X_train,y_train)\n",
    "y_out = gbc.predict(X_test)\n",
    "print(accuracy_score(y_out,y_test))\n",
    "\n",
    "abc = AdaBoostClassifier()\n",
    "abc =abc.fit(X_train,y_train)\n",
    "y_output = abc.predict(X_test)\n",
    "print(accuracy_score(y_output,y_test))"
   ]
  },
  {
   "cell_type": "code",
   "execution_count": 30,
   "metadata": {
    "collapsed": false
   },
   "outputs": [
    {
     "name": "stderr",
     "output_type": "stream",
     "text": [
      "C:\\ProgramData\\Anaconda3\\lib\\site-packages\\sklearn\\utils\\validation.py:526: DataConversionWarning: A column-vector y was passed when a 1d array was expected. Please change the shape of y to (n_samples, ), for example using ravel().\n",
      "  y = column_or_1d(y, warn=True)\n"
     ]
    },
    {
     "name": "stdout",
     "output_type": "stream",
     "text": [
      "0.886873825058\n"
     ]
    }
   ],
   "source": [
    "LR = LogisticRegression()\n",
    "LR.fit(X_train, y_train)\n",
    "train_predictions = LR.predict(X_test)\n",
    "acc = accuracy_score(y_test, train_predictions)\n",
    "print(acc)"
   ]
  },
  {
   "cell_type": "code",
   "execution_count": 31,
   "metadata": {
    "collapsed": false
   },
   "outputs": [
    {
     "name": "stderr",
     "output_type": "stream",
     "text": [
      "C:\\ProgramData\\Anaconda3\\lib\\site-packages\\sklearn\\utils\\validation.py:526: DataConversionWarning: A column-vector y was passed when a 1d array was expected. Please change the shape of y to (n_samples, ), for example using ravel().\n",
      "  y = column_or_1d(y, warn=True)\n"
     ]
    },
    {
     "name": "stdout",
     "output_type": "stream",
     "text": [
      "0.887647904456\n"
     ]
    },
    {
     "name": "stderr",
     "output_type": "stream",
     "text": [
      "C:\\ProgramData\\Anaconda3\\lib\\site-packages\\sklearn\\discriminant_analysis.py:387: UserWarning: Variables are collinear.\n",
      "  warnings.warn(\"Variables are collinear.\")\n"
     ]
    }
   ],
   "source": [
    "LDA = LinearDiscriminantAnalysis()\n",
    "LDA.fit(X_train, y_train)\n",
    "train_predictions = LDA.predict(X_test)\n",
    "acc = accuracy_score(y_test, train_predictions)\n",
    "print(acc)"
   ]
  },
  {
   "cell_type": "code",
   "execution_count": null,
   "metadata": {
    "collapsed": true
   },
   "outputs": [],
   "source": []
  },
  {
   "cell_type": "code",
   "execution_count": null,
   "metadata": {
    "collapsed": true
   },
   "outputs": [],
   "source": []
  }
 ],
 "metadata": {
  "kernelspec": {
   "display_name": "Python 3",
   "language": "python",
   "name": "python3"
  },
  "language_info": {
   "codemirror_mode": {
    "name": "ipython",
    "version": 3
   },
   "file_extension": ".py",
   "mimetype": "text/x-python",
   "name": "python",
   "nbconvert_exporter": "python",
   "pygments_lexer": "ipython3",
   "version": "3.6.0"
  }
 },
 "nbformat": 4,
 "nbformat_minor": 2
}
