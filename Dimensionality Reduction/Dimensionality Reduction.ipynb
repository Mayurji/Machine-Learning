{
 "cells": [
  {
   "cell_type": "markdown",
   "metadata": {},
   "source": [
    "## Dimensionality Reduction\n",
    "\n",
    "**Dimensionality Reduction is used for a well known problem called as 'Curse Of Dimensionality'.**\n",
    "**The Wikipedia defines of Curse of Dimensionality as follows : The curse of dimensionality refers to various phenomena that arise when analyzing and organizing data in high-dimensional spaces (often with hundreds or thousands of dimensions) that do not occur in low-dimensional settings such as the three-dimensional physical space of everyday experience. **\n",
    "\n",
    "** To overcome the above problem, we do dimensionality reduction. SO how to perform Dimensionality Reduction, there are number of ways of Dimensionality reduction such as feature selection and Feature Extraction.**\n",
    "\n",
    "** We will be looking at Feature Extraction methods of Dimensionality Reduction **\n",
    "\n",
    "** Two we'll known dimension reduction technique are PCA and Truncated SVD **\n",
    "\n",
    "   **PCA** : Principal Components Analysis means components which are able to explain the maximum amount of variance of the features with respect to target variable, if we include all feature as components then we get the variance of 1.\n",
    "     \n",
    "   **TruncatedSVD**: It is very similar to PCA, the only difference one can specify technically is PCA performs variance calculation on Covariance matrix but TSVD does the same on sample direct vectors.\n",
    "     \n",
    "   **Our ultimate aim here is to explain the maximum variance of the feature using as less components as possible.**\n",
    "     \n",
    "**Please find the below link for better understanding of PCA vs Truncated SVD:**\n",
    "     \n",
    "**\"https://stats.stackexchange.com/questions/239481/difference-between-scikit-learn-implementations-of-pca-and-truncatedsvd\"**"
   ]
  },
  {
   "cell_type": "code",
   "execution_count": 36,
   "metadata": {
    "collapsed": true
   },
   "outputs": [],
   "source": [
    "from sklearn.datasets import load_digits\n",
    "from sklearn.decomposition import TruncatedSVD\n",
    "from sklearn.decomposition import PCA\n",
    "from sklearn.ensemble import RandomForestClassifier\n",
    "from sklearn.naive_bayes import GaussianNB\n",
    "from sklearn.model_selection import train_test_split\n",
    "import sklearn.metrics as m\n",
    "import matplotlib.pyplot as plt\n",
    "import matplotlib.cm as cm\n",
    "import numpy as np\n",
    "import skimage as img\n",
    "import seaborn as sns"
   ]
  },
  {
   "cell_type": "code",
   "execution_count": 37,
   "metadata": {},
   "outputs": [],
   "source": [
    "load_digits = load_digits()"
   ]
  },
  {
   "cell_type": "markdown",
   "metadata": {},
   "source": [
    "**We are loading the digits dataset for our problem. We can notice that we have around 64 feature representing the digit.**"
   ]
  },
  {
   "cell_type": "code",
   "execution_count": 38,
   "metadata": {},
   "outputs": [
    {
     "data": {
      "text/plain": [
       "(1797, 64)"
      ]
     },
     "execution_count": 38,
     "metadata": {},
     "output_type": "execute_result"
    }
   ],
   "source": [
    "load_digits.data.shape"
   ]
  },
  {
   "cell_type": "code",
   "execution_count": 39,
   "metadata": {},
   "outputs": [
    {
     "data": {
      "image/png": "[encoded data removed]",
      "text/plain": [
       "<matplotlib.figure.Figure at 0x10f5647b8>"
      ]
     },
     "metadata": {},
     "output_type": "display_data"
    }
   ],
   "source": [
    "plt.imshow(np.array(load_digits.data[10]).reshape(8,8))\n",
    "plt.show()"
   ]
  },
  {
   "cell_type": "code",
   "execution_count": 40,
   "metadata": {
    "collapsed": true
   },
   "outputs": [],
   "source": [
    "X = load_digits.data\n",
    "y = load_digits.target"
   ]
  },
  {
   "cell_type": "markdown",
   "metadata": {},
   "source": [
    "** Variance of an feature with respect to target variable, explains a lot about the relationship between feature and target variable **\n",
    "\n",
    "** We have a list of components included in our list over which we try to explain the variance. As the components are increases the variance increases. What is right number of components ? **"
   ]
  },
  {
   "cell_type": "code",
   "execution_count": 41,
   "metadata": {},
   "outputs": [
    {
     "name": "stdout",
     "output_type": "stream",
     "text": [
      "Explained Variance with  4  Components:  0.431379300562\n",
      "Accuracy Score with Random Forest Classifier 0.788888888889\n",
      "Accuracy Score with Gaussian NB  0.708888888889\n",
      "--------------------------------------------------\n",
      "Explained Variance with  8  Components:  0.662835691107\n",
      "Accuracy Score with Random Forest Classifier 0.931111111111\n",
      "Accuracy Score with Gaussian NB  0.866666666667\n",
      "--------------------------------------------------\n",
      "Explained Variance with  12  Components:  0.779908849429\n",
      "Accuracy Score with Random Forest Classifier 0.948888888889\n",
      "Accuracy Score with Gaussian NB  0.942222222222\n",
      "--------------------------------------------------\n",
      "Explained Variance with  16  Components:  0.847958128738\n",
      "Accuracy Score with Random Forest Classifier 0.962222222222\n",
      "Accuracy Score with Gaussian NB  0.946666666667\n",
      "--------------------------------------------------\n",
      "Explained Variance with  20  Components:  0.894062078056\n",
      "Accuracy Score with Random Forest Classifier 0.951111111111\n",
      "Accuracy Score with Gaussian NB  0.944444444444\n",
      "--------------------------------------------------\n",
      "Explained Variance with  24  Components:  0.925961028517\n",
      "Accuracy Score with Random Forest Classifier 0.913333333333\n",
      "Accuracy Score with Gaussian NB  0.94\n",
      "--------------------------------------------------\n",
      "Explained Variance with  28  Components:  0.949848051575\n",
      "Accuracy Score with Random Forest Classifier 0.926666666667\n",
      "Accuracy Score with Gaussian NB  0.931111111111\n",
      "--------------------------------------------------\n",
      "Explained Variance with  32  Components:  0.96632162913\n",
      "Accuracy Score with Random Forest Classifier 0.948888888889\n",
      "Accuracy Score with Gaussian NB  0.942222222222\n",
      "--------------------------------------------------\n",
      "Explained Variance with  63  Components:  1.0\n",
      "Accuracy Score with Random Forest Classifier 0.891111111111\n",
      "Accuracy Score with Gaussian NB  0.895555555556\n",
      "--------------------------------------------------\n"
     ]
    }
   ],
   "source": [
    "for x in list([4,8,12,16,20,24,28,32,63]):\n",
    "    dimReduction = TruncatedSVD(n_components=x)\n",
    "    X_DR = dimReduction.fit_transform(X)\n",
    "    print(\"Explained Variance with \", x ,\" Components: \" ,dimReduction.explained_variance_ratio_.sum())\n",
    "    X_train,X_test,y_train,y_test = train_test_split(X_DR,y,test_size=0.25)\n",
    "    RFC = RandomForestClassifier()\n",
    "    mnb = GaussianNB()\n",
    "    RFC.fit(X_train,y_train)\n",
    "    mnb.fit(X_train,y_train)\n",
    "    y_pred = RFC.predict(X_test)\n",
    "    y_prediction = mnb.predict(X_test)\n",
    "    print(\"Accuracy Score with Random Forest Classifier\",m.accuracy_score(y_test,y_pred))\n",
    "    print(\"Accuracy Score with Gaussian NB \",m.accuracy_score(y_test,y_prediction))\n",
    "    print(\"--------------------------------------------------\")"
   ]
  },
  {
   "cell_type": "code",
   "execution_count": 42,
   "metadata": {},
   "outputs": [
    {
     "name": "stdout",
     "output_type": "stream",
     "text": [
      "Explained Variance with 4  Components:  0.487139380086\n",
      "Accuracy Score with Random Forest Classifier 0.817777777778\n",
      "Accuracy Score with Gaussian NB 0.755555555556\n",
      "--------------------------------------------------\n",
      "Explained Variance with 8  Components:  0.673904519232\n",
      "Accuracy Score with Random Forest Classifier 0.926666666667\n",
      "Accuracy Score with Gaussian NB 0.882222222222\n",
      "--------------------------------------------------\n",
      "Explained Variance with 12  Components:  0.784673995424\n",
      "Accuracy Score with Random Forest Classifier 0.922222222222\n",
      "Accuracy Score with Gaussian NB 0.902222222222\n",
      "--------------------------------------------------\n",
      "Explained Variance with 16  Components:  0.849398516022\n",
      "Accuracy Score with Random Forest Classifier 0.94\n",
      "Accuracy Score with Gaussian NB 0.917777777778\n",
      "--------------------------------------------------\n",
      "Explained Variance with 20  Components:  0.894295070641\n",
      "Accuracy Score with Random Forest Classifier 0.942222222222\n",
      "Accuracy Score with Gaussian NB 0.924444444444\n",
      "--------------------------------------------------\n",
      "Explained Variance with 24  Components:  0.926071927865\n",
      "Accuracy Score with Random Forest Classifier 0.948888888889\n",
      "Accuracy Score with Gaussian NB 0.942222222222\n",
      "--------------------------------------------------\n",
      "Explained Variance with 28  Components:  0.949881680946\n",
      "Accuracy Score with Random Forest Classifier 0.928888888889\n",
      "Accuracy Score with Gaussian NB 0.955555555556\n",
      "--------------------------------------------------\n",
      "Explained Variance with 32  Components:  0.966350417405\n",
      "Accuracy Score with Random Forest Classifier 0.922222222222\n",
      "Accuracy Score with Gaussian NB 0.942222222222\n",
      "--------------------------------------------------\n",
      "Explained Variance with 63  Components:  1.0\n",
      "Accuracy Score with Random Forest Classifier 0.9\n",
      "Accuracy Score with Gaussian NB 0.902222222222\n",
      "--------------------------------------------------\n"
     ]
    }
   ],
   "source": [
    "for x in list([4,8,12,16,20,24,28,32,63]):\n",
    "    dimReduction = PCA(n_components=x)\n",
    "    X_DR_PCA = dimReduction.fit_transform(X)\n",
    "    print(\"Explained Variance with\", x ,\" Components: \" ,dimReduction.explained_variance_ratio_.sum())\n",
    "    X_train,X_test,y_train,y_test = train_test_split(X_DR_PCA,y,test_size=0.25)\n",
    "    RFC_2 = RandomForestClassifier()\n",
    "    RFC_2.fit(X_train,y_train)\n",
    "    mnb.fit(X_train,y_train)\n",
    "    y_pred = RFC_2.predict(X_test)\n",
    "    y_prediction = mnb.predict(X_test)\n",
    "    print(\"Accuracy Score with Random Forest Classifier\",m.accuracy_score(y_test,y_pred))\n",
    "    print(\"Accuracy Score with Gaussian NB\",m.accuracy_score(y_test,y_prediction))\n",
    "    print(\"--------------------------------------------------\")"
   ]
  },
  {
   "cell_type": "markdown",
   "metadata": {},
   "source": [
    "** From 64 Feature vector to 24 Feature, to get the same result :**\n",
    "We can see from the changes in variance with respect to the components, the changes saturate after n_components is 24 which can seen from the result mentioned below !"
   ]
  },
  {
   "cell_type": "code",
   "execution_count": 43,
   "metadata": {},
   "outputs": [],
   "source": [
    "pca_1_Comp = PCA(n_components=24)\n",
    "X_1 = pca_1_Comp.fit_transform(X)"
   ]
  },
  {
   "cell_type": "code",
   "execution_count": 44,
   "metadata": {},
   "outputs": [
    {
     "data": {
      "text/plain": [
       "0.9260694418377089"
      ]
     },
     "execution_count": 44,
     "metadata": {},
     "output_type": "execute_result"
    }
   ],
   "source": [
    "pca_1_Comp.explained_variance_ratio_.sum()"
   ]
  },
  {
   "cell_type": "code",
   "execution_count": 45,
   "metadata": {
    "collapsed": true
   },
   "outputs": [],
   "source": [
    "from sklearn.model_selection import train_test_split\n",
    "X_train,X_test,y_train,y_test = train_test_split(X_1,y,test_size = 0.2,random_state=1)"
   ]
  },
  {
   "cell_type": "code",
   "execution_count": 46,
   "metadata": {},
   "outputs": [
    {
     "name": "stdout",
     "output_type": "stream",
     "text": [
      "0.936111111111\n"
     ]
    }
   ],
   "source": [
    "from sklearn.naive_bayes import GaussianNB\n",
    "gnb = GaussianNB()\n",
    "gnb.fit(X_train,y_train)\n",
    "y_predict = gnb.predict(X_test)\n",
    "print(m.accuracy_score(y_test,y_predict))"
   ]
  },
  {
   "cell_type": "code",
   "execution_count": null,
   "metadata": {
    "collapsed": true
   },
   "outputs": [],
   "source": []
  }
 ],
 "metadata": {
  "kernelspec": {
   "display_name": "Python 3",
   "language": "python",
   "name": "python3"
  },
  "language_info": {
   "codemirror_mode": {
    "name": "ipython",
    "version": 3
   },
   "file_extension": ".py",
   "mimetype": "text/x-python",
   "name": "python",
   "nbconvert_exporter": "python",
   "pygments_lexer": "ipython3",
   "version": "3.6.1"
  }
 },
 "nbformat": 4,
 "nbformat_minor": 2
}
