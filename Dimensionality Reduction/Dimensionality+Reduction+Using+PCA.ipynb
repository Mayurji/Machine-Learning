{
 "cells": [
  {
   "cell_type": "markdown",
   "metadata": {},
   "source": [
    "# Dimensionality Reduction \n",
    "\n",
    "## What is Dimensionality Reduction ?\n",
    "\n",
    "** To understand Dimensionality Reduction, First we should understand Curse Of Dimensionality. **\n",
    "\n",
    "#### Wikipedia - Curse Of Dimensionality\n",
    "\n",
    "** It refers to various phenomena that arise when analyzing and organizing data in high-dimensional spaces (often with hundreds or thousands of dimensions) that do not occur in low-dimensional settings such as the three-dimensional physical space of everyday experience. **\n",
    "\n",
    "#### Dimensionality Reduction\n",
    "\n",
    "** In machine learning and statistics, dimensionality reduction or dimension reduction is the process of reducing the number of random variables under consideration by obtaining a set of principal variables. **\n",
    "\n",
    "## How to overcome Curse of Dimensionality ?\n",
    "\n",
    "To overcome the above problem, we do dimensionality reduction. There are number of ways of Dimensionality reduction such as feature selection and Feature Extraction.\n",
    "\n",
    "   * PCA\n",
    "   * Missing Value Ratio\n",
    "   * Low Variance Filter\n",
    "   * Backward Feature Elimination\n",
    "   * Forward Feature Construction\n",
    "   * High Correlation Filter\n",
    "   \n",
    "\n",
    "### * PCA\n",
    "\n",
    "   ** Principal Components Analysis means components which are able to explain the maximum amount of variance of the features with respect to target variable, if we include all feature as components then we get the variance of 1. **\n",
    "\n",
    "\n",
    "   ** PCA transforms all the interrelated variable into uncorrelated variable.Each uncorrelated variable is a Principal Component and each components is a linear combination of original variable. ** \n",
    "   \n",
    "   ** Each uncorrelated variable or components holds feature information which is explained as variance.Each component with its variance add upto 1. **\n",
    "\n",
    "   ** Since each principal component is combination of original variable, some principal components explains more variance than others. **\n",
    "   \n",
    "   ** The variance explained by one principal component is uncorrelated with other principal components which means with each component we are learning or explaining a new feature. **\n",
    "   \n",
    "   ** Now raises a question, how many components will be able to explain the maximum variance?. We don't have any text book method for calculating the number of components for a given number of feature or variables.But We can maintain a variance threshold which needs to explained by the variance of the components. **\n",
    "   \n",
    "   ** Consider we have set a threshold variance of 0.8, and if have ten components with a variance as follows 0.3, 0.25, 0.15, 0.1, 0.08, 0.08, 0.07, 0.07. then we can notice 0.3 is a component with maximum variance and is called as *First Principal Component*. Now since the threshold is kept at 0.8, we can add up components untill it reaches a variance of 0.8. **\n",
    "   \n",
    "   ** By adding first 3 components, we have variance explained at 0.7 and by including 4th component we reach a variance of 0.8.So we can including 4 components instead of ten components thus reducing the dimension from 10 to 4. **\n",
    "   \n",
    "   **                                                                                                                         **\n",
    "\n",
    "### * Missing Value Ratio\n",
    "\n",
    "** In a Dataset, We have various columns and each column contains values but if data columns contains missing values then we have think about the feature selection based on Missing value ratio i.e. we can set a threshold for number of Missing value a column may contain and if we have ratio of Missing value greater than the threshold then we can drop the feature. **\n",
    "\n",
    "** Higher the threshold, more aggressive the drop in features. **\n",
    "\n",
    "**                                                                                                                          **\n",
    "\n",
    "### * Low Variance Filter\n",
    "\n",
    "** It is similar to PCA Conceptually i.e. if a column carries very little information or has variance lower than a threshold value then we can drop feature i.e. variance value acts as Filter for Feature Selection. **\n",
    "\n",
    "** Variance is range dependent, so normalization is required before applying this technique ** \n",
    "\n",
    "**                                                                                                                          **\n",
    "\n",
    "### * Backward Feature Elimination\n",
    "\n",
    "** In Simple terms, If a model is trained on n-input feature and error rate is calculated, then again if model is trained on n-1 feature and error rate is calculated, now if error rate is increased by small value then the feature is dropped from the dataset. **\n",
    "\n",
    "** Backward feature Elimination can be performed iteratively to get better feature. **\n",
    "\n",
    "**                                                                                                                          **\n",
    "\n",
    "### * Forward Feature Construction\n",
    "\n",
    "** In this Feature Selection process, we train a model with one feature and calculate the performance measure. We keeping adding feature, one by one and calculate the performance if the performance decreases with increase in Feature, we should drop the feature and if the performance increases with increase in Feature, We iteratively add feature to the model. **\n",
    "\n",
    "**                                                                                                                          **\n",
    "\n",
    "### * High Correlation Filter\n",
    "\n",
    "** Here, If the columns present in the dataset are high correlated then the information becomes redundant and we drop those high redundant variables from features.**\n",
    "\n",
    "** We can calculate the correlation coefficient between Numerical columns / variables. **\n",
    "** We can calculate the correlation coefficient between Nominal columns / variables. **\n",
    "** We can use the pearson product moment coefficient between Numerical columns / variables. **\n",
    "** We can use the pearson Chi squared value between Nominal columns / variables. **\n",
    "\n",
    "** Before doing correlation operation, Perform normalization on the columns as correlation is scale sensitive. **\n",
    "\n",
    "**                                                                                                                          **\n",
    "\n",
    "### Note : \n",
    "** Both Forward Feature Construction and Backward Feature Elimination are computionally expensive tasks. **\n"
   ]
  },
  {
   "cell_type": "markdown",
   "metadata": {},
   "source": [
    "## Understanding Principal Component Analysis\n",
    "\n",
    "** Here we'll try to understand PCA by working on Digit Dataset.Since images have higher dimension, we'll be loading a built in dataset from sklearn.datasets.We make all the import statements respective from loading the dataset to measuring the metrics.**"
   ]
  },
  {
   "cell_type": "code",
   "execution_count": 10,
   "metadata": {
    "collapsed": true
   },
   "outputs": [],
   "source": [
    "from sklearn.datasets import load_digits\n",
    "from sklearn.decomposition import PCA , TruncatedSVD\n",
    "from sklearn.ensemble import RandomForestClassifier\n",
    "from sklearn.naive_bayes import GaussianNB\n",
    "from sklearn.model_selection import train_test_split\n",
    "import sklearn.metrics as m\n",
    "import matplotlib.pyplot as plt\n",
    "import matplotlib.cm as cm\n",
    "import numpy as np\n",
    "import skimage as img\n",
    "import seaborn as sns"
   ]
  },
  {
   "cell_type": "code",
   "execution_count": 11,
   "metadata": {
    "collapsed": true
   },
   "outputs": [],
   "source": [
    "load_digits = load_digits()"
   ]
  },
  {
   "cell_type": "markdown",
   "metadata": {},
   "source": [
    "We are loading the digits dataset for our problem. We can notice that we have around 64 feature representing the digit."
   ]
  },
  {
   "cell_type": "code",
   "execution_count": 12,
   "metadata": {
    "collapsed": false
   },
   "outputs": [
    {
     "data": {
      "text/plain": [
       "(1797, 64)"
      ]
     },
     "execution_count": 12,
     "metadata": {},
     "output_type": "execute_result"
    }
   ],
   "source": [
    "load_digits.data.shape"
   ]
  },
  {
   "cell_type": "code",
   "execution_count": 13,
   "metadata": {
    "collapsed": false
   },
   "outputs": [
    {
     "data": {
      "image/png": "[encoded data removed]",
      "text/plain": [
       "<matplotlib.figure.Figure at 0x4b26358>"
      ]
     },
     "metadata": {},
     "output_type": "display_data"
    }
   ],
   "source": [
    "plt.imshow(np.array(load_digits.data[10]).reshape(8,8))\n",
    "plt.show()"
   ]
  },
  {
   "cell_type": "markdown",
   "metadata": {},
   "source": [
    "Below, we have ***.data*** which represents the feature/independent variable and ***.target*** which represents dependent variable."
   ]
  },
  {
   "cell_type": "code",
   "execution_count": 5,
   "metadata": {
    "collapsed": true
   },
   "outputs": [],
   "source": [
    "X = load_digits.data\n",
    "y = load_digits.target"
   ]
  },
  {
   "cell_type": "markdown",
   "metadata": {},
   "source": [
    "** Variance of an feature with respect to target variable, explains a lot about the relationship between feature and target variable. **\n",
    "\n",
    "** We have a list of components included in our list over which we try to explain the variance. As the components are increasing the variance also increases. **\n",
    "\n",
    "** First, we are iterating over a number of components to find the best match between variance and component. And as we notice the number of components are increased, the explained variance is also increasing but after a certain value the increase components doesn't increase the explained variance which causes saturates the explained variance. **"
   ]
  },
  {
   "cell_type": "markdown",
   "metadata": {},
   "source": [
    "** From the results, we can notice how the variance value increases to 1 when the number of feature included are all the 63 components **"
   ]
  },
  {
   "cell_type": "code",
   "execution_count": 18,
   "metadata": {
    "collapsed": false
   },
   "outputs": [
    {
     "name": "stdout",
     "output_type": "stream",
     "text": [
      "Explained Variance with 4  Components:  0.487139380087\n",
      "Accuracy Score with Random Forest Classifier 0.844444444444\n",
      "Accuracy Score with Gaussian NB 0.806666666667\n",
      "--------------------------------------------------\n",
      "Explained Variance with 8  Components:  0.673905828999\n",
      "Accuracy Score with Random Forest Classifier 0.888888888889\n",
      "Accuracy Score with Gaussian NB 0.866666666667\n",
      "--------------------------------------------------\n",
      "Explained Variance with 12  Components:  0.784674793852\n",
      "Accuracy Score with Random Forest Classifier 0.935555555556\n",
      "Accuracy Score with Gaussian NB 0.928888888889\n",
      "--------------------------------------------------\n",
      "Explained Variance with 16  Components:  0.849396843205\n",
      "Accuracy Score with Random Forest Classifier 0.942222222222\n",
      "Accuracy Score with Gaussian NB 0.928888888889\n",
      "--------------------------------------------------\n",
      "Explained Variance with 20  Components:  0.894294359648\n",
      "Accuracy Score with Random Forest Classifier 0.926666666667\n",
      "Accuracy Score with Gaussian NB 0.946666666667\n",
      "--------------------------------------------------\n",
      "Explained Variance with 24  Components:  0.926064301861\n",
      "Accuracy Score with Random Forest Classifier 0.933333333333\n",
      "Accuracy Score with Gaussian NB 0.94\n",
      "--------------------------------------------------\n",
      "Explained Variance with 28  Components:  0.949897225148\n",
      "Accuracy Score with Random Forest Classifier 0.908888888889\n",
      "Accuracy Score with Gaussian NB 0.924444444444\n",
      "--------------------------------------------------\n",
      "Explained Variance with 32  Components:  0.966352770568\n",
      "Accuracy Score with Random Forest Classifier 0.922222222222\n",
      "Accuracy Score with Gaussian NB 0.928888888889\n",
      "--------------------------------------------------\n",
      "Explained Variance with 63  Components:  1.0\n",
      "Accuracy Score with Random Forest Classifier 0.911111111111\n",
      "Accuracy Score with Gaussian NB 0.933333333333\n",
      "--------------------------------------------------\n"
     ]
    }
   ],
   "source": [
    "variance = []\n",
    "components = [4,8,12,16,20,24,28,32,63]\n",
    "for x in list([4,8,12,16,20,24,28,32,63]):\n",
    "    dimReduction = PCA(n_components=x)\n",
    "    X_DR_PCA = dimReduction.fit_transform(X)\n",
    "    print(\"Explained Variance with\", x ,\" Components: \" ,dimReduction.explained_variance_ratio_.sum())\n",
    "    variance.append(dimReduction.explained_variance_ratio_.sum())\n",
    "    X_train,X_test,y_train,y_test = train_test_split(X_DR_PCA,y,test_size=0.25)\n",
    "    RFC_2 = RandomForestClassifier()\n",
    "    RFC_2.fit(X_train,y_train)\n",
    "    mnb.fit(X_train,y_train)\n",
    "    y_pred = RFC_2.predict(X_test)\n",
    "    y_prediction = mnb.predict(X_test)\n",
    "    print(\"Accuracy Score with Random Forest Classifier\",m.accuracy_score(y_test,y_pred))\n",
    "    print(\"Accuracy Score with Gaussian NB\",m.accuracy_score(y_test,y_prediction))\n",
    "    print(\"--------------------------------------------------\")"
   ]
  },
  {
   "cell_type": "code",
   "execution_count": 26,
   "metadata": {
    "collapsed": false
   },
   "outputs": [
    {
     "data": {
      "image/png": "[encoded data removed]",
      "text/plain": [
       "<matplotlib.figure.Figure at 0xde4ae48>"
      ]
     },
     "metadata": {},
     "output_type": "display_data"
    }
   ],
   "source": [
    "fig = plt.figure()\n",
    "ax = fig.add_subplot(111)\n",
    "plt.plot(variance,components)\n",
    "for xy in zip(variance, components):\n",
    "    ax.annotate('(%s, %s)' % xy, xy=xy, textcoords='data')\n",
    "plt.xlabel(\"Variance Explained\")\n",
    "plt.ylabel(\"Principal Components\")\n",
    "plt.show()"
   ]
  },
  {
   "cell_type": "markdown",
   "metadata": {},
   "source": [
    "**From 64 Feature vector to 24 Feature, to get the same result. We can see from the changes in variance with respect to the components, the changes saturate after n_components is 24 which can be seen from the result mentioned below.Thus we can assign the n_components as 24 i.e. we can explain maximum variance of 0.92 with 24 principal components at the accuracy of 93%. **"
   ]
  },
  {
   "cell_type": "code",
   "execution_count": 29,
   "metadata": {
    "collapsed": false
   },
   "outputs": [
    {
     "name": "stdout",
     "output_type": "stream",
     "text": [
      "Explained Variance:  0.926065743215\n",
      "Accuracy:  0.936111111111\n"
     ]
    }
   ],
   "source": [
    "pca_1_Comp = PCA(n_components=24)\n",
    "X_1 = pca_1_Comp.fit_transform(X)\n",
    "print(\"Explained Variance: \",pca_1_Comp.explained_variance_ratio_.sum())\n",
    "from sklearn.model_selection import train_test_split\n",
    "X_train,X_test,y_train,y_test = train_test_split(X_1,y,test_size = 0.2,random_state=1)\n",
    "from sklearn.naive_bayes import GaussianNB\n",
    "gnb = GaussianNB()\n",
    "gnb.fit(X_train,y_train)\n",
    "y_predict = gnb.predict(X_test)\n",
    "print(\"Accuracy: \",m.accuracy_score(y_test,y_predict))"
   ]
  },
  {
   "cell_type": "code",
   "execution_count": null,
   "metadata": {
    "collapsed": true
   },
   "outputs": [],
   "source": []
  }
 ],
 "metadata": {
  "kernelspec": {
   "display_name": "Python 3",
   "language": "python",
   "name": "python3"
  },
  "language_info": {
   "codemirror_mode": {
    "name": "ipython",
    "version": 3
   },
   "file_extension": ".py",
   "mimetype": "text/x-python",
   "name": "python",
   "nbconvert_exporter": "python",
   "pygments_lexer": "ipython3",
   "version": "3.6.0"
  }
 },
 "nbformat": 4,
 "nbformat_minor": 2
}
